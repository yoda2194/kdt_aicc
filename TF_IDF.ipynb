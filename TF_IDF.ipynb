﻿{
 "cells": [
  {
   "cell_type": "code",
   "id": "initial_id",
   "metadata": {
    "collapsed": true,
    "ExecuteTime": {
     "end_time": "2024-10-26T01:14:12.856473Z",
     "start_time": "2024-10-26T01:14:11.921487Z"
    }
   },
   "source": [
    "file_no = 1\n",
    "file_path = f\"data_file/merged_df{file_no}.csv\"\n",
    "import re, json, os, pandas as pd, time\n",
    "from tqdm import tqdm"
   ],
   "outputs": [],
   "execution_count": 1
  },
  {
   "metadata": {
    "ExecuteTime": {
     "end_time": "2024-10-25T13:06:40.845151Z",
     "start_time": "2024-10-25T13:06:40.839381Z"
    }
   },
   "cell_type": "code",
   "source": [
    "# 문자열 전처리\n",
    "def regular_expression(text):\n",
    "    result = re.sub(r'o|n|b ', r'', text)\n",
    "    result = re.sub(r'\\(\\(\\)\\)',r'', result)\n",
    "    result = re.sub(r'/\\(([^)]+)\\)', r'', result)\n",
    "    result = re.sub(r'\\(', r'', result, count=10)\n",
    "    result = re.sub(r'\\)', r'', result, count=10)\n",
    "    result = re.sub(r'/', r'', result, count=10).strip()\n",
    "    return result\n",
    "\n",
    "#         \n",
    "# # csv 파일들 열어서 전처리 후 재 저장\n",
    "# def open_csv_files():\n",
    "#     root_directory = 'csv_file/'\n",
    "#     root_directory_list = os.listdir(root_directory)\n",
    "#     category = None\n",
    "#     for i in range(len(root_directory_list)):\n",
    "#         file_path = root_directory + str(root_directory_list[i])\n",
    "#         print(file_path)\n",
    "#         \n",
    "#         df = pd.read_csv(file_path)\n",
    "#         print(\"before\", df.isna().sum())\n",
    "#         df.dropna(inplace=True)\n",
    "#         print(\"after\", df.isna().sum())\n",
    "#         \n",
    "#         # 각 data 텍스트 변경\n",
    "#         df[df.columns[0]] = df[df.columns[0]].apply(regular_expression)\n",
    "#         df.to_csv(file_path, index=False)\n",
    "#     "
   ],
   "id": "cf57f0e86d141599",
   "outputs": [],
   "execution_count": 3
  },
  {
   "metadata": {
    "ExecuteTime": {
     "end_time": "2024-10-25T13:06:50.428236Z",
     "start_time": "2024-10-25T13:06:43.231702Z"
    }
   },
   "cell_type": "code",
   "source": "# open_csv_files()",
   "id": "3a72cc50ed923461",
   "outputs": [
    {
     "name": "stdout",
     "output_type": "stream",
     "text": [
      "csv_file/sub_admin.csv\n",
      "before 일반행정    30\n",
      "dtype: int64\n",
      "after 일반행정    0\n",
      "dtype: int64\n",
      "csv_file/sub_city.csv\n",
      "before 도시및경제    0\n",
      "dtype: int64\n",
      "after 도시및경제    0\n",
      "dtype: int64\n",
      "csv_file/sub_culture.csv\n",
      "before 문화및관광    0\n",
      "dtype: int64\n",
      "after 문화및관광    0\n",
      "dtype: int64\n",
      "csv_file/sub_environ.csv\n",
      "before 환경    0\n",
      "dtype: int64\n",
      "after 환경    0\n",
      "dtype: int64\n",
      "csv_file/sub_etc.csv\n",
      "before 기타민원    0\n",
      "dtype: int64\n",
      "after 기타민원    0\n",
      "dtype: int64\n",
      "csv_file/sub_traffic.csv\n",
      "before 교통및차량등록    0\n",
      "dtype: int64\n",
      "after 교통및차량등록    0\n",
      "dtype: int64\n",
      "csv_file/sub_water.csv\n",
      "before 상하수도    2\n",
      "dtype: int64\n",
      "after 상하수도    0\n",
      "dtype: int64\n",
      "csv_file/sub_welfare.csv\n",
      "before 복지    0\n",
      "dtype: int64\n",
      "after 복지    0\n",
      "dtype: int64\n"
     ]
    }
   ],
   "execution_count": 4
  },
  {
   "metadata": {
    "ExecuteTime": {
     "end_time": "2024-10-20T07:27:25.646904Z",
     "start_time": "2024-10-20T07:27:25.643890Z"
    }
   },
   "cell_type": "code",
   "source": "",
   "id": "c668e64894e3e26d",
   "outputs": [],
   "execution_count": 10
  },
  {
   "metadata": {
    "ExecuteTime": {
     "end_time": "2024-10-21T00:40:53.016243Z",
     "start_time": "2024-10-21T00:40:53.011283Z"
    }
   },
   "cell_type": "code",
   "source": "# admin_df, city_df, culture_df, environ_df, etc_df, traffic_df, water_df, welfare_df = df_list",
   "id": "3c85d3ee1475f4b5",
   "outputs": [],
   "execution_count": 3
  },
  {
   "metadata": {
    "ExecuteTime": {
     "end_time": "2024-10-21T00:40:54.379748Z",
     "start_time": "2024-10-21T00:40:54.359377Z"
    }
   },
   "cell_type": "code",
   "source": [
    "# for df in df_list:\n",
    "#     df['label'] = str(list(df.columns)[0])\n",
    "#     df.columns = ['text','label']\n",
    "# admin_df"
   ],
   "id": "b965a3aabf43ce78",
   "outputs": [
    {
     "data": {
      "text/plain": [
       "                                                     text label\n",
       "0                                            예, 아유 수고하세요.  일반행정\n",
       "1                                            여쭤볼려고 그러는데요.  일반행정\n",
       "2                                     그 지금 그거 뭘로 들어가 있어요?  일반행정\n",
       "3                                               예, 알겠습니다.  일반행정\n",
       "4                                   다른 더 확인해 드릴 것은 없으십니까?  일반행정\n",
       "...                                                   ...   ...\n",
       "179541              토지라 하셨고요. 제가 번호 안내 도와드릴 텐데 메모 가능하십니까?  일반행정\n",
       "179542  다만 지금 1시까지가 네, 점심시간이라 연결이 좀 지연될 수 있는 점은 양해 부탁드...  일반행정\n",
       "179543                                          네, 알겠습니다.  일반행정\n",
       "179544                                   더 다른 문의사항 있으십니까?  일반행정\n",
       "179545                                         아니요. 없습니다.  일반행정\n",
       "\n",
       "[179546 rows x 2 columns]"
      ],
      "text/html": [
       "<div>\n",
       "<style scoped>\n",
       "    .dataframe tbody tr th:only-of-type {\n",
       "        vertical-align: middle;\n",
       "    }\n",
       "\n",
       "    .dataframe tbody tr th {\n",
       "        vertical-align: top;\n",
       "    }\n",
       "\n",
       "    .dataframe thead th {\n",
       "        text-align: right;\n",
       "    }\n",
       "</style>\n",
       "<table border=\"1\" class=\"dataframe\">\n",
       "  <thead>\n",
       "    <tr style=\"text-align: right;\">\n",
       "      <th></th>\n",
       "      <th>text</th>\n",
       "      <th>label</th>\n",
       "    </tr>\n",
       "  </thead>\n",
       "  <tbody>\n",
       "    <tr>\n",
       "      <th>0</th>\n",
       "      <td>예, 아유 수고하세요.</td>\n",
       "      <td>일반행정</td>\n",
       "    </tr>\n",
       "    <tr>\n",
       "      <th>1</th>\n",
       "      <td>여쭤볼려고 그러는데요.</td>\n",
       "      <td>일반행정</td>\n",
       "    </tr>\n",
       "    <tr>\n",
       "      <th>2</th>\n",
       "      <td>그 지금 그거 뭘로 들어가 있어요?</td>\n",
       "      <td>일반행정</td>\n",
       "    </tr>\n",
       "    <tr>\n",
       "      <th>3</th>\n",
       "      <td>예, 알겠습니다.</td>\n",
       "      <td>일반행정</td>\n",
       "    </tr>\n",
       "    <tr>\n",
       "      <th>4</th>\n",
       "      <td>다른 더 확인해 드릴 것은 없으십니까?</td>\n",
       "      <td>일반행정</td>\n",
       "    </tr>\n",
       "    <tr>\n",
       "      <th>...</th>\n",
       "      <td>...</td>\n",
       "      <td>...</td>\n",
       "    </tr>\n",
       "    <tr>\n",
       "      <th>179541</th>\n",
       "      <td>토지라 하셨고요. 제가 번호 안내 도와드릴 텐데 메모 가능하십니까?</td>\n",
       "      <td>일반행정</td>\n",
       "    </tr>\n",
       "    <tr>\n",
       "      <th>179542</th>\n",
       "      <td>다만 지금 1시까지가 네, 점심시간이라 연결이 좀 지연될 수 있는 점은 양해 부탁드...</td>\n",
       "      <td>일반행정</td>\n",
       "    </tr>\n",
       "    <tr>\n",
       "      <th>179543</th>\n",
       "      <td>네, 알겠습니다.</td>\n",
       "      <td>일반행정</td>\n",
       "    </tr>\n",
       "    <tr>\n",
       "      <th>179544</th>\n",
       "      <td>더 다른 문의사항 있으십니까?</td>\n",
       "      <td>일반행정</td>\n",
       "    </tr>\n",
       "    <tr>\n",
       "      <th>179545</th>\n",
       "      <td>아니요. 없습니다.</td>\n",
       "      <td>일반행정</td>\n",
       "    </tr>\n",
       "  </tbody>\n",
       "</table>\n",
       "<p>179546 rows × 2 columns</p>\n",
       "</div>"
      ]
     },
     "execution_count": 4,
     "metadata": {},
     "output_type": "execute_result"
    }
   ],
   "execution_count": 4
  },
  {
   "metadata": {
    "ExecuteTime": {
     "end_time": "2024-10-25T13:07:34.923224Z",
     "start_time": "2024-10-25T13:07:34.593448Z"
    }
   },
   "cell_type": "code",
   "source": [
    "welfare_df = pd.read_csv(file_path)\n",
    "welfare_df.head()"
   ],
   "id": "a04f00ef33d1d09c",
   "outputs": [
    {
     "data": {
      "text/plain": [
       "                                              X  \\\n",
       "0                                     네, 안녕하세요?   \n",
       "1         다름이 아니고 저희 아들이 디딤 씨앗 통장을. 해지하려고 하는데요.   \n",
       "2                                     네, 알겠습니다.   \n",
       "3                                     네, 알겠습니다.   \n",
       "4  아 저 몇 가지 여쭤볼 게 있어가지고요. 여쭤보려면 어디로 통화를 해야 되나요?   \n",
       "\n",
       "                                                   Y label  \n",
       "0                                         네, 안녕하십니까?    복지  \n",
       "1          죄송합니다만 제가 답변이 어렵기 때문에 담당자 연결해 드리도록 하겠습니다.    복지  \n",
       "2       고객님 혹시라도 연결 중 전화가 끊긴다면. 예, 담당자 바로 연결해드리겠습니다.    복지  \n",
       "3  네, 좋은 상담 이어 가세요. 고객님께서 디딤 씨앗 통장 해지 관련으로 문의하세요....    복지  \n",
       "4                               혹시 어떤 불편사항이신가요? 고객님.    복지  "
      ],
      "text/html": [
       "<div>\n",
       "<style scoped>\n",
       "    .dataframe tbody tr th:only-of-type {\n",
       "        vertical-align: middle;\n",
       "    }\n",
       "\n",
       "    .dataframe tbody tr th {\n",
       "        vertical-align: top;\n",
       "    }\n",
       "\n",
       "    .dataframe thead th {\n",
       "        text-align: right;\n",
       "    }\n",
       "</style>\n",
       "<table border=\"1\" class=\"dataframe\">\n",
       "  <thead>\n",
       "    <tr style=\"text-align: right;\">\n",
       "      <th></th>\n",
       "      <th>X</th>\n",
       "      <th>Y</th>\n",
       "      <th>label</th>\n",
       "    </tr>\n",
       "  </thead>\n",
       "  <tbody>\n",
       "    <tr>\n",
       "      <th>0</th>\n",
       "      <td>네, 안녕하세요?</td>\n",
       "      <td>네, 안녕하십니까?</td>\n",
       "      <td>복지</td>\n",
       "    </tr>\n",
       "    <tr>\n",
       "      <th>1</th>\n",
       "      <td>다름이 아니고 저희 아들이 디딤 씨앗 통장을. 해지하려고 하는데요.</td>\n",
       "      <td>죄송합니다만 제가 답변이 어렵기 때문에 담당자 연결해 드리도록 하겠습니다.</td>\n",
       "      <td>복지</td>\n",
       "    </tr>\n",
       "    <tr>\n",
       "      <th>2</th>\n",
       "      <td>네, 알겠습니다.</td>\n",
       "      <td>고객님 혹시라도 연결 중 전화가 끊긴다면. 예, 담당자 바로 연결해드리겠습니다.</td>\n",
       "      <td>복지</td>\n",
       "    </tr>\n",
       "    <tr>\n",
       "      <th>3</th>\n",
       "      <td>네, 알겠습니다.</td>\n",
       "      <td>네, 좋은 상담 이어 가세요. 고객님께서 디딤 씨앗 통장 해지 관련으로 문의하세요....</td>\n",
       "      <td>복지</td>\n",
       "    </tr>\n",
       "    <tr>\n",
       "      <th>4</th>\n",
       "      <td>아 저 몇 가지 여쭤볼 게 있어가지고요. 여쭤보려면 어디로 통화를 해야 되나요?</td>\n",
       "      <td>혹시 어떤 불편사항이신가요? 고객님.</td>\n",
       "      <td>복지</td>\n",
       "    </tr>\n",
       "  </tbody>\n",
       "</table>\n",
       "</div>"
      ]
     },
     "execution_count": 5,
     "metadata": {},
     "output_type": "execute_result"
    }
   ],
   "execution_count": 5
  },
  {
   "metadata": {
    "ExecuteTime": {
     "end_time": "2024-10-25T13:07:46.154811Z",
     "start_time": "2024-10-25T13:07:45.963096Z"
    }
   },
   "cell_type": "code",
   "source": [
    "file_no2 = 2\n",
    "file_path2 = f\"data_file/merged_df{file_no2}.csv\"\n",
    "admin_df = pd.read_csv(file_path2)\n",
    "admin_df.head()"
   ],
   "id": "86e93b88b8261a7b",
   "outputs": [
    {
     "data": {
      "text/plain": [
       "                                                   X  \\\n",
       "0  예, 아유 수고하세요. 여쭤볼려고 그러는데요. 그 지금 그거 뭘로 들어가 있어요? ...   \n",
       "1                                              여보세요.   \n",
       "2                            예, 통장에 교육청소년과로 해서 찍혔는데.   \n",
       "3                                      혹시 보내주셨나 해서요.   \n",
       "4                                     출처를 잘 모르겠어가지고.   \n",
       "\n",
       "                                        Y label  \n",
       "0    다른 더 확인해 드릴 것은 없으십니까? 그럼 좋은 하루 보내세요.  일반행정  \n",
       "1                   네, 안녕하세요. 무엇을 도와드릴까요?  일반행정  \n",
       "2                                   네, 네.  일반행정  \n",
       "3              교육청소년과로 해서 입금이 됐다는 말씀이십니까?  일반행정  \n",
       "4  혹시 고객님 뭐 학자금 대출 이자 관련으로 신청하신 적은 없으십니까?  일반행정  "
      ],
      "text/html": [
       "<div>\n",
       "<style scoped>\n",
       "    .dataframe tbody tr th:only-of-type {\n",
       "        vertical-align: middle;\n",
       "    }\n",
       "\n",
       "    .dataframe tbody tr th {\n",
       "        vertical-align: top;\n",
       "    }\n",
       "\n",
       "    .dataframe thead th {\n",
       "        text-align: right;\n",
       "    }\n",
       "</style>\n",
       "<table border=\"1\" class=\"dataframe\">\n",
       "  <thead>\n",
       "    <tr style=\"text-align: right;\">\n",
       "      <th></th>\n",
       "      <th>X</th>\n",
       "      <th>Y</th>\n",
       "      <th>label</th>\n",
       "    </tr>\n",
       "  </thead>\n",
       "  <tbody>\n",
       "    <tr>\n",
       "      <th>0</th>\n",
       "      <td>예, 아유 수고하세요. 여쭤볼려고 그러는데요. 그 지금 그거 뭘로 들어가 있어요? ...</td>\n",
       "      <td>다른 더 확인해 드릴 것은 없으십니까? 그럼 좋은 하루 보내세요.</td>\n",
       "      <td>일반행정</td>\n",
       "    </tr>\n",
       "    <tr>\n",
       "      <th>1</th>\n",
       "      <td>여보세요.</td>\n",
       "      <td>네, 안녕하세요. 무엇을 도와드릴까요?</td>\n",
       "      <td>일반행정</td>\n",
       "    </tr>\n",
       "    <tr>\n",
       "      <th>2</th>\n",
       "      <td>예, 통장에 교육청소년과로 해서 찍혔는데.</td>\n",
       "      <td>네, 네.</td>\n",
       "      <td>일반행정</td>\n",
       "    </tr>\n",
       "    <tr>\n",
       "      <th>3</th>\n",
       "      <td>혹시 보내주셨나 해서요.</td>\n",
       "      <td>교육청소년과로 해서 입금이 됐다는 말씀이십니까?</td>\n",
       "      <td>일반행정</td>\n",
       "    </tr>\n",
       "    <tr>\n",
       "      <th>4</th>\n",
       "      <td>출처를 잘 모르겠어가지고.</td>\n",
       "      <td>혹시 고객님 뭐 학자금 대출 이자 관련으로 신청하신 적은 없으십니까?</td>\n",
       "      <td>일반행정</td>\n",
       "    </tr>\n",
       "  </tbody>\n",
       "</table>\n",
       "</div>"
      ]
     },
     "execution_count": 6,
     "metadata": {},
     "output_type": "execute_result"
    }
   ],
   "execution_count": 6
  },
  {
   "metadata": {
    "ExecuteTime": {
     "end_time": "2024-10-25T13:07:48.084213Z",
     "start_time": "2024-10-25T13:07:48.068851Z"
    }
   },
   "cell_type": "code",
   "source": [
    "df = pd.concat([welfare_df, admin_df], axis=0, ignore_index=True)\n",
    "print(df['label'].value_counts(ascending=True))\n",
    "\n",
    "df.tail()"
   ],
   "id": "46c7b52fcf2febd1",
   "outputs": [
    {
     "name": "stdout",
     "output_type": "stream",
     "text": [
      "label\n",
      "일반행정    41218\n",
      "복지      65850\n",
      "Name: count, dtype: int64\n"
     ]
    },
    {
     "data": {
      "text/plain": [
       "                                                        X  \\\n",
       "107063  네, 그까 일단 이 차량이 어디 소속인지 자체도 잘 모르시길래 우선 제가 확인을 하...   \n",
       "107064                           아 네, 네, 민원인 번호 말씀드리겠습니다.   \n",
       "107065                                          네, 감사합니다.   \n",
       "107066                      재산세 담당하시는 분 자리 전화 번호 좀 부탁합니다.   \n",
       "107067                                          네, 알겠습니다.   \n",
       "\n",
       "                                                        Y label  \n",
       "107063               아 그렇습니까?  그라믄 그분 혹시 핸드폰 번호 알 수 있습니까?  일반행정  \n",
       "107064                                          네, 감사합니다.  일반행정  \n",
       "107065                                        무엇을 도와드릴까요?  일반행정  \n",
       "107066  재산세 담당자 말씀이십니까? 실례지만 주택분이신가요 토지분이신가요? 토지라 하셨고요...  일반행정  \n",
       "107067                                   더 다른 문의사항 있으십니까?  일반행정  "
      ],
      "text/html": [
       "<div>\n",
       "<style scoped>\n",
       "    .dataframe tbody tr th:only-of-type {\n",
       "        vertical-align: middle;\n",
       "    }\n",
       "\n",
       "    .dataframe tbody tr th {\n",
       "        vertical-align: top;\n",
       "    }\n",
       "\n",
       "    .dataframe thead th {\n",
       "        text-align: right;\n",
       "    }\n",
       "</style>\n",
       "<table border=\"1\" class=\"dataframe\">\n",
       "  <thead>\n",
       "    <tr style=\"text-align: right;\">\n",
       "      <th></th>\n",
       "      <th>X</th>\n",
       "      <th>Y</th>\n",
       "      <th>label</th>\n",
       "    </tr>\n",
       "  </thead>\n",
       "  <tbody>\n",
       "    <tr>\n",
       "      <th>107063</th>\n",
       "      <td>네, 그까 일단 이 차량이 어디 소속인지 자체도 잘 모르시길래 우선 제가 확인을 하...</td>\n",
       "      <td>아 그렇습니까?  그라믄 그분 혹시 핸드폰 번호 알 수 있습니까?</td>\n",
       "      <td>일반행정</td>\n",
       "    </tr>\n",
       "    <tr>\n",
       "      <th>107064</th>\n",
       "      <td>아 네, 네, 민원인 번호 말씀드리겠습니다.</td>\n",
       "      <td>네, 감사합니다.</td>\n",
       "      <td>일반행정</td>\n",
       "    </tr>\n",
       "    <tr>\n",
       "      <th>107065</th>\n",
       "      <td>네, 감사합니다.</td>\n",
       "      <td>무엇을 도와드릴까요?</td>\n",
       "      <td>일반행정</td>\n",
       "    </tr>\n",
       "    <tr>\n",
       "      <th>107066</th>\n",
       "      <td>재산세 담당하시는 분 자리 전화 번호 좀 부탁합니다.</td>\n",
       "      <td>재산세 담당자 말씀이십니까? 실례지만 주택분이신가요 토지분이신가요? 토지라 하셨고요...</td>\n",
       "      <td>일반행정</td>\n",
       "    </tr>\n",
       "    <tr>\n",
       "      <th>107067</th>\n",
       "      <td>네, 알겠습니다.</td>\n",
       "      <td>더 다른 문의사항 있으십니까?</td>\n",
       "      <td>일반행정</td>\n",
       "    </tr>\n",
       "  </tbody>\n",
       "</table>\n",
       "</div>"
      ]
     },
     "execution_count": 7,
     "metadata": {},
     "output_type": "execute_result"
    }
   ],
   "execution_count": 7
  },
  {
   "metadata": {
    "ExecuteTime": {
     "end_time": "2024-10-25T13:07:50.552699Z",
     "start_time": "2024-10-25T13:07:50.541805Z"
    }
   },
   "cell_type": "code",
   "source": [
    "# 라벨링\n",
    "# match_idx = {\n",
    "#     '일반행정' : 0,\n",
    "#     '도시및경제' : 1,\n",
    "#     '문화및관광' : 2,\n",
    "#     '환경' : 3,\n",
    "#     '기타민원' : 4,\n",
    "#     '교통및차량등록' : 5,\n",
    "#     '상하수도' : 6,\n",
    "#     '복지' : 7\n",
    "# }\n",
    "match_idx = {\n",
    "    '복지':0,\n",
    "    '일반행정':1\n",
    "}\n",
    "\n",
    "df['label'] = df['label'].map(match_idx)"
   ],
   "id": "9aa9a6ffc1091ae4",
   "outputs": [],
   "execution_count": 8
  },
  {
   "metadata": {
    "ExecuteTime": {
     "end_time": "2024-10-25T13:07:52.233323Z",
     "start_time": "2024-10-25T13:07:52.226239Z"
    }
   },
   "cell_type": "code",
   "source": "df.tail()",
   "id": "449ea5246228496b",
   "outputs": [
    {
     "data": {
      "text/plain": [
       "                                                        X  \\\n",
       "107063  네, 그까 일단 이 차량이 어디 소속인지 자체도 잘 모르시길래 우선 제가 확인을 하...   \n",
       "107064                           아 네, 네, 민원인 번호 말씀드리겠습니다.   \n",
       "107065                                          네, 감사합니다.   \n",
       "107066                      재산세 담당하시는 분 자리 전화 번호 좀 부탁합니다.   \n",
       "107067                                          네, 알겠습니다.   \n",
       "\n",
       "                                                        Y  label  \n",
       "107063               아 그렇습니까?  그라믄 그분 혹시 핸드폰 번호 알 수 있습니까?      1  \n",
       "107064                                          네, 감사합니다.      1  \n",
       "107065                                        무엇을 도와드릴까요?      1  \n",
       "107066  재산세 담당자 말씀이십니까? 실례지만 주택분이신가요 토지분이신가요? 토지라 하셨고요...      1  \n",
       "107067                                   더 다른 문의사항 있으십니까?      1  "
      ],
      "text/html": [
       "<div>\n",
       "<style scoped>\n",
       "    .dataframe tbody tr th:only-of-type {\n",
       "        vertical-align: middle;\n",
       "    }\n",
       "\n",
       "    .dataframe tbody tr th {\n",
       "        vertical-align: top;\n",
       "    }\n",
       "\n",
       "    .dataframe thead th {\n",
       "        text-align: right;\n",
       "    }\n",
       "</style>\n",
       "<table border=\"1\" class=\"dataframe\">\n",
       "  <thead>\n",
       "    <tr style=\"text-align: right;\">\n",
       "      <th></th>\n",
       "      <th>X</th>\n",
       "      <th>Y</th>\n",
       "      <th>label</th>\n",
       "    </tr>\n",
       "  </thead>\n",
       "  <tbody>\n",
       "    <tr>\n",
       "      <th>107063</th>\n",
       "      <td>네, 그까 일단 이 차량이 어디 소속인지 자체도 잘 모르시길래 우선 제가 확인을 하...</td>\n",
       "      <td>아 그렇습니까?  그라믄 그분 혹시 핸드폰 번호 알 수 있습니까?</td>\n",
       "      <td>1</td>\n",
       "    </tr>\n",
       "    <tr>\n",
       "      <th>107064</th>\n",
       "      <td>아 네, 네, 민원인 번호 말씀드리겠습니다.</td>\n",
       "      <td>네, 감사합니다.</td>\n",
       "      <td>1</td>\n",
       "    </tr>\n",
       "    <tr>\n",
       "      <th>107065</th>\n",
       "      <td>네, 감사합니다.</td>\n",
       "      <td>무엇을 도와드릴까요?</td>\n",
       "      <td>1</td>\n",
       "    </tr>\n",
       "    <tr>\n",
       "      <th>107066</th>\n",
       "      <td>재산세 담당하시는 분 자리 전화 번호 좀 부탁합니다.</td>\n",
       "      <td>재산세 담당자 말씀이십니까? 실례지만 주택분이신가요 토지분이신가요? 토지라 하셨고요...</td>\n",
       "      <td>1</td>\n",
       "    </tr>\n",
       "    <tr>\n",
       "      <th>107067</th>\n",
       "      <td>네, 알겠습니다.</td>\n",
       "      <td>더 다른 문의사항 있으십니까?</td>\n",
       "      <td>1</td>\n",
       "    </tr>\n",
       "  </tbody>\n",
       "</table>\n",
       "</div>"
      ]
     },
     "execution_count": 9,
     "metadata": {},
     "output_type": "execute_result"
    }
   ],
   "execution_count": 9
  },
  {
   "metadata": {},
   "cell_type": "markdown",
   "source": "결측값 제거",
   "id": "1d71acb6954e7c76"
  },
  {
   "metadata": {
    "ExecuteTime": {
     "end_time": "2024-10-25T13:07:54.903532Z",
     "start_time": "2024-10-25T13:07:54.875029Z"
    }
   },
   "cell_type": "code",
   "source": [
    "print(len(df))\n",
    "text_data = df.dropna()\n",
    "text_data = text_data.reset_index(drop=True)\n",
    "print(len(text_data))\n",
    "text_data.tail()"
   ],
   "id": "d2b58f097430a221",
   "outputs": [
    {
     "name": "stdout",
     "output_type": "stream",
     "text": [
      "107068\n",
      "107068\n"
     ]
    },
    {
     "data": {
      "text/plain": [
       "                                                        X  \\\n",
       "107063  네, 그까 일단 이 차량이 어디 소속인지 자체도 잘 모르시길래 우선 제가 확인을 하...   \n",
       "107064                           아 네, 네, 민원인 번호 말씀드리겠습니다.   \n",
       "107065                                          네, 감사합니다.   \n",
       "107066                      재산세 담당하시는 분 자리 전화 번호 좀 부탁합니다.   \n",
       "107067                                          네, 알겠습니다.   \n",
       "\n",
       "                                                        Y  label  \n",
       "107063               아 그렇습니까?  그라믄 그분 혹시 핸드폰 번호 알 수 있습니까?      1  \n",
       "107064                                          네, 감사합니다.      1  \n",
       "107065                                        무엇을 도와드릴까요?      1  \n",
       "107066  재산세 담당자 말씀이십니까? 실례지만 주택분이신가요 토지분이신가요? 토지라 하셨고요...      1  \n",
       "107067                                   더 다른 문의사항 있으십니까?      1  "
      ],
      "text/html": [
       "<div>\n",
       "<style scoped>\n",
       "    .dataframe tbody tr th:only-of-type {\n",
       "        vertical-align: middle;\n",
       "    }\n",
       "\n",
       "    .dataframe tbody tr th {\n",
       "        vertical-align: top;\n",
       "    }\n",
       "\n",
       "    .dataframe thead th {\n",
       "        text-align: right;\n",
       "    }\n",
       "</style>\n",
       "<table border=\"1\" class=\"dataframe\">\n",
       "  <thead>\n",
       "    <tr style=\"text-align: right;\">\n",
       "      <th></th>\n",
       "      <th>X</th>\n",
       "      <th>Y</th>\n",
       "      <th>label</th>\n",
       "    </tr>\n",
       "  </thead>\n",
       "  <tbody>\n",
       "    <tr>\n",
       "      <th>107063</th>\n",
       "      <td>네, 그까 일단 이 차량이 어디 소속인지 자체도 잘 모르시길래 우선 제가 확인을 하...</td>\n",
       "      <td>아 그렇습니까?  그라믄 그분 혹시 핸드폰 번호 알 수 있습니까?</td>\n",
       "      <td>1</td>\n",
       "    </tr>\n",
       "    <tr>\n",
       "      <th>107064</th>\n",
       "      <td>아 네, 네, 민원인 번호 말씀드리겠습니다.</td>\n",
       "      <td>네, 감사합니다.</td>\n",
       "      <td>1</td>\n",
       "    </tr>\n",
       "    <tr>\n",
       "      <th>107065</th>\n",
       "      <td>네, 감사합니다.</td>\n",
       "      <td>무엇을 도와드릴까요?</td>\n",
       "      <td>1</td>\n",
       "    </tr>\n",
       "    <tr>\n",
       "      <th>107066</th>\n",
       "      <td>재산세 담당하시는 분 자리 전화 번호 좀 부탁합니다.</td>\n",
       "      <td>재산세 담당자 말씀이십니까? 실례지만 주택분이신가요 토지분이신가요? 토지라 하셨고요...</td>\n",
       "      <td>1</td>\n",
       "    </tr>\n",
       "    <tr>\n",
       "      <th>107067</th>\n",
       "      <td>네, 알겠습니다.</td>\n",
       "      <td>더 다른 문의사항 있으십니까?</td>\n",
       "      <td>1</td>\n",
       "    </tr>\n",
       "  </tbody>\n",
       "</table>\n",
       "</div>"
      ]
     },
     "execution_count": 10,
     "metadata": {},
     "output_type": "execute_result"
    }
   ],
   "execution_count": 10
  },
  {
   "metadata": {
    "ExecuteTime": {
     "end_time": "2024-10-25T13:07:57.183470Z",
     "start_time": "2024-10-25T13:07:57.168723Z"
    }
   },
   "cell_type": "code",
   "source": "text_data.info()",
   "id": "b3dea9e0a345767d",
   "outputs": [
    {
     "name": "stdout",
     "output_type": "stream",
     "text": [
      "<class 'pandas.core.frame.DataFrame'>\n",
      "RangeIndex: 107068 entries, 0 to 107067\n",
      "Data columns (total 3 columns):\n",
      " #   Column  Non-Null Count   Dtype \n",
      "---  ------  --------------   ----- \n",
      " 0   X       107068 non-null  object\n",
      " 1   Y       107068 non-null  object\n",
      " 2   label   107068 non-null  int64 \n",
      "dtypes: int64(1), object(2)\n",
      "memory usage: 2.5+ MB\n"
     ]
    }
   ],
   "execution_count": 11
  },
  {
   "metadata": {},
   "cell_type": "markdown",
   "source": "## 토큰화",
   "id": "87ae61815e6f44aa"
  },
  {
   "metadata": {
    "ExecuteTime": {
     "end_time": "2024-10-26T01:14:16.135522Z",
     "start_time": "2024-10-26T01:14:12.866476Z"
    }
   },
   "cell_type": "code",
   "source": [
    "from konlpy.tag import Okt, Komoran, Kkma, Hannanum\n",
    "okt = Okt()\n",
    "komoran = Komoran()\n",
    "kkma = Kkma()\n",
    "hannanum = Hannanum()"
   ],
   "id": "d623263e58f74aad",
   "outputs": [],
   "execution_count": 2
  },
  {
   "metadata": {
    "ExecuteTime": {
     "end_time": "2024-10-26T01:17:21.680936Z",
     "start_time": "2024-10-26T01:17:21.676434Z"
    }
   },
   "cell_type": "code",
   "source": [
    "# 시간개오래걸림\n",
    "# def token(dataframe):\n",
    "#     tokenized = []\n",
    "#     for sentence in tqdm(dataframe['text'], desc='dataFrame iterate'):\n",
    "#         time.sleep(0.1)\n",
    "#         tokens = okt.morphs(sentence)\n",
    "#         tokenize = \" \".join(tokens)\n",
    "#         tokenized.append(tokenize)\n",
    "# \n",
    "#         dataframe['tokenized'] = pd.DataFrame(tokenized)\n",
    "\n",
    "# pandas tqdm\n",
    "tqdm.pandas(desc=\"Tokenizing\")\n",
    "# 최적화 1번\n",
    "def token(dataframe, col_name, mode):\n",
    "    if mode == 'okt':\n",
    "        print(\"okt tokenizing\")\n",
    "        return dataframe[col_name].progress_apply(lambda sentence: \" \".join(okt.morphs(sentence)))\n",
    "    elif mode == 'komoran':\n",
    "        print(\"komoran tokenizing\")\n",
    "        return dataframe[col_name].progress_apply(lambda sentence: \" \".join(komoran.morphs(sentence)))\n",
    "    elif mode == 'kkma':\n",
    "        print(\"kkma tokenizing\")\n",
    "        return dataframe[col_name].progress_apply(lambda sentence: \" \".join(kkma.morphs(sentence)))\n",
    "    elif mode == 'hannanum':\n",
    "        print(\"hannanum tokenizing\")\n",
    "        return dataframe[col_name].progress_apply(lambda sentence: \" \".join(hannanum.morphs(sentence)))\n",
    "    \n"
   ],
   "id": "441451eb5d741412",
   "outputs": [],
   "execution_count": 11
  },
  {
   "metadata": {
    "ExecuteTime": {
     "end_time": "2024-10-25T13:41:22.353222Z",
     "start_time": "2024-10-25T13:41:22.327714Z"
    }
   },
   "cell_type": "code",
   "source": [
    "test_okt = text_data.copy()\n",
    "test_komoran = text_data.copy()\n",
    "test_kkma = text_data.copy()\n",
    "test_hannanum = text_data.copy()\n"
   ],
   "id": "2057c77f5e44f40d",
   "outputs": [],
   "execution_count": 24
  },
  {
   "metadata": {
    "ExecuteTime": {
     "end_time": "2024-10-25T13:41:23.716983Z",
     "start_time": "2024-10-25T13:41:23.712948Z"
    }
   },
   "cell_type": "code",
   "source": [
    "print(test_okt.shape)\n",
    "print(test_komoran.shape)\n",
    "print(test_kkma.shape)\n",
    "print(test_hannanum.shape)"
   ],
   "id": "df41f80d8a22df40",
   "outputs": [
    {
     "name": "stdout",
     "output_type": "stream",
     "text": [
      "(107068, 3)\n",
      "(107068, 3)\n",
      "(107068, 3)\n",
      "(107068, 3)\n"
     ]
    }
   ],
   "execution_count": 25
  },
  {
   "metadata": {
    "ExecuteTime": {
     "end_time": "2024-10-25T14:35:24.091972Z",
     "start_time": "2024-10-25T13:41:55.159605Z"
    }
   },
   "cell_type": "code",
   "source": [
    "\n",
    "# test['tokenized'] = test.progress_apply(lambda row : token(row['text']), axis=1)\n",
    "\n",
    "test_okt['X'] = token(test_okt, 'X', 'okt')\n",
    "test_okt['Y'] = token(test_okt, 'Y', 'okt')\n",
    "print()\n",
    "\n",
    "test_komoran['X'] = token(test_komoran, 'X', 'komoran')\n",
    "test_komoran['Y'] = token(test_komoran, 'Y', 'komoran')\n",
    "print()\n",
    "test_kkma['X'] = token(test_kkma, 'X', 'kkma')\n",
    "test_kkma['Y'] = token(test_kkma, 'Y', 'kkma')\n",
    "print()\n",
    "test_hannanum['X'] = token(test_hannanum, 'X', 'hannanum')\n",
    "test_hannanum['Y'] = token(test_hannanum, 'Y', 'hannanum')\n",
    "print()"
   ],
   "id": "8fd0b377b04b49b",
   "outputs": [
    {
     "name": "stdout",
     "output_type": "stream",
     "text": [
      "okt tokenizing\n"
     ]
    },
    {
     "name": "stderr",
     "output_type": "stream",
     "text": [
      "Tokenizing: 100%|██████████| 107068/107068 [01:08<00:00, 1570.48it/s]\n"
     ]
    },
    {
     "name": "stdout",
     "output_type": "stream",
     "text": [
      "okt tokenizing\n"
     ]
    },
    {
     "name": "stderr",
     "output_type": "stream",
     "text": [
      "Tokenizing: 100%|██████████| 107068/107068 [02:02<00:00, 873.93it/s] \n"
     ]
    },
    {
     "name": "stdout",
     "output_type": "stream",
     "text": [
      "\n",
      "komoran tokenizing\n"
     ]
    },
    {
     "name": "stderr",
     "output_type": "stream",
     "text": [
      "Tokenizing: 100%|██████████| 107068/107068 [00:36<00:00, 2935.04it/s]\n"
     ]
    },
    {
     "name": "stdout",
     "output_type": "stream",
     "text": [
      "komoran tokenizing\n"
     ]
    },
    {
     "name": "stderr",
     "output_type": "stream",
     "text": [
      "Tokenizing: 100%|██████████| 107068/107068 [01:02<00:00, 1720.55it/s]\n"
     ]
    },
    {
     "name": "stdout",
     "output_type": "stream",
     "text": [
      "\n",
      "kkma tokenizing\n"
     ]
    },
    {
     "name": "stderr",
     "output_type": "stream",
     "text": [
      "Tokenizing: 100%|██████████| 107068/107068 [13:46<00:00, 129.54it/s]\n"
     ]
    },
    {
     "name": "stdout",
     "output_type": "stream",
     "text": [
      "kkma tokenizing\n"
     ]
    },
    {
     "name": "stderr",
     "output_type": "stream",
     "text": [
      "Tokenizing: 100%|██████████| 107068/107068 [27:40<00:00, 64.48it/s] \n"
     ]
    },
    {
     "name": "stdout",
     "output_type": "stream",
     "text": [
      "\n",
      "hannanum tokenizing\n"
     ]
    },
    {
     "name": "stderr",
     "output_type": "stream",
     "text": [
      "Tokenizing: 100%|██████████| 107068/107068 [02:37<00:00, 678.27it/s] \n"
     ]
    },
    {
     "name": "stdout",
     "output_type": "stream",
     "text": [
      "hannanum tokenizing\n"
     ]
    },
    {
     "name": "stderr",
     "output_type": "stream",
     "text": [
      "Tokenizing: 100%|██████████| 107068/107068 [04:34<00:00, 389.85it/s]"
     ]
    },
    {
     "name": "stdout",
     "output_type": "stream",
     "text": [
      "\n"
     ]
    },
    {
     "name": "stderr",
     "output_type": "stream",
     "text": [
      "\n"
     ]
    }
   ],
   "execution_count": 28
  },
  {
   "metadata": {
    "ExecuteTime": {
     "end_time": "2024-10-25T14:44:33.999604Z",
     "start_time": "2024-10-25T14:44:33.992692Z"
    }
   },
   "cell_type": "code",
   "source": "test_okt",
   "id": "79be3aac7e9ef303",
   "outputs": [
    {
     "data": {
      "text/plain": [
       "                                                        X  \\\n",
       "0                                             네 , 안녕하세요 ?   \n",
       "1              다름이 아니고 저희 아들 이 디딤 씨앗 통장 을 . 해지 하려고 하는데요 .   \n",
       "2                                             네 , 알겠습니다 .   \n",
       "3                                             네 , 알겠습니다 .   \n",
       "4       아 저 몇 가지 여쭤 볼 게 있어가지고요 . 여쭤 보려면 어디 로 통화 를 해야 되...   \n",
       "...                                                   ...   \n",
       "107063  네 , 그 까 일단 이 차량 이 어디 소속 인지 자체 도 잘 모르시길래 우선 제 가...   \n",
       "107064                       아 네 , 네 , 민원 인 번호 말씀드리겠습니다 .   \n",
       "107065                                        네 , 감사합니다 .   \n",
       "107066                   재산세 담당 하시는 분 자리 전화 번호 좀 부탁 합니다 .   \n",
       "107067                                        네 , 알겠습니다 .   \n",
       "\n",
       "                                                        Y  label  \n",
       "0                                            네 , 안녕하십니까 ?      0  \n",
       "1           죄송합니다만 제 가 답변 이 어렵기 때문 에 담당자 연결해 드리도록 하겠습니다 .      0  \n",
       "2       고객 님 혹시 라도 연결 중 전화 가 끊긴다면 . 예 , 담당자 바로 연결 해드리겠...      0  \n",
       "3       네 , 좋은 상담 이어 가세 요 . 고객 님 께서 디딤 씨앗 통장 해지 관련 으로 ...      0  \n",
       "4                              혹시 어떤 불편 사항 이신 가요 ? 고객 님 .      0  \n",
       "...                                                   ...    ...  \n",
       "107063           아 그렇습니까 ? 그 라 믄 그 분 혹시 핸드폰 번호 알 수 있습니까 ?      1  \n",
       "107064                                        네 , 감사합니다 .      1  \n",
       "107065                                   무엇 을 도 와 드릴 까요 ?      1  \n",
       "107066  재산세 담당자 말씀 이십 니까 ? 실례 지만 주택 분 이신 가요 토지 분 이신 가요...      1  \n",
       "107067                                  더 다른 문의사항 있으십니까 ?      1  \n",
       "\n",
       "[107068 rows x 3 columns]"
      ],
      "text/html": [
       "<div>\n",
       "<style scoped>\n",
       "    .dataframe tbody tr th:only-of-type {\n",
       "        vertical-align: middle;\n",
       "    }\n",
       "\n",
       "    .dataframe tbody tr th {\n",
       "        vertical-align: top;\n",
       "    }\n",
       "\n",
       "    .dataframe thead th {\n",
       "        text-align: right;\n",
       "    }\n",
       "</style>\n",
       "<table border=\"1\" class=\"dataframe\">\n",
       "  <thead>\n",
       "    <tr style=\"text-align: right;\">\n",
       "      <th></th>\n",
       "      <th>X</th>\n",
       "      <th>Y</th>\n",
       "      <th>label</th>\n",
       "    </tr>\n",
       "  </thead>\n",
       "  <tbody>\n",
       "    <tr>\n",
       "      <th>0</th>\n",
       "      <td>네 , 안녕하세요 ?</td>\n",
       "      <td>네 , 안녕하십니까 ?</td>\n",
       "      <td>0</td>\n",
       "    </tr>\n",
       "    <tr>\n",
       "      <th>1</th>\n",
       "      <td>다름이 아니고 저희 아들 이 디딤 씨앗 통장 을 . 해지 하려고 하는데요 .</td>\n",
       "      <td>죄송합니다만 제 가 답변 이 어렵기 때문 에 담당자 연결해 드리도록 하겠습니다 .</td>\n",
       "      <td>0</td>\n",
       "    </tr>\n",
       "    <tr>\n",
       "      <th>2</th>\n",
       "      <td>네 , 알겠습니다 .</td>\n",
       "      <td>고객 님 혹시 라도 연결 중 전화 가 끊긴다면 . 예 , 담당자 바로 연결 해드리겠...</td>\n",
       "      <td>0</td>\n",
       "    </tr>\n",
       "    <tr>\n",
       "      <th>3</th>\n",
       "      <td>네 , 알겠습니다 .</td>\n",
       "      <td>네 , 좋은 상담 이어 가세 요 . 고객 님 께서 디딤 씨앗 통장 해지 관련 으로 ...</td>\n",
       "      <td>0</td>\n",
       "    </tr>\n",
       "    <tr>\n",
       "      <th>4</th>\n",
       "      <td>아 저 몇 가지 여쭤 볼 게 있어가지고요 . 여쭤 보려면 어디 로 통화 를 해야 되...</td>\n",
       "      <td>혹시 어떤 불편 사항 이신 가요 ? 고객 님 .</td>\n",
       "      <td>0</td>\n",
       "    </tr>\n",
       "    <tr>\n",
       "      <th>...</th>\n",
       "      <td>...</td>\n",
       "      <td>...</td>\n",
       "      <td>...</td>\n",
       "    </tr>\n",
       "    <tr>\n",
       "      <th>107063</th>\n",
       "      <td>네 , 그 까 일단 이 차량 이 어디 소속 인지 자체 도 잘 모르시길래 우선 제 가...</td>\n",
       "      <td>아 그렇습니까 ? 그 라 믄 그 분 혹시 핸드폰 번호 알 수 있습니까 ?</td>\n",
       "      <td>1</td>\n",
       "    </tr>\n",
       "    <tr>\n",
       "      <th>107064</th>\n",
       "      <td>아 네 , 네 , 민원 인 번호 말씀드리겠습니다 .</td>\n",
       "      <td>네 , 감사합니다 .</td>\n",
       "      <td>1</td>\n",
       "    </tr>\n",
       "    <tr>\n",
       "      <th>107065</th>\n",
       "      <td>네 , 감사합니다 .</td>\n",
       "      <td>무엇 을 도 와 드릴 까요 ?</td>\n",
       "      <td>1</td>\n",
       "    </tr>\n",
       "    <tr>\n",
       "      <th>107066</th>\n",
       "      <td>재산세 담당 하시는 분 자리 전화 번호 좀 부탁 합니다 .</td>\n",
       "      <td>재산세 담당자 말씀 이십 니까 ? 실례 지만 주택 분 이신 가요 토지 분 이신 가요...</td>\n",
       "      <td>1</td>\n",
       "    </tr>\n",
       "    <tr>\n",
       "      <th>107067</th>\n",
       "      <td>네 , 알겠습니다 .</td>\n",
       "      <td>더 다른 문의사항 있으십니까 ?</td>\n",
       "      <td>1</td>\n",
       "    </tr>\n",
       "  </tbody>\n",
       "</table>\n",
       "<p>107068 rows × 3 columns</p>\n",
       "</div>"
      ]
     },
     "execution_count": 30,
     "metadata": {},
     "output_type": "execute_result"
    }
   ],
   "execution_count": 30
  },
  {
   "metadata": {
    "ExecuteTime": {
     "end_time": "2024-10-25T03:04:46.828724Z",
     "start_time": "2024-10-25T03:04:46.823977Z"
    }
   },
   "cell_type": "code",
   "source": "test_komoran.head()",
   "id": "69c343cc591b9930",
   "outputs": [
    {
     "data": {
      "text/plain": [
       "                                                   X  \\\n",
       "0                                        네 , 안녕하세요 ?   \n",
       "1  다르 ㅁ 이 아니 고 저희 아들 이 디디 ㅁ 씨앗 통장 을 . 해지 하 려고 하 는...   \n",
       "2                                      네 , 알 겠 습니다 .   \n",
       "3                                      네 , 알 겠 습니다 .   \n",
       "4  아 저 몇 가지 여쭈 어 보 ㄹ 게 있 어 가지 고요 . 여쭈 어 보 려면 어디 로...   \n",
       "\n",
       "                                                   Y  label  \n",
       "0                                       네 , 안녕하십니까 ?      0  \n",
       "1  죄송 하 ㅂ니다만 제가 답변 이 어렵 기 때문 에 담당자 연결 하 아 드리 도록 하...      0  \n",
       "2  고객 님 혹시 이 라도 연결 중 전화 가 끊기 ㄴ다면 . 예 , 담당자 바로 연결 ...      0  \n",
       "3  네 , 좋 은 상담 이어 가 시 어요 . 고객 님 께서 디디 ㅁ 씨앗 통장 해지 관...      0  \n",
       "4                       혹시 어떤 불편 사항 이 시 ㄴ가요 ? 고객 님 .      0  "
      ],
      "text/html": [
       "<div>\n",
       "<style scoped>\n",
       "    .dataframe tbody tr th:only-of-type {\n",
       "        vertical-align: middle;\n",
       "    }\n",
       "\n",
       "    .dataframe tbody tr th {\n",
       "        vertical-align: top;\n",
       "    }\n",
       "\n",
       "    .dataframe thead th {\n",
       "        text-align: right;\n",
       "    }\n",
       "</style>\n",
       "<table border=\"1\" class=\"dataframe\">\n",
       "  <thead>\n",
       "    <tr style=\"text-align: right;\">\n",
       "      <th></th>\n",
       "      <th>X</th>\n",
       "      <th>Y</th>\n",
       "      <th>label</th>\n",
       "    </tr>\n",
       "  </thead>\n",
       "  <tbody>\n",
       "    <tr>\n",
       "      <th>0</th>\n",
       "      <td>네 , 안녕하세요 ?</td>\n",
       "      <td>네 , 안녕하십니까 ?</td>\n",
       "      <td>0</td>\n",
       "    </tr>\n",
       "    <tr>\n",
       "      <th>1</th>\n",
       "      <td>다르 ㅁ 이 아니 고 저희 아들 이 디디 ㅁ 씨앗 통장 을 . 해지 하 려고 하 는...</td>\n",
       "      <td>죄송 하 ㅂ니다만 제가 답변 이 어렵 기 때문 에 담당자 연결 하 아 드리 도록 하...</td>\n",
       "      <td>0</td>\n",
       "    </tr>\n",
       "    <tr>\n",
       "      <th>2</th>\n",
       "      <td>네 , 알 겠 습니다 .</td>\n",
       "      <td>고객 님 혹시 이 라도 연결 중 전화 가 끊기 ㄴ다면 . 예 , 담당자 바로 연결 ...</td>\n",
       "      <td>0</td>\n",
       "    </tr>\n",
       "    <tr>\n",
       "      <th>3</th>\n",
       "      <td>네 , 알 겠 습니다 .</td>\n",
       "      <td>네 , 좋 은 상담 이어 가 시 어요 . 고객 님 께서 디디 ㅁ 씨앗 통장 해지 관...</td>\n",
       "      <td>0</td>\n",
       "    </tr>\n",
       "    <tr>\n",
       "      <th>4</th>\n",
       "      <td>아 저 몇 가지 여쭈 어 보 ㄹ 게 있 어 가지 고요 . 여쭈 어 보 려면 어디 로...</td>\n",
       "      <td>혹시 어떤 불편 사항 이 시 ㄴ가요 ? 고객 님 .</td>\n",
       "      <td>0</td>\n",
       "    </tr>\n",
       "  </tbody>\n",
       "</table>\n",
       "</div>"
      ]
     },
     "execution_count": 46,
     "metadata": {},
     "output_type": "execute_result"
    }
   ],
   "execution_count": 46
  },
  {
   "metadata": {
    "ExecuteTime": {
     "end_time": "2024-10-25T14:43:31.562151Z",
     "start_time": "2024-10-25T14:43:29.590494Z"
    }
   },
   "cell_type": "code",
   "source": [
    "# 파일 저장\n",
    "test_okt.to_csv(\"tokenized/only_tag_okt.csv\", index=False, encoding='utf-8')\n",
    "test_komoran.to_csv(\"tokenized/only_tag_komoran.csv\", index=False, encoding='utf-8')\n",
    "test_kkma.to_csv(\"tokenized/only_tag_kkma.csv\", index=False, encoding='utf-8')\n",
    "test_hannanum.to_csv(\"tokenized/only_tag_hannanum.csv\", index=False, encoding='utf-8')"
   ],
   "id": "651ffdc6273e24ba",
   "outputs": [],
   "execution_count": 29
  },
  {
   "metadata": {},
   "cell_type": "markdown",
   "source": "## 품사 태깅(POS Tagging)",
   "id": "bbae4ed192fd840"
  },
  {
   "metadata": {
    "ExecuteTime": {
     "end_time": "2024-10-26T01:14:18.481332Z",
     "start_time": "2024-10-26T01:14:18.476202Z"
    }
   },
   "cell_type": "code",
   "source": [
    "# 제외 품사 설정\n",
    "exclusion_tags_Okt = [\n",
    "    'Josa', 'Punctuation', 'Conjunction',\n",
    "    # 조사, 구두점, 접속사\n",
    "    'PreEomi', 'Eomi', 'Suffix', 'Number'\n",
    "    # 선어말어미, 어미, 접미사, 숫자\n",
    "]\n",
    "\n",
    "exclusion_tags_Komoran = [\n",
    "    'NNBC', 'VX', 'IC', \n",
    "    'JKS', 'JKC', 'JKG', 'JKO', 'JKB', 'JKV', 'JKQ',\n",
    "    'JX', 'JC',\n",
    "    'SF', 'SP', 'SS', 'SE', 'SO', \n",
    "    'EP', 'EF', 'EC', 'ETN', 'ETM',\n",
    "    'XSN', 'XSV', 'XSA', 'XPN'\n",
    "]\n",
    "# 불용어 리스트 출력\n",
    "path = 'korean_stopwords.txt'\n",
    "with open(path, 'r', encoding='utf-8') as f:\n",
    "    stopwords = f.readlines()\n",
    "stopword_list = [x.strip() for x in stopwords] \n",
    "stopword_list += ['의', '가', '이', '은', '들', '는', '좀',\n",
    "                  '잘', '걍', '과', '도', '를', '으로', '자', '에',\n",
    "                  '와', '한', '하다']\n"
   ],
   "id": "61acff9931bfbb37",
   "outputs": [],
   "execution_count": 3
  },
  {
   "metadata": {},
   "cell_type": "code",
   "outputs": [],
   "execution_count": null,
   "source": "",
   "id": "79d582b6b9d991f5"
  },
  {
   "metadata": {
    "ExecuteTime": {
     "end_time": "2024-10-26T01:15:16.174545Z",
     "start_time": "2024-10-26T01:15:14.337766Z"
    }
   },
   "cell_type": "code",
   "source": [
    "tokenized_okt = pd.read_csv(\"data_file/xy_merged.csv\")\n",
    "tokenized_komoran = pd.read_csv(\"data_file/xy_merged.csv\")\n",
    "tokenized_kkma = pd.read_csv(\"data_file/xy_merged.csv\")\n",
    "tokenized_hannanum = pd.read_csv(\"data_file/xy_merged.csv\")"
   ],
   "id": "b6f8a9684bf024fa",
   "outputs": [],
   "execution_count": 4
  },
  {
   "metadata": {
    "ExecuteTime": {
     "end_time": "2024-10-26T01:16:30.590245Z",
     "start_time": "2024-10-26T01:16:30.586433Z"
    }
   },
   "cell_type": "code",
   "source": "type(tokenized_okt)",
   "id": "f20d8437473b59fa",
   "outputs": [
    {
     "data": {
      "text/plain": [
       "pandas.core.frame.DataFrame"
      ]
     },
     "execution_count": 10,
     "metadata": {},
     "output_type": "execute_result"
    }
   ],
   "execution_count": 10
  },
  {
   "metadata": {
    "ExecuteTime": {
     "end_time": "2024-10-26T01:18:14.180361Z",
     "start_time": "2024-10-26T01:18:14.174688Z"
    }
   },
   "cell_type": "code",
   "source": [
    "# def token(dataframe):\n",
    "#     return dataframe['text'].progress_apply(lambda sentence: \" \".join(okt.morphs(sentence)))\n",
    "tqdm.pandas(desc=\"post_tagging\")\n",
    "def post_tagging(dataframe, col_name, mode):\n",
    "    # 불용어 처리\n",
    "    def exclusion(t_list):\n",
    "        return [word[0] for word in t_list if word[0] not in stopword_list and word[1] not in exclusion_tags_Komoran]\n",
    "\n",
    "    if mode == 'okt':\n",
    "        print(\"okt post_tagging\")\n",
    "        return dataframe[col_name].progress_apply(lambda sentence: \" \".join(exclusion(okt.pos(sentence))))\n",
    "    elif mode == 'komoran':\n",
    "        print(\"komoran post_tagging\")\n",
    "        return dataframe[col_name].progress_apply(lambda sentence: \" \".join(exclusion(komoran.pos(sentence))))\n",
    "    elif mode == 'kkma':\n",
    "        print(\"kkma post_tagging\")\n",
    "        return dataframe[col_name].progress_apply(lambda sentence: \" \".join(exclusion(kkma.pos(sentence))))\n",
    "    elif mode == 'hannanum':\n",
    "        print(\"hannanum post_tagging\")\n",
    "        return dataframe[col_name].progress_apply(lambda sentence: \" \".join(exclusion(hannanum.pos(sentence))))"
   ],
   "id": "58afe76f5f70c176",
   "outputs": [],
   "execution_count": 12
  },
  {
   "metadata": {
    "ExecuteTime": {
     "end_time": "2024-10-26T02:04:47.291491Z",
     "start_time": "2024-10-26T01:18:15.933269Z"
    }
   },
   "cell_type": "code",
   "source": [
    "tokenized_okt['X'] = post_tagging(tokenized_okt, 'X', 'okt')\n",
    "tokenized_okt['Y'] = post_tagging(tokenized_okt, 'Y', 'okt')\n",
    "print()\n",
    "\n",
    "tokenized_komoran['X'] = post_tagging(tokenized_komoran, 'X', 'komoran')\n",
    "tokenized_komoran['Y'] = post_tagging(tokenized_komoran, 'Y', 'komoran')\n",
    "print()\n",
    "\n",
    "tokenized_kkma['X'] = post_tagging(tokenized_kkma, 'X', 'kkma')\n",
    "tokenized_kkma['Y'] = post_tagging(tokenized_kkma, 'Y', 'kkma')\n",
    "print()\n",
    "\n",
    "tokenized_hannanum['X'] = post_tagging(tokenized_hannanum, 'X', 'hannanum')\n",
    "tokenized_hannanum['Y'] = post_tagging(tokenized_hannanum, 'Y', 'hannanum')\n",
    "print()"
   ],
   "id": "e2313be2fb085332",
   "outputs": [
    {
     "name": "stdout",
     "output_type": "stream",
     "text": [
      "okt post_tagging\n"
     ]
    },
    {
     "name": "stderr",
     "output_type": "stream",
     "text": [
      "post_tagging: 100%|██████████| 107068/107068 [01:11<00:00, 1506.76it/s]\n"
     ]
    },
    {
     "name": "stdout",
     "output_type": "stream",
     "text": [
      "okt post_tagging\n"
     ]
    },
    {
     "name": "stderr",
     "output_type": "stream",
     "text": [
      "post_tagging: 100%|██████████| 107068/107068 [01:58<00:00, 906.02it/s] \n"
     ]
    },
    {
     "name": "stdout",
     "output_type": "stream",
     "text": [
      "\n",
      "komoran post_tagging\n"
     ]
    },
    {
     "name": "stderr",
     "output_type": "stream",
     "text": [
      "post_tagging: 100%|██████████| 107068/107068 [00:40<00:00, 2633.15it/s]\n"
     ]
    },
    {
     "name": "stdout",
     "output_type": "stream",
     "text": [
      "komoran post_tagging\n"
     ]
    },
    {
     "name": "stderr",
     "output_type": "stream",
     "text": [
      "post_tagging: 100%|██████████| 107068/107068 [01:09<00:00, 1535.21it/s]\n"
     ]
    },
    {
     "name": "stdout",
     "output_type": "stream",
     "text": [
      "\n",
      "kkma post_tagging\n"
     ]
    },
    {
     "name": "stderr",
     "output_type": "stream",
     "text": [
      "post_tagging: 100%|██████████| 107068/107068 [12:12<00:00, 146.27it/s]\n"
     ]
    },
    {
     "name": "stdout",
     "output_type": "stream",
     "text": [
      "kkma post_tagging\n"
     ]
    },
    {
     "name": "stderr",
     "output_type": "stream",
     "text": [
      "post_tagging: 100%|██████████| 107068/107068 [22:11<00:00, 80.41it/s] \n"
     ]
    },
    {
     "name": "stdout",
     "output_type": "stream",
     "text": [
      "\n",
      "hannanum post_tagging\n"
     ]
    },
    {
     "name": "stderr",
     "output_type": "stream",
     "text": [
      "post_tagging: 100%|██████████| 107068/107068 [02:28<00:00, 720.11it/s] \n"
     ]
    },
    {
     "name": "stdout",
     "output_type": "stream",
     "text": [
      "hannanum post_tagging\n"
     ]
    },
    {
     "name": "stderr",
     "output_type": "stream",
     "text": [
      "post_tagging: 100%|██████████| 107068/107068 [04:39<00:00, 383.17it/s]"
     ]
    },
    {
     "name": "stdout",
     "output_type": "stream",
     "text": [
      "\n"
     ]
    },
    {
     "name": "stderr",
     "output_type": "stream",
     "text": [
      "\n"
     ]
    }
   ],
   "execution_count": 13
  },
  {
   "metadata": {
    "ExecuteTime": {
     "end_time": "2024-10-26T02:10:41.628270Z",
     "start_time": "2024-10-26T02:10:41.622545Z"
    }
   },
   "cell_type": "code",
   "source": "tokenized_okt.head()",
   "id": "3e51fd8e19ef84be",
   "outputs": [
    {
     "data": {
      "text/plain": [
       "                                       X  \\\n",
       "0                              , 안녕하세요 ?   \n",
       "1    다름이 아니고 아들 디딤 씨앗 통장 . 해지 하려고 하는데요 .   \n",
       "2                              , 알겠습니다 .   \n",
       "3                              , 알겠습니다 .   \n",
       "4  가지 여쭤 볼 게 있어가지고요 . 여쭤 보려면 통화 해야 되나요 ?   \n",
       "\n",
       "                                                   Y  label  \n",
       "0                                         , 안녕하십니까 ?      0  \n",
       "1              죄송합니다만 답변 어렵기 때문 담당자 연결해 드리도록 하겠습니다 .      0  \n",
       "2          고객 님 라도 연결 중 전화 끊긴다면 . , 담당자 연결 해드리겠습니다 .      0  \n",
       "3  , 좋은 상담 이어 가세 요 . 고객 님 께서 디딤 씨앗 통장 해지 관련 문의 하세...      0  \n",
       "4                               불편 사항 이신 가요 ? 고객 님 .      0  "
      ],
      "text/html": [
       "<div>\n",
       "<style scoped>\n",
       "    .dataframe tbody tr th:only-of-type {\n",
       "        vertical-align: middle;\n",
       "    }\n",
       "\n",
       "    .dataframe tbody tr th {\n",
       "        vertical-align: top;\n",
       "    }\n",
       "\n",
       "    .dataframe thead th {\n",
       "        text-align: right;\n",
       "    }\n",
       "</style>\n",
       "<table border=\"1\" class=\"dataframe\">\n",
       "  <thead>\n",
       "    <tr style=\"text-align: right;\">\n",
       "      <th></th>\n",
       "      <th>X</th>\n",
       "      <th>Y</th>\n",
       "      <th>label</th>\n",
       "    </tr>\n",
       "  </thead>\n",
       "  <tbody>\n",
       "    <tr>\n",
       "      <th>0</th>\n",
       "      <td>, 안녕하세요 ?</td>\n",
       "      <td>, 안녕하십니까 ?</td>\n",
       "      <td>0</td>\n",
       "    </tr>\n",
       "    <tr>\n",
       "      <th>1</th>\n",
       "      <td>다름이 아니고 아들 디딤 씨앗 통장 . 해지 하려고 하는데요 .</td>\n",
       "      <td>죄송합니다만 답변 어렵기 때문 담당자 연결해 드리도록 하겠습니다 .</td>\n",
       "      <td>0</td>\n",
       "    </tr>\n",
       "    <tr>\n",
       "      <th>2</th>\n",
       "      <td>, 알겠습니다 .</td>\n",
       "      <td>고객 님 라도 연결 중 전화 끊긴다면 . , 담당자 연결 해드리겠습니다 .</td>\n",
       "      <td>0</td>\n",
       "    </tr>\n",
       "    <tr>\n",
       "      <th>3</th>\n",
       "      <td>, 알겠습니다 .</td>\n",
       "      <td>, 좋은 상담 이어 가세 요 . 고객 님 께서 디딤 씨앗 통장 해지 관련 문의 하세...</td>\n",
       "      <td>0</td>\n",
       "    </tr>\n",
       "    <tr>\n",
       "      <th>4</th>\n",
       "      <td>가지 여쭤 볼 게 있어가지고요 . 여쭤 보려면 통화 해야 되나요 ?</td>\n",
       "      <td>불편 사항 이신 가요 ? 고객 님 .</td>\n",
       "      <td>0</td>\n",
       "    </tr>\n",
       "  </tbody>\n",
       "</table>\n",
       "</div>"
      ]
     },
     "execution_count": 14,
     "metadata": {},
     "output_type": "execute_result"
    }
   ],
   "execution_count": 14
  },
  {
   "metadata": {
    "ExecuteTime": {
     "end_time": "2024-10-26T02:11:21.250118Z",
     "start_time": "2024-10-26T02:11:20.050287Z"
    }
   },
   "cell_type": "code",
   "source": [
    "tokenized_okt.to_csv(\"tokenized/tokenized_okt.csv\", index=False, encoding='utf-8')\n",
    "tokenized_komoran.to_csv(\"tokenized/tokenized_komoran.csv\", index=False, encoding='utf-8')\n",
    "tokenized_kkma.to_csv(\"tokenized/tokenized_kkma.csv\", index=False, encoding='utf-8')\n",
    "tokenized_hannanum.to_csv(\"tokenized/tokenized_hannanum.csv\", index=False, encoding='utf-8')"
   ],
   "id": "b5f5e8bc689a8e5b",
   "outputs": [],
   "execution_count": 15
  },
  {
   "metadata": {
    "ExecuteTime": {
     "end_time": "2024-10-25T16:51:44.811895Z",
     "start_time": "2024-10-25T16:51:44.385638Z"
    }
   },
   "cell_type": "code",
   "source": [
    "text_data.head()\n",
    "text_data.to_csv(\"data_file/xy_merged.csv\", index=False, encoding='utf-8')"
   ],
   "id": "f911ba8f8c3a0cce",
   "outputs": [],
   "execution_count": 43
  }
 ],
 "metadata": {
  "kernelspec": {
   "display_name": "Python 3",
   "language": "python",
   "name": "python3"
  },
  "language_info": {
   "codemirror_mode": {
    "name": "ipython",
    "version": 2
   },
   "file_extension": ".py",
   "mimetype": "text/x-python",
   "name": "python",
   "nbconvert_exporter": "python",
   "pygments_lexer": "ipython2",
   "version": "2.7.6"
  }
 },
 "nbformat": 4,
 "nbformat_minor": 5
}
