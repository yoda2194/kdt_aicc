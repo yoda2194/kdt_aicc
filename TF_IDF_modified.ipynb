﻿{
 "cells": [
  {
   "cell_type": "code",
   "id": "initial_id",
   "metadata": {
    "collapsed": true,
    "ExecuteTime": {
     "end_time": "2024-10-26T11:59:51.821761Z",
     "start_time": "2024-10-26T11:59:51.265356Z"
    }
   },
   "source": [
    "file_path = \"csv_file/sub_welfare.csv\"\n",
    "import re, json, os, pandas as pd, time\n",
    "from tqdm import tqdm"
   ],
   "outputs": [],
   "execution_count": 1
  },
  {
   "metadata": {
    "ExecuteTime": {
     "end_time": "2024-10-26T11:59:54.137784Z",
     "start_time": "2024-10-26T11:59:54.133452Z"
    }
   },
   "cell_type": "code",
   "source": [
    "# 문자열 전처리\n",
    "def regular_expression(text):\n",
    "    result = re.sub(r'o|n|b ', r'', text)\n",
    "    result = re.sub(r'\\(\\(\\)\\)',r'', result)\n",
    "    result = re.sub(r'/\\(([^)]+)\\)', r'', result)\n",
    "    result = re.sub(r'\\(', r'', result, count=10)\n",
    "    result = re.sub(r'\\)', r'', result, count=10)\n",
    "    result = re.sub(r'/', r'', result, count=10).strip()\n",
    "    return result\n",
    "\n",
    "        \n",
    "# csv 파일들 열어서 전처리 후 재 저장\n",
    "def open_csv_files():\n",
    "    root_directory = 'C:/Users/Admin/Desktop/stt_data/csv_file/'\n",
    "    root_directory_list = os.listdir(root_directory)\n",
    "    category = None\n",
    "    for i in range(len(root_directory_list)):\n",
    "        file_path = root_directory + str(root_directory_list[i])\n",
    "        print(file_path)\n",
    "        \n",
    "        df = pd.read_csv(file_path)\n",
    "        print(\"before\", df.isna().sum())\n",
    "        df.dropna(inplace=True)\n",
    "        print(\"after\", df.isna().sum())\n",
    "        \n",
    "        # 각 data 텍스트 변경\n",
    "        df[df.columns[0]] = df[df.columns[0]].apply(regular_expression)\n",
    "        df.to_csv(file_path, index=False)\n",
    "    "
   ],
   "id": "cf57f0e86d141599",
   "outputs": [],
   "execution_count": 2
  },
  {
   "metadata": {
    "ExecuteTime": {
     "end_time": "2024-10-21T01:38:25.689984Z",
     "start_time": "2024-10-21T01:38:19.892466Z"
    }
   },
   "cell_type": "code",
   "source": "open_csv_files()",
   "id": "3a72cc50ed923461",
   "outputs": [
    {
     "name": "stdout",
     "output_type": "stream",
     "text": [
      "C:/Users/Admin/Desktop/stt_data/csv_file/sub_admin.csv\n",
      "before 일반행정    0\n",
      "dtype: int64\n",
      "after 일반행정    0\n",
      "dtype: int64\n",
      "C:/Users/Admin/Desktop/stt_data/csv_file/sub_city.csv\n",
      "before 도시및경제    0\n",
      "dtype: int64\n",
      "after 도시및경제    0\n",
      "dtype: int64\n",
      "C:/Users/Admin/Desktop/stt_data/csv_file/sub_culture.csv\n",
      "before 문화및관광    0\n",
      "dtype: int64\n",
      "after 문화및관광    0\n",
      "dtype: int64\n",
      "C:/Users/Admin/Desktop/stt_data/csv_file/sub_environ.csv\n",
      "before 환경    0\n",
      "dtype: int64\n",
      "after 환경    0\n",
      "dtype: int64\n",
      "C:/Users/Admin/Desktop/stt_data/csv_file/sub_etc.csv\n",
      "before 기타민원    0\n",
      "dtype: int64\n",
      "after 기타민원    0\n",
      "dtype: int64\n",
      "C:/Users/Admin/Desktop/stt_data/csv_file/sub_traffic.csv\n",
      "before 교통및차량등록    0\n",
      "dtype: int64\n",
      "after 교통및차량등록    0\n",
      "dtype: int64\n",
      "C:/Users/Admin/Desktop/stt_data/csv_file/sub_water.csv\n",
      "before 상하수도    0\n",
      "dtype: int64\n",
      "after 상하수도    0\n",
      "dtype: int64\n",
      "C:/Users/Admin/Desktop/stt_data/csv_file/sub_welfare.csv\n",
      "before 복지    0\n",
      "dtype: int64\n",
      "after 복지    0\n",
      "dtype: int64\n"
     ]
    }
   ],
   "execution_count": 21
  },
  {
   "metadata": {
    "ExecuteTime": {
     "end_time": "2024-10-21T00:35:07.673326Z",
     "start_time": "2024-10-21T00:35:07.426714Z"
    }
   },
   "cell_type": "code",
   "source": [
    "train = pd.read_csv(file_path)\n",
    "train.head(10)"
   ],
   "id": "a4a2c8bf6d3a1749",
   "outputs": [
    {
     "ename": "FileNotFoundError",
     "evalue": "[Errno 2] No such file or directory: 'csv_file/sub_welfare.csv'",
     "output_type": "error",
     "traceback": [
      "\u001B[1;31m---------------------------------------------------------------------------\u001B[0m",
      "\u001B[1;31mFileNotFoundError\u001B[0m                         Traceback (most recent call last)",
      "Cell \u001B[1;32mIn[5], line 1\u001B[0m\n\u001B[1;32m----> 1\u001B[0m train \u001B[38;5;241m=\u001B[39m \u001B[43mpd\u001B[49m\u001B[38;5;241;43m.\u001B[39;49m\u001B[43mread_csv\u001B[49m\u001B[43m(\u001B[49m\u001B[43mfile_path\u001B[49m\u001B[43m)\u001B[49m\n\u001B[0;32m      2\u001B[0m train\u001B[38;5;241m.\u001B[39mhead(\u001B[38;5;241m10\u001B[39m)\n",
      "File \u001B[1;32m~\\PycharmProjects\\kdt_aicc\\.venv\\Lib\\site-packages\\pandas\\io\\parsers\\readers.py:1026\u001B[0m, in \u001B[0;36mread_csv\u001B[1;34m(filepath_or_buffer, sep, delimiter, header, names, index_col, usecols, dtype, engine, converters, true_values, false_values, skipinitialspace, skiprows, skipfooter, nrows, na_values, keep_default_na, na_filter, verbose, skip_blank_lines, parse_dates, infer_datetime_format, keep_date_col, date_parser, date_format, dayfirst, cache_dates, iterator, chunksize, compression, thousands, decimal, lineterminator, quotechar, quoting, doublequote, escapechar, comment, encoding, encoding_errors, dialect, on_bad_lines, delim_whitespace, low_memory, memory_map, float_precision, storage_options, dtype_backend)\u001B[0m\n\u001B[0;32m   1013\u001B[0m kwds_defaults \u001B[38;5;241m=\u001B[39m _refine_defaults_read(\n\u001B[0;32m   1014\u001B[0m     dialect,\n\u001B[0;32m   1015\u001B[0m     delimiter,\n\u001B[1;32m   (...)\u001B[0m\n\u001B[0;32m   1022\u001B[0m     dtype_backend\u001B[38;5;241m=\u001B[39mdtype_backend,\n\u001B[0;32m   1023\u001B[0m )\n\u001B[0;32m   1024\u001B[0m kwds\u001B[38;5;241m.\u001B[39mupdate(kwds_defaults)\n\u001B[1;32m-> 1026\u001B[0m \u001B[38;5;28;01mreturn\u001B[39;00m \u001B[43m_read\u001B[49m\u001B[43m(\u001B[49m\u001B[43mfilepath_or_buffer\u001B[49m\u001B[43m,\u001B[49m\u001B[43m \u001B[49m\u001B[43mkwds\u001B[49m\u001B[43m)\u001B[49m\n",
      "File \u001B[1;32m~\\PycharmProjects\\kdt_aicc\\.venv\\Lib\\site-packages\\pandas\\io\\parsers\\readers.py:620\u001B[0m, in \u001B[0;36m_read\u001B[1;34m(filepath_or_buffer, kwds)\u001B[0m\n\u001B[0;32m    617\u001B[0m _validate_names(kwds\u001B[38;5;241m.\u001B[39mget(\u001B[38;5;124m\"\u001B[39m\u001B[38;5;124mnames\u001B[39m\u001B[38;5;124m\"\u001B[39m, \u001B[38;5;28;01mNone\u001B[39;00m))\n\u001B[0;32m    619\u001B[0m \u001B[38;5;66;03m# Create the parser.\u001B[39;00m\n\u001B[1;32m--> 620\u001B[0m parser \u001B[38;5;241m=\u001B[39m \u001B[43mTextFileReader\u001B[49m\u001B[43m(\u001B[49m\u001B[43mfilepath_or_buffer\u001B[49m\u001B[43m,\u001B[49m\u001B[43m \u001B[49m\u001B[38;5;241;43m*\u001B[39;49m\u001B[38;5;241;43m*\u001B[39;49m\u001B[43mkwds\u001B[49m\u001B[43m)\u001B[49m\n\u001B[0;32m    622\u001B[0m \u001B[38;5;28;01mif\u001B[39;00m chunksize \u001B[38;5;129;01mor\u001B[39;00m iterator:\n\u001B[0;32m    623\u001B[0m     \u001B[38;5;28;01mreturn\u001B[39;00m parser\n",
      "File \u001B[1;32m~\\PycharmProjects\\kdt_aicc\\.venv\\Lib\\site-packages\\pandas\\io\\parsers\\readers.py:1620\u001B[0m, in \u001B[0;36mTextFileReader.__init__\u001B[1;34m(self, f, engine, **kwds)\u001B[0m\n\u001B[0;32m   1617\u001B[0m     \u001B[38;5;28mself\u001B[39m\u001B[38;5;241m.\u001B[39moptions[\u001B[38;5;124m\"\u001B[39m\u001B[38;5;124mhas_index_names\u001B[39m\u001B[38;5;124m\"\u001B[39m] \u001B[38;5;241m=\u001B[39m kwds[\u001B[38;5;124m\"\u001B[39m\u001B[38;5;124mhas_index_names\u001B[39m\u001B[38;5;124m\"\u001B[39m]\n\u001B[0;32m   1619\u001B[0m \u001B[38;5;28mself\u001B[39m\u001B[38;5;241m.\u001B[39mhandles: IOHandles \u001B[38;5;241m|\u001B[39m \u001B[38;5;28;01mNone\u001B[39;00m \u001B[38;5;241m=\u001B[39m \u001B[38;5;28;01mNone\u001B[39;00m\n\u001B[1;32m-> 1620\u001B[0m \u001B[38;5;28mself\u001B[39m\u001B[38;5;241m.\u001B[39m_engine \u001B[38;5;241m=\u001B[39m \u001B[38;5;28;43mself\u001B[39;49m\u001B[38;5;241;43m.\u001B[39;49m\u001B[43m_make_engine\u001B[49m\u001B[43m(\u001B[49m\u001B[43mf\u001B[49m\u001B[43m,\u001B[49m\u001B[43m \u001B[49m\u001B[38;5;28;43mself\u001B[39;49m\u001B[38;5;241;43m.\u001B[39;49m\u001B[43mengine\u001B[49m\u001B[43m)\u001B[49m\n",
      "File \u001B[1;32m~\\PycharmProjects\\kdt_aicc\\.venv\\Lib\\site-packages\\pandas\\io\\parsers\\readers.py:1880\u001B[0m, in \u001B[0;36mTextFileReader._make_engine\u001B[1;34m(self, f, engine)\u001B[0m\n\u001B[0;32m   1878\u001B[0m     \u001B[38;5;28;01mif\u001B[39;00m \u001B[38;5;124m\"\u001B[39m\u001B[38;5;124mb\u001B[39m\u001B[38;5;124m\"\u001B[39m \u001B[38;5;129;01mnot\u001B[39;00m \u001B[38;5;129;01min\u001B[39;00m mode:\n\u001B[0;32m   1879\u001B[0m         mode \u001B[38;5;241m+\u001B[39m\u001B[38;5;241m=\u001B[39m \u001B[38;5;124m\"\u001B[39m\u001B[38;5;124mb\u001B[39m\u001B[38;5;124m\"\u001B[39m\n\u001B[1;32m-> 1880\u001B[0m \u001B[38;5;28mself\u001B[39m\u001B[38;5;241m.\u001B[39mhandles \u001B[38;5;241m=\u001B[39m \u001B[43mget_handle\u001B[49m\u001B[43m(\u001B[49m\n\u001B[0;32m   1881\u001B[0m \u001B[43m    \u001B[49m\u001B[43mf\u001B[49m\u001B[43m,\u001B[49m\n\u001B[0;32m   1882\u001B[0m \u001B[43m    \u001B[49m\u001B[43mmode\u001B[49m\u001B[43m,\u001B[49m\n\u001B[0;32m   1883\u001B[0m \u001B[43m    \u001B[49m\u001B[43mencoding\u001B[49m\u001B[38;5;241;43m=\u001B[39;49m\u001B[38;5;28;43mself\u001B[39;49m\u001B[38;5;241;43m.\u001B[39;49m\u001B[43moptions\u001B[49m\u001B[38;5;241;43m.\u001B[39;49m\u001B[43mget\u001B[49m\u001B[43m(\u001B[49m\u001B[38;5;124;43m\"\u001B[39;49m\u001B[38;5;124;43mencoding\u001B[39;49m\u001B[38;5;124;43m\"\u001B[39;49m\u001B[43m,\u001B[49m\u001B[43m \u001B[49m\u001B[38;5;28;43;01mNone\u001B[39;49;00m\u001B[43m)\u001B[49m\u001B[43m,\u001B[49m\n\u001B[0;32m   1884\u001B[0m \u001B[43m    \u001B[49m\u001B[43mcompression\u001B[49m\u001B[38;5;241;43m=\u001B[39;49m\u001B[38;5;28;43mself\u001B[39;49m\u001B[38;5;241;43m.\u001B[39;49m\u001B[43moptions\u001B[49m\u001B[38;5;241;43m.\u001B[39;49m\u001B[43mget\u001B[49m\u001B[43m(\u001B[49m\u001B[38;5;124;43m\"\u001B[39;49m\u001B[38;5;124;43mcompression\u001B[39;49m\u001B[38;5;124;43m\"\u001B[39;49m\u001B[43m,\u001B[49m\u001B[43m \u001B[49m\u001B[38;5;28;43;01mNone\u001B[39;49;00m\u001B[43m)\u001B[49m\u001B[43m,\u001B[49m\n\u001B[0;32m   1885\u001B[0m \u001B[43m    \u001B[49m\u001B[43mmemory_map\u001B[49m\u001B[38;5;241;43m=\u001B[39;49m\u001B[38;5;28;43mself\u001B[39;49m\u001B[38;5;241;43m.\u001B[39;49m\u001B[43moptions\u001B[49m\u001B[38;5;241;43m.\u001B[39;49m\u001B[43mget\u001B[49m\u001B[43m(\u001B[49m\u001B[38;5;124;43m\"\u001B[39;49m\u001B[38;5;124;43mmemory_map\u001B[39;49m\u001B[38;5;124;43m\"\u001B[39;49m\u001B[43m,\u001B[49m\u001B[43m \u001B[49m\u001B[38;5;28;43;01mFalse\u001B[39;49;00m\u001B[43m)\u001B[49m\u001B[43m,\u001B[49m\n\u001B[0;32m   1886\u001B[0m \u001B[43m    \u001B[49m\u001B[43mis_text\u001B[49m\u001B[38;5;241;43m=\u001B[39;49m\u001B[43mis_text\u001B[49m\u001B[43m,\u001B[49m\n\u001B[0;32m   1887\u001B[0m \u001B[43m    \u001B[49m\u001B[43merrors\u001B[49m\u001B[38;5;241;43m=\u001B[39;49m\u001B[38;5;28;43mself\u001B[39;49m\u001B[38;5;241;43m.\u001B[39;49m\u001B[43moptions\u001B[49m\u001B[38;5;241;43m.\u001B[39;49m\u001B[43mget\u001B[49m\u001B[43m(\u001B[49m\u001B[38;5;124;43m\"\u001B[39;49m\u001B[38;5;124;43mencoding_errors\u001B[39;49m\u001B[38;5;124;43m\"\u001B[39;49m\u001B[43m,\u001B[49m\u001B[43m \u001B[49m\u001B[38;5;124;43m\"\u001B[39;49m\u001B[38;5;124;43mstrict\u001B[39;49m\u001B[38;5;124;43m\"\u001B[39;49m\u001B[43m)\u001B[49m\u001B[43m,\u001B[49m\n\u001B[0;32m   1888\u001B[0m \u001B[43m    \u001B[49m\u001B[43mstorage_options\u001B[49m\u001B[38;5;241;43m=\u001B[39;49m\u001B[38;5;28;43mself\u001B[39;49m\u001B[38;5;241;43m.\u001B[39;49m\u001B[43moptions\u001B[49m\u001B[38;5;241;43m.\u001B[39;49m\u001B[43mget\u001B[49m\u001B[43m(\u001B[49m\u001B[38;5;124;43m\"\u001B[39;49m\u001B[38;5;124;43mstorage_options\u001B[39;49m\u001B[38;5;124;43m\"\u001B[39;49m\u001B[43m,\u001B[49m\u001B[43m \u001B[49m\u001B[38;5;28;43;01mNone\u001B[39;49;00m\u001B[43m)\u001B[49m\u001B[43m,\u001B[49m\n\u001B[0;32m   1889\u001B[0m \u001B[43m\u001B[49m\u001B[43m)\u001B[49m\n\u001B[0;32m   1890\u001B[0m \u001B[38;5;28;01massert\u001B[39;00m \u001B[38;5;28mself\u001B[39m\u001B[38;5;241m.\u001B[39mhandles \u001B[38;5;129;01mis\u001B[39;00m \u001B[38;5;129;01mnot\u001B[39;00m \u001B[38;5;28;01mNone\u001B[39;00m\n\u001B[0;32m   1891\u001B[0m f \u001B[38;5;241m=\u001B[39m \u001B[38;5;28mself\u001B[39m\u001B[38;5;241m.\u001B[39mhandles\u001B[38;5;241m.\u001B[39mhandle\n",
      "File \u001B[1;32m~\\PycharmProjects\\kdt_aicc\\.venv\\Lib\\site-packages\\pandas\\io\\common.py:873\u001B[0m, in \u001B[0;36mget_handle\u001B[1;34m(path_or_buf, mode, encoding, compression, memory_map, is_text, errors, storage_options)\u001B[0m\n\u001B[0;32m    868\u001B[0m \u001B[38;5;28;01melif\u001B[39;00m \u001B[38;5;28misinstance\u001B[39m(handle, \u001B[38;5;28mstr\u001B[39m):\n\u001B[0;32m    869\u001B[0m     \u001B[38;5;66;03m# Check whether the filename is to be opened in binary mode.\u001B[39;00m\n\u001B[0;32m    870\u001B[0m     \u001B[38;5;66;03m# Binary mode does not support 'encoding' and 'newline'.\u001B[39;00m\n\u001B[0;32m    871\u001B[0m     \u001B[38;5;28;01mif\u001B[39;00m ioargs\u001B[38;5;241m.\u001B[39mencoding \u001B[38;5;129;01mand\u001B[39;00m \u001B[38;5;124m\"\u001B[39m\u001B[38;5;124mb\u001B[39m\u001B[38;5;124m\"\u001B[39m \u001B[38;5;129;01mnot\u001B[39;00m \u001B[38;5;129;01min\u001B[39;00m ioargs\u001B[38;5;241m.\u001B[39mmode:\n\u001B[0;32m    872\u001B[0m         \u001B[38;5;66;03m# Encoding\u001B[39;00m\n\u001B[1;32m--> 873\u001B[0m         handle \u001B[38;5;241m=\u001B[39m \u001B[38;5;28;43mopen\u001B[39;49m\u001B[43m(\u001B[49m\n\u001B[0;32m    874\u001B[0m \u001B[43m            \u001B[49m\u001B[43mhandle\u001B[49m\u001B[43m,\u001B[49m\n\u001B[0;32m    875\u001B[0m \u001B[43m            \u001B[49m\u001B[43mioargs\u001B[49m\u001B[38;5;241;43m.\u001B[39;49m\u001B[43mmode\u001B[49m\u001B[43m,\u001B[49m\n\u001B[0;32m    876\u001B[0m \u001B[43m            \u001B[49m\u001B[43mencoding\u001B[49m\u001B[38;5;241;43m=\u001B[39;49m\u001B[43mioargs\u001B[49m\u001B[38;5;241;43m.\u001B[39;49m\u001B[43mencoding\u001B[49m\u001B[43m,\u001B[49m\n\u001B[0;32m    877\u001B[0m \u001B[43m            \u001B[49m\u001B[43merrors\u001B[49m\u001B[38;5;241;43m=\u001B[39;49m\u001B[43merrors\u001B[49m\u001B[43m,\u001B[49m\n\u001B[0;32m    878\u001B[0m \u001B[43m            \u001B[49m\u001B[43mnewline\u001B[49m\u001B[38;5;241;43m=\u001B[39;49m\u001B[38;5;124;43m\"\u001B[39;49m\u001B[38;5;124;43m\"\u001B[39;49m\u001B[43m,\u001B[49m\n\u001B[0;32m    879\u001B[0m \u001B[43m        \u001B[49m\u001B[43m)\u001B[49m\n\u001B[0;32m    880\u001B[0m     \u001B[38;5;28;01melse\u001B[39;00m:\n\u001B[0;32m    881\u001B[0m         \u001B[38;5;66;03m# Binary mode\u001B[39;00m\n\u001B[0;32m    882\u001B[0m         handle \u001B[38;5;241m=\u001B[39m \u001B[38;5;28mopen\u001B[39m(handle, ioargs\u001B[38;5;241m.\u001B[39mmode)\n",
      "\u001B[1;31mFileNotFoundError\u001B[0m: [Errno 2] No such file or directory: 'csv_file/sub_welfare.csv'"
     ]
    }
   ],
   "execution_count": 5
  },
  {
   "metadata": {
    "ExecuteTime": {
     "end_time": "2024-10-20T07:27:25.646904Z",
     "start_time": "2024-10-20T07:27:25.643890Z"
    }
   },
   "cell_type": "code",
   "source": "",
   "id": "c668e64894e3e26d",
   "outputs": [],
   "execution_count": 10
  },
  {
   "metadata": {
    "ExecuteTime": {
     "end_time": "2024-10-26T12:00:13.353996Z",
     "start_time": "2024-10-26T12:00:12.027226Z"
    }
   },
   "cell_type": "code",
   "source": [
    "df_list = []\n",
    "root_directory = \"C:/Users/Admin/Desktop/stt_data/csv_file/\"\n",
    "root_directory_list = os.listdir(root_directory)\n",
    "for i in range(len(root_directory_list)):\n",
    "    file_path = os.path.join(root_directory, root_directory_list[i]) \n",
    "    try:\n",
    "        df = pd.read_csv(file_path, encoding='utf-8')\n",
    "        df_list.append(df)\n",
    "    except:\n",
    "        print(f'error in {file_path}')\n",
    "\n",
    "df_list"
   ],
   "id": "453011aadf3e1b33",
   "outputs": [
    {
     "data": {
      "text/plain": [
       "[                                                     일반행정\n",
       " 0                                            예, 아유 수고하세요.\n",
       " 1                                            여쭤볼려고 그러는데요.\n",
       " 2                                     그 지금 그거 뭘로 들어가 있어요?\n",
       " 3                                               예, 알겠습니다.\n",
       " 4                                   다른 더 확인해 드릴 것은 없으십니까?\n",
       " ...                                                   ...\n",
       " 179512              토지라 하셨고요. 제가 번호 안내 도와드릴 텐데 메모 가능하십니까?\n",
       " 179513  다만 지금 1시까지가 네, 점심시간이라 연결이 좀 지연될 수 있는 점은 양해 부탁드...\n",
       " 179514                                          네, 알겠습니다.\n",
       " 179515                                   더 다른 문의사항 있으십니까?\n",
       " 179516                                         아니요. 없습니다.\n",
       " \n",
       " [179517 rows x 1 columns],\n",
       "                                                     도시및경제\n",
       " 0                                                함께하는 상담사\n",
       " 1                                   네. 뭐 좀 여쭤보려고 전화드렸습니다.\n",
       " 2                                          네. 무엇을 도와드릴까요?\n",
       " 3                                             아 건축 쪽인데요잉.\n",
       " 4                         그 아파트 일조권 때문에 문의 좀 드릴라고 전화드렸어요.\n",
       " ...                                                   ...\n",
       " 173569  구조 및 보호는 업무를 하고 있지 않은데요. 관련해서 문의하시다면 주민센터가 아니라...\n",
       " 173570                                           에 고맙습니다.\n",
       " 173571                              감사합니다. 다른 문의사항 있으십니까?\n",
       " 173572                                아니요. l 나중에 통화하겠습니다.\n",
       " 173573                            감사합니다. 행복한 오후 되십시오. 상담사\n",
       " \n",
       " [173574 rows x 1 columns],\n",
       "                                      문화및관광\n",
       " 0                        저는 공무원은 아닙니다 고객님.\n",
       " 1                                  그럼 뭐예요?\n",
       " 2                               저는 상담사입니다.\n",
       " 3               상담사입니다 고객님. 민원 콜센터 상담사입니다.\n",
       " 4                           그러면 뭐예요 그 좀 이게\n",
       " ...                                    ...\n",
       " 163684                         무엇을 도와드릴까요?\n",
       " 163685                       조금 전에 5분 전에요.\n",
       " 163686  이 제가 형상스포츠 수영장 그 관람 관련해서 불편사항이 있어서\n",
       " 163687               민원을 넣어서 설명을 한참 드렸거든요.\n",
       " 163688            아 죄송한데 잠시만 끊지 말고 기다려주세요.\n",
       " \n",
       " [163689 rows x 1 columns],\n",
       "                                                        환경\n",
       " 0                                               네, 안녕하세요.\n",
       " 1                                       아 뭐 좀 물어볼라 그러는데요.\n",
       " 2                                           예 무엇을 도와드릴까요?\n",
       " 3                                         디젤 자동차 폐차를 시키면은\n",
       " 4                                             그 지원금이 나와요?\n",
       " ...                                                   ...\n",
       " 170604  제가 있는지 없는지 다시 확인을 못하고 지나가다가 아까 갔는데 아직도 있길래 전화드...\n",
       " 170605                            네 따로 확인을 하실 필요는 네 없으세요.\n",
       " 170606                                     네. 아 네. 알겠습니다.\n",
       " 170607                                           네 감사합니다.\n",
       " 170608                                           네 수고하세요.\n",
       " \n",
       " [170609 rows x 1 columns],\n",
       "                                                      기타민원\n",
       " 0                                             무엇을 도와드릴까요?\n",
       " 1                                               네 안녕하십니까.\n",
       " 2                                    다른거 아니고 지금 창원 지역에 있는\n",
       " 3                                 공단 그  그 위스에 있는 공장 업체 중에\n",
       " 4                               거 방문을 해가지고 좀 그 영업을 하고 싶은데\n",
       " ...                                                   ...\n",
       " 164077                          3년 이내에 업종을 전환할 계획이 있으십니까.\n",
       " 164078                    아 네. 귀사는 스마트 공장을 도입할 의사가 있으십니까.\n",
       " 164079                     네. 귀사는 스마트 선도 산단에 대한 의견 있으십니까.\n",
       " 164080                    네. 마지막으로 강소연구개발 특구에 대한 의견 있으십니까\n",
       " 164081  네 선생님 오늘 시간 내주셔서 정말 감사하고요. 앞으로 지원 방안 수립에 응답해 주...\n",
       " \n",
       " [164082 rows x 1 columns],\n",
       "                                             교통및차량등록\n",
       " 0            네 저기 차를 타 명의 그 이제 좀 바꿀려고 하는데 뭐 뭐 필요해요?\n",
       " 1               아 예 그럼 저 몇 가지만 여쭙고 안내 해 드리도록 하겠습니다.\n",
       " 2           네 실례지만 회사 차량을 기존에 개인 분 께서 단독명의로 보유중이셨고,\n",
       " 3       이제 차량을 다른 개인 분 단독명의로 개인 간 이전 등록하시는 것이 맞습니까?\n",
       " 4                                  예 예 맞아요 개인 대 개인.\n",
       " ...                                             ...\n",
       " 144004                   아 자동차 사업소를 가면 되는 1층에 있습니까?\n",
       " 144005                             예 농협 맞은편에  있습니다.\n",
       " 144006                                 구 구청에  있습니까?\n",
       " 144007                            구청에 민원동 1층에 있습니다.\n",
       " 144008           아 그 저 그 저 안에 있다고 예 알겠습니다. 예 알겠습니다.\n",
       " \n",
       " [144009 rows x 1 columns],\n",
       "                                                      상하수도\n",
       " 0                                               어, 그 저수조.\n",
       " 1                                    아, 그  하는 데 좀 돌려 주세요.\n",
       " 2                                         잠시만 기다려 주시겠습니까?\n",
       " 3                                      네, 전달 안내 도움드릴 건데요.\n",
       " 4                                        어느 쪽으로 안내해 드릴까요?\n",
       " ...                                                   ...\n",
       " 171847  그럼 선생님 수도 요금이 너무 많이 나와서 그 누수가 되는지 누수 탐사 신청을 하고...\n",
       " 171848                                          예 예 맞습니다.\n",
       " 171849      아 네 누수 탐사는 2층 이하의 단독 주택만 가능한데 혹시 해당이 되시는 건가요?\n",
       " 171850                                        예 단독 주택입니다.\n",
       " 171851                       연결 도와드릴 텐데요. 잠시만 기다려 주시겠습니까?\n",
       " \n",
       " [171852 rows x 1 columns],\n",
       "                                                        복지\n",
       " 0                                               네, 안녕하세요?\n",
       " 1                                              네, 안녕하십니까?\n",
       " 2                               다름이 아니고 저희 아들이 디딤 씨앗 통장을.\n",
       " 3                                             해지하려고 하는데요.\n",
       " 4               죄송합니다만 제가 답변이 어렵기 때문에 담당자 연결해 드리도록 하겠습니다.\n",
       " ...                                                   ...\n",
       " 258731  아 제 연락처는 그만 놔 두고. l 놔 두고 이 저기 공공 사업 이런 거 하는 거 ...\n",
       " 258732  그런 거는 너무 돈 있는 사람이 왜 그걸  먹고 사람들 이리 어 공무원들 그 자리에...\n",
       " 258733  연락처를 남겨주시지 않을 경우에 원활히 접수 처리되지 못할 수 있으니 양해 부탁 드...\n",
       " 258734                                     010 휴대폰 번호인가요?\n",
       " 258735                     네 연락처 함께 전달해서 접수될 수 있도록 하겠습니다.\n",
       " \n",
       " [258736 rows x 1 columns]]"
      ]
     },
     "execution_count": 3,
     "metadata": {},
     "output_type": "execute_result"
    }
   ],
   "execution_count": 3
  },
  {
   "metadata": {
    "ExecuteTime": {
     "end_time": "2024-10-26T12:00:15.045927Z",
     "start_time": "2024-10-26T12:00:15.043448Z"
    }
   },
   "cell_type": "code",
   "source": "admin_df, city_df, culture_df, environ_df, etc_df, traffic_df, water_df, welfare_df = df_list",
   "id": "3c85d3ee1475f4b5",
   "outputs": [],
   "execution_count": 4
  },
  {
   "metadata": {
    "ExecuteTime": {
     "end_time": "2024-10-26T12:00:16.719037Z",
     "start_time": "2024-10-26T12:00:16.708273Z"
    }
   },
   "cell_type": "code",
   "source": [
    "for df in df_list:\n",
    "    df['label'] = str(list(df.columns)[0])\n",
    "    df.columns = ['text','label']\n",
    "admin_df"
   ],
   "id": "b965a3aabf43ce78",
   "outputs": [
    {
     "data": {
      "text/plain": [
       "                                                     text label\n",
       "0                                            예, 아유 수고하세요.  일반행정\n",
       "1                                            여쭤볼려고 그러는데요.  일반행정\n",
       "2                                     그 지금 그거 뭘로 들어가 있어요?  일반행정\n",
       "3                                               예, 알겠습니다.  일반행정\n",
       "4                                   다른 더 확인해 드릴 것은 없으십니까?  일반행정\n",
       "...                                                   ...   ...\n",
       "179512              토지라 하셨고요. 제가 번호 안내 도와드릴 텐데 메모 가능하십니까?  일반행정\n",
       "179513  다만 지금 1시까지가 네, 점심시간이라 연결이 좀 지연될 수 있는 점은 양해 부탁드...  일반행정\n",
       "179514                                          네, 알겠습니다.  일반행정\n",
       "179515                                   더 다른 문의사항 있으십니까?  일반행정\n",
       "179516                                         아니요. 없습니다.  일반행정\n",
       "\n",
       "[179517 rows x 2 columns]"
      ],
      "text/html": [
       "<div>\n",
       "<style scoped>\n",
       "    .dataframe tbody tr th:only-of-type {\n",
       "        vertical-align: middle;\n",
       "    }\n",
       "\n",
       "    .dataframe tbody tr th {\n",
       "        vertical-align: top;\n",
       "    }\n",
       "\n",
       "    .dataframe thead th {\n",
       "        text-align: right;\n",
       "    }\n",
       "</style>\n",
       "<table border=\"1\" class=\"dataframe\">\n",
       "  <thead>\n",
       "    <tr style=\"text-align: right;\">\n",
       "      <th></th>\n",
       "      <th>text</th>\n",
       "      <th>label</th>\n",
       "    </tr>\n",
       "  </thead>\n",
       "  <tbody>\n",
       "    <tr>\n",
       "      <th>0</th>\n",
       "      <td>예, 아유 수고하세요.</td>\n",
       "      <td>일반행정</td>\n",
       "    </tr>\n",
       "    <tr>\n",
       "      <th>1</th>\n",
       "      <td>여쭤볼려고 그러는데요.</td>\n",
       "      <td>일반행정</td>\n",
       "    </tr>\n",
       "    <tr>\n",
       "      <th>2</th>\n",
       "      <td>그 지금 그거 뭘로 들어가 있어요?</td>\n",
       "      <td>일반행정</td>\n",
       "    </tr>\n",
       "    <tr>\n",
       "      <th>3</th>\n",
       "      <td>예, 알겠습니다.</td>\n",
       "      <td>일반행정</td>\n",
       "    </tr>\n",
       "    <tr>\n",
       "      <th>4</th>\n",
       "      <td>다른 더 확인해 드릴 것은 없으십니까?</td>\n",
       "      <td>일반행정</td>\n",
       "    </tr>\n",
       "    <tr>\n",
       "      <th>...</th>\n",
       "      <td>...</td>\n",
       "      <td>...</td>\n",
       "    </tr>\n",
       "    <tr>\n",
       "      <th>179512</th>\n",
       "      <td>토지라 하셨고요. 제가 번호 안내 도와드릴 텐데 메모 가능하십니까?</td>\n",
       "      <td>일반행정</td>\n",
       "    </tr>\n",
       "    <tr>\n",
       "      <th>179513</th>\n",
       "      <td>다만 지금 1시까지가 네, 점심시간이라 연결이 좀 지연될 수 있는 점은 양해 부탁드...</td>\n",
       "      <td>일반행정</td>\n",
       "    </tr>\n",
       "    <tr>\n",
       "      <th>179514</th>\n",
       "      <td>네, 알겠습니다.</td>\n",
       "      <td>일반행정</td>\n",
       "    </tr>\n",
       "    <tr>\n",
       "      <th>179515</th>\n",
       "      <td>더 다른 문의사항 있으십니까?</td>\n",
       "      <td>일반행정</td>\n",
       "    </tr>\n",
       "    <tr>\n",
       "      <th>179516</th>\n",
       "      <td>아니요. 없습니다.</td>\n",
       "      <td>일반행정</td>\n",
       "    </tr>\n",
       "  </tbody>\n",
       "</table>\n",
       "<p>179517 rows × 2 columns</p>\n",
       "</div>"
      ]
     },
     "execution_count": 5,
     "metadata": {},
     "output_type": "execute_result"
    }
   ],
   "execution_count": 5
  },
  {
   "metadata": {
    "ExecuteTime": {
     "end_time": "2024-10-26T12:00:18.549548Z",
     "start_time": "2024-10-26T12:00:18.503779Z"
    }
   },
   "cell_type": "code",
   "source": [
    "text_data = pd.concat(df_list, axis=0, ignore_index=True)\n",
    "text_data['label'].value_counts(ascending=True)"
   ],
   "id": "46c7b52fcf2febd1",
   "outputs": [
    {
     "data": {
      "text/plain": [
       "label\n",
       "교통및차량등록    144009\n",
       "문화및관광      163689\n",
       "기타민원       164082\n",
       "환경         170609\n",
       "상하수도       171852\n",
       "도시및경제      173574\n",
       "일반행정       179517\n",
       "복지         258736\n",
       "Name: count, dtype: int64"
      ]
     },
     "execution_count": 6,
     "metadata": {},
     "output_type": "execute_result"
    }
   ],
   "execution_count": 6
  },
  {
   "metadata": {
    "ExecuteTime": {
     "end_time": "2024-10-26T12:00:32.544587Z",
     "start_time": "2024-10-26T12:00:32.498937Z"
    }
   },
   "cell_type": "code",
   "source": [
    "# 라벨링\n",
    "match_idx = {\n",
    "    '일반행정' : 0,\n",
    "    '도시및경제' : 1,\n",
    "    '문화및관광' : 2,\n",
    "    '환경' : 3,\n",
    "    '기타민원' : 4,\n",
    "    '교통및차량등록' : 5,\n",
    "    '상하수도' : 6,\n",
    "    '복지' : 7\n",
    "}\n",
    "\n",
    "text_data['label'] = text_data['label'].map(match_idx)\n",
    "text_data"
   ],
   "id": "9aa9a6ffc1091ae4",
   "outputs": [
    {
     "data": {
      "text/plain": [
       "                                                      text  label\n",
       "0                                             예, 아유 수고하세요.      0\n",
       "1                                             여쭤볼려고 그러는데요.      0\n",
       "2                                      그 지금 그거 뭘로 들어가 있어요?      0\n",
       "3                                                예, 알겠습니다.      0\n",
       "4                                    다른 더 확인해 드릴 것은 없으십니까?      0\n",
       "...                                                    ...    ...\n",
       "1426063  아 제 연락처는 그만 놔 두고. l 놔 두고 이 저기 공공 사업 이런 거 하는 거 ...      7\n",
       "1426064  그런 거는 너무 돈 있는 사람이 왜 그걸  먹고 사람들 이리 어 공무원들 그 자리에...      7\n",
       "1426065  연락처를 남겨주시지 않을 경우에 원활히 접수 처리되지 못할 수 있으니 양해 부탁 드...      7\n",
       "1426066                                     010 휴대폰 번호인가요?      7\n",
       "1426067                     네 연락처 함께 전달해서 접수될 수 있도록 하겠습니다.      7\n",
       "\n",
       "[1426068 rows x 2 columns]"
      ],
      "text/html": [
       "<div>\n",
       "<style scoped>\n",
       "    .dataframe tbody tr th:only-of-type {\n",
       "        vertical-align: middle;\n",
       "    }\n",
       "\n",
       "    .dataframe tbody tr th {\n",
       "        vertical-align: top;\n",
       "    }\n",
       "\n",
       "    .dataframe thead th {\n",
       "        text-align: right;\n",
       "    }\n",
       "</style>\n",
       "<table border=\"1\" class=\"dataframe\">\n",
       "  <thead>\n",
       "    <tr style=\"text-align: right;\">\n",
       "      <th></th>\n",
       "      <th>text</th>\n",
       "      <th>label</th>\n",
       "    </tr>\n",
       "  </thead>\n",
       "  <tbody>\n",
       "    <tr>\n",
       "      <th>0</th>\n",
       "      <td>예, 아유 수고하세요.</td>\n",
       "      <td>0</td>\n",
       "    </tr>\n",
       "    <tr>\n",
       "      <th>1</th>\n",
       "      <td>여쭤볼려고 그러는데요.</td>\n",
       "      <td>0</td>\n",
       "    </tr>\n",
       "    <tr>\n",
       "      <th>2</th>\n",
       "      <td>그 지금 그거 뭘로 들어가 있어요?</td>\n",
       "      <td>0</td>\n",
       "    </tr>\n",
       "    <tr>\n",
       "      <th>3</th>\n",
       "      <td>예, 알겠습니다.</td>\n",
       "      <td>0</td>\n",
       "    </tr>\n",
       "    <tr>\n",
       "      <th>4</th>\n",
       "      <td>다른 더 확인해 드릴 것은 없으십니까?</td>\n",
       "      <td>0</td>\n",
       "    </tr>\n",
       "    <tr>\n",
       "      <th>...</th>\n",
       "      <td>...</td>\n",
       "      <td>...</td>\n",
       "    </tr>\n",
       "    <tr>\n",
       "      <th>1426063</th>\n",
       "      <td>아 제 연락처는 그만 놔 두고. l 놔 두고 이 저기 공공 사업 이런 거 하는 거 ...</td>\n",
       "      <td>7</td>\n",
       "    </tr>\n",
       "    <tr>\n",
       "      <th>1426064</th>\n",
       "      <td>그런 거는 너무 돈 있는 사람이 왜 그걸  먹고 사람들 이리 어 공무원들 그 자리에...</td>\n",
       "      <td>7</td>\n",
       "    </tr>\n",
       "    <tr>\n",
       "      <th>1426065</th>\n",
       "      <td>연락처를 남겨주시지 않을 경우에 원활히 접수 처리되지 못할 수 있으니 양해 부탁 드...</td>\n",
       "      <td>7</td>\n",
       "    </tr>\n",
       "    <tr>\n",
       "      <th>1426066</th>\n",
       "      <td>010 휴대폰 번호인가요?</td>\n",
       "      <td>7</td>\n",
       "    </tr>\n",
       "    <tr>\n",
       "      <th>1426067</th>\n",
       "      <td>네 연락처 함께 전달해서 접수될 수 있도록 하겠습니다.</td>\n",
       "      <td>7</td>\n",
       "    </tr>\n",
       "  </tbody>\n",
       "</table>\n",
       "<p>1426068 rows × 2 columns</p>\n",
       "</div>"
      ]
     },
     "execution_count": 7,
     "metadata": {},
     "output_type": "execute_result"
    }
   ],
   "execution_count": 7
  },
  {
   "metadata": {},
   "cell_type": "markdown",
   "source": "결측값 제거",
   "id": "1d71acb6954e7c76"
  },
  {
   "metadata": {
    "ExecuteTime": {
     "end_time": "2024-10-26T12:00:49.720247Z",
     "start_time": "2024-10-26T12:00:49.657232Z"
    }
   },
   "cell_type": "code",
   "source": [
    "print(len(text_data))\n",
    "text_data = text_data.dropna()\n",
    "text_data = text_data.reset_index(drop=True)\n",
    "print(len(text_data))\n",
    "text_data.tail()"
   ],
   "id": "d2b58f097430a221",
   "outputs": [
    {
     "name": "stdout",
     "output_type": "stream",
     "text": [
      "1426068\n",
      "1426068\n"
     ]
    },
    {
     "data": {
      "text/plain": [
       "                                                      text  label\n",
       "1426063  아 제 연락처는 그만 놔 두고. l 놔 두고 이 저기 공공 사업 이런 거 하는 거 ...      7\n",
       "1426064  그런 거는 너무 돈 있는 사람이 왜 그걸  먹고 사람들 이리 어 공무원들 그 자리에...      7\n",
       "1426065  연락처를 남겨주시지 않을 경우에 원활히 접수 처리되지 못할 수 있으니 양해 부탁 드...      7\n",
       "1426066                                     010 휴대폰 번호인가요?      7\n",
       "1426067                     네 연락처 함께 전달해서 접수될 수 있도록 하겠습니다.      7"
      ],
      "text/html": [
       "<div>\n",
       "<style scoped>\n",
       "    .dataframe tbody tr th:only-of-type {\n",
       "        vertical-align: middle;\n",
       "    }\n",
       "\n",
       "    .dataframe tbody tr th {\n",
       "        vertical-align: top;\n",
       "    }\n",
       "\n",
       "    .dataframe thead th {\n",
       "        text-align: right;\n",
       "    }\n",
       "</style>\n",
       "<table border=\"1\" class=\"dataframe\">\n",
       "  <thead>\n",
       "    <tr style=\"text-align: right;\">\n",
       "      <th></th>\n",
       "      <th>text</th>\n",
       "      <th>label</th>\n",
       "    </tr>\n",
       "  </thead>\n",
       "  <tbody>\n",
       "    <tr>\n",
       "      <th>1426063</th>\n",
       "      <td>아 제 연락처는 그만 놔 두고. l 놔 두고 이 저기 공공 사업 이런 거 하는 거 ...</td>\n",
       "      <td>7</td>\n",
       "    </tr>\n",
       "    <tr>\n",
       "      <th>1426064</th>\n",
       "      <td>그런 거는 너무 돈 있는 사람이 왜 그걸  먹고 사람들 이리 어 공무원들 그 자리에...</td>\n",
       "      <td>7</td>\n",
       "    </tr>\n",
       "    <tr>\n",
       "      <th>1426065</th>\n",
       "      <td>연락처를 남겨주시지 않을 경우에 원활히 접수 처리되지 못할 수 있으니 양해 부탁 드...</td>\n",
       "      <td>7</td>\n",
       "    </tr>\n",
       "    <tr>\n",
       "      <th>1426066</th>\n",
       "      <td>010 휴대폰 번호인가요?</td>\n",
       "      <td>7</td>\n",
       "    </tr>\n",
       "    <tr>\n",
       "      <th>1426067</th>\n",
       "      <td>네 연락처 함께 전달해서 접수될 수 있도록 하겠습니다.</td>\n",
       "      <td>7</td>\n",
       "    </tr>\n",
       "  </tbody>\n",
       "</table>\n",
       "</div>"
      ]
     },
     "execution_count": 8,
     "metadata": {},
     "output_type": "execute_result"
    }
   ],
   "execution_count": 8
  },
  {
   "metadata": {
    "ExecuteTime": {
     "end_time": "2024-10-26T12:00:55.694980Z",
     "start_time": "2024-10-26T12:00:55.656414Z"
    }
   },
   "cell_type": "code",
   "source": "text_data.info()",
   "id": "b3dea9e0a345767d",
   "outputs": [
    {
     "name": "stdout",
     "output_type": "stream",
     "text": [
      "<class 'pandas.core.frame.DataFrame'>\n",
      "RangeIndex: 1426068 entries, 0 to 1426067\n",
      "Data columns (total 2 columns):\n",
      " #   Column  Non-Null Count    Dtype \n",
      "---  ------  --------------    ----- \n",
      " 0   text    1426068 non-null  object\n",
      " 1   label   1426068 non-null  int64 \n",
      "dtypes: int64(1), object(1)\n",
      "memory usage: 21.8+ MB\n"
     ]
    }
   ],
   "execution_count": 9
  },
  {
   "metadata": {
    "ExecuteTime": {
     "end_time": "2024-10-26T12:02:37.600608Z",
     "start_time": "2024-10-26T12:02:37.573467Z"
    }
   },
   "cell_type": "code",
   "source": [
    "cond = (text_data.label == 0) | (text_data.label == 7)\n",
    "text_data_2 = text_data.loc[cond]\n",
    "text_data_2.label.value_counts(ascending=True)"
   ],
   "id": "7d9e137a7f598d3",
   "outputs": [
    {
     "data": {
      "text/plain": [
       "label\n",
       "0    179517\n",
       "7    258736\n",
       "Name: count, dtype: int64"
      ]
     },
     "execution_count": 13,
     "metadata": {},
     "output_type": "execute_result"
    }
   ],
   "execution_count": 13
  },
  {
   "metadata": {
    "ExecuteTime": {
     "end_time": "2024-10-26T12:03:32.387970Z",
     "start_time": "2024-10-26T12:03:32.379480Z"
    }
   },
   "cell_type": "code",
   "source": [
    "text_data_2.loc[text_data_2.label == 7, 'label'] = 1\n",
    "text_data_2.label.value_counts(ascending=True)"
   ],
   "id": "ddf581bcde3e8bf",
   "outputs": [
    {
     "data": {
      "text/plain": [
       "label\n",
       "0    179517\n",
       "1    258736\n",
       "Name: count, dtype: int64"
      ]
     },
     "execution_count": 14,
     "metadata": {},
     "output_type": "execute_result"
    }
   ],
   "execution_count": 14
  },
  {
   "metadata": {
    "ExecuteTime": {
     "end_time": "2024-10-26T12:03:41.792800Z",
     "start_time": "2024-10-26T12:03:41.790166Z"
    }
   },
   "cell_type": "code",
   "source": [
    "X = text_data_2.text\n",
    "Y = text_data_2.label"
   ],
   "id": "43af1c37c2e35255",
   "outputs": [],
   "execution_count": 15
  },
  {
   "metadata": {
    "ExecuteTime": {
     "end_time": "2024-10-26T12:03:48.588111Z",
     "start_time": "2024-10-26T12:03:46.306153Z"
    }
   },
   "cell_type": "code",
   "source": [
    "from sklearn.model_selection import train_test_split\n",
    "\n",
    "x_train, x_test, y_train, y_test = train_test_split(text_data['text'],text_data['label'],test_size=0.25)\n",
    "print(len(x_train), len(x_test), len(y_train), len(y_test))"
   ],
   "id": "807829d53244510",
   "outputs": [
    {
     "name": "stdout",
     "output_type": "stream",
     "text": [
      "1069551 356517 1069551 356517\n"
     ]
    }
   ],
   "execution_count": 16
  },
  {
   "metadata": {
    "ExecuteTime": {
     "end_time": "2024-10-20T10:16:44.671473Z",
     "start_time": "2024-10-20T10:16:44.570584Z"
    }
   },
   "cell_type": "code",
   "source": "X.info()",
   "id": "6798ee3c620fb59c",
   "outputs": [
    {
     "name": "stdout",
     "output_type": "stream",
     "text": [
      "<class 'pandas.core.series.Series'>\n",
      "RangeIndex: 1426067 entries, 0 to 1426066\n",
      "Series name: text\n",
      "Non-Null Count    Dtype \n",
      "--------------    ----- \n",
      "1426067 non-null  object\n",
      "dtypes: object(1)\n",
      "memory usage: 10.9+ MB\n"
     ]
    }
   ],
   "execution_count": 39
  },
  {
   "metadata": {},
   "cell_type": "markdown",
   "source": "## 토큰화",
   "id": "87ae61815e6f44aa"
  },
  {
   "metadata": {
    "ExecuteTime": {
     "end_time": "2024-10-26T12:03:53.475524Z",
     "start_time": "2024-10-26T12:03:52.504087Z"
    }
   },
   "cell_type": "code",
   "source": [
    "from konlpy.tag import Okt\n",
    "okt = Okt()"
   ],
   "id": "d623263e58f74aad",
   "outputs": [],
   "execution_count": 17
  },
  {
   "metadata": {
    "ExecuteTime": {
     "end_time": "2024-10-26T12:03:59.177734Z",
     "start_time": "2024-10-26T12:03:59.173384Z"
    }
   },
   "cell_type": "code",
   "source": [
    "# 시간개오래걸림\n",
    "# def token(dataframe):\n",
    "#     tokenized = []\n",
    "#     for sentence in tqdm(dataframe['text'], desc='dataFrame iterate'):\n",
    "#         time.sleep(0.1)\n",
    "#         tokens = okt.morphs(sentence)\n",
    "#         tokenize = \" \".join(tokens)\n",
    "#         tokenized.append(tokenize)\n",
    "# \n",
    "#         dataframe['tokenized'] = pd.DataFrame(tokenized)\n",
    "\n",
    "# pandas tqdm\n",
    "tqdm.pandas(desc=\"Tokenizing\")\n",
    "# 최적화 1번\n",
    "def token(dataframe):\n",
    "    return dataframe['text'].progress_apply(lambda sentence: \" \".join(okt.morphs(sentence)))\n"
   ],
   "id": "441451eb5d741412",
   "outputs": [],
   "execution_count": 18
  },
  {
   "metadata": {
    "ExecuteTime": {
     "end_time": "2024-10-26T12:04:28.332588Z",
     "start_time": "2024-10-26T12:04:28.325770Z"
    }
   },
   "cell_type": "code",
   "source": "test = text_data_2.copy()\n",
   "id": "2057c77f5e44f40d",
   "outputs": [],
   "execution_count": 19
  },
  {
   "metadata": {
    "ExecuteTime": {
     "end_time": "2024-10-26T12:04:31.079602Z",
     "start_time": "2024-10-26T12:04:31.073840Z"
    }
   },
   "cell_type": "code",
   "source": "test.shape",
   "id": "df41f80d8a22df40",
   "outputs": [
    {
     "data": {
      "text/plain": [
       "(438253, 2)"
      ]
     },
     "execution_count": 20,
     "metadata": {},
     "output_type": "execute_result"
    }
   ],
   "execution_count": 20
  },
  {
   "metadata": {
    "ExecuteTime": {
     "end_time": "2024-10-26T12:08:00.032153Z",
     "start_time": "2024-10-26T12:04:36.548386Z"
    }
   },
   "cell_type": "code",
   "source": [
    "# test['tokenized'] = test.progress_apply(lambda row : token(row['text']), axis=1)\n",
    "\n",
    "test['tokenized'] = token(test)\n",
    "test"
   ],
   "id": "8fd0b377b04b49b",
   "outputs": [
    {
     "name": "stderr",
     "output_type": "stream",
     "text": [
      "Tokenizing: 100%|██████████| 438253/438253 [03:23<00:00, 2153.96it/s]\n"
     ]
    },
    {
     "data": {
      "text/plain": [
       "                                                      text  label  \\\n",
       "0                                             예, 아유 수고하세요.      0   \n",
       "1                                             여쭤볼려고 그러는데요.      0   \n",
       "2                                      그 지금 그거 뭘로 들어가 있어요?      0   \n",
       "3                                                예, 알겠습니다.      0   \n",
       "4                                    다른 더 확인해 드릴 것은 없으십니까?      0   \n",
       "...                                                    ...    ...   \n",
       "1426063  아 제 연락처는 그만 놔 두고. l 놔 두고 이 저기 공공 사업 이런 거 하는 거 ...      1   \n",
       "1426064  그런 거는 너무 돈 있는 사람이 왜 그걸  먹고 사람들 이리 어 공무원들 그 자리에...      1   \n",
       "1426065  연락처를 남겨주시지 않을 경우에 원활히 접수 처리되지 못할 수 있으니 양해 부탁 드...      1   \n",
       "1426066                                     010 휴대폰 번호인가요?      1   \n",
       "1426067                     네 연락처 함께 전달해서 접수될 수 있도록 하겠습니다.      1   \n",
       "\n",
       "                                                 tokenized  \n",
       "0                                          예 , 아유 수고 하세요 .  \n",
       "1                                           여쭤 볼려고 그러는데요 .  \n",
       "2                                    그 지금 그거 뭘 로 들어가 있어요 ?  \n",
       "3                                              예 , 알겠습니다 .  \n",
       "4                                 다른 더 확인 해 드릴 것 은 없으십니까 ?  \n",
       "...                                                    ...  \n",
       "1426063  아 제 연락처 는 그만 놔 두고 . l 놔 두고 이 저기 공공 사업 이런 거 하는 ...  \n",
       "1426064  그런 거 는 너무 돈 있는 사람 이 왜 그걸 먹고 사람 들 이리 어 공무원 들 그 ...  \n",
       "1426065  연락처 를 남겨주시지 않을 경우 에 원활히 접수 처리 되지 못 할 수 있으니 양해 ...  \n",
       "1426066                                   010 휴대폰 번호 인가요 ?  \n",
       "1426067                  네 연락처 함께 전달 해서 접수 될 수 있도록 하겠습니다 .  \n",
       "\n",
       "[438253 rows x 3 columns]"
      ],
      "text/html": [
       "<div>\n",
       "<style scoped>\n",
       "    .dataframe tbody tr th:only-of-type {\n",
       "        vertical-align: middle;\n",
       "    }\n",
       "\n",
       "    .dataframe tbody tr th {\n",
       "        vertical-align: top;\n",
       "    }\n",
       "\n",
       "    .dataframe thead th {\n",
       "        text-align: right;\n",
       "    }\n",
       "</style>\n",
       "<table border=\"1\" class=\"dataframe\">\n",
       "  <thead>\n",
       "    <tr style=\"text-align: right;\">\n",
       "      <th></th>\n",
       "      <th>text</th>\n",
       "      <th>label</th>\n",
       "      <th>tokenized</th>\n",
       "    </tr>\n",
       "  </thead>\n",
       "  <tbody>\n",
       "    <tr>\n",
       "      <th>0</th>\n",
       "      <td>예, 아유 수고하세요.</td>\n",
       "      <td>0</td>\n",
       "      <td>예 , 아유 수고 하세요 .</td>\n",
       "    </tr>\n",
       "    <tr>\n",
       "      <th>1</th>\n",
       "      <td>여쭤볼려고 그러는데요.</td>\n",
       "      <td>0</td>\n",
       "      <td>여쭤 볼려고 그러는데요 .</td>\n",
       "    </tr>\n",
       "    <tr>\n",
       "      <th>2</th>\n",
       "      <td>그 지금 그거 뭘로 들어가 있어요?</td>\n",
       "      <td>0</td>\n",
       "      <td>그 지금 그거 뭘 로 들어가 있어요 ?</td>\n",
       "    </tr>\n",
       "    <tr>\n",
       "      <th>3</th>\n",
       "      <td>예, 알겠습니다.</td>\n",
       "      <td>0</td>\n",
       "      <td>예 , 알겠습니다 .</td>\n",
       "    </tr>\n",
       "    <tr>\n",
       "      <th>4</th>\n",
       "      <td>다른 더 확인해 드릴 것은 없으십니까?</td>\n",
       "      <td>0</td>\n",
       "      <td>다른 더 확인 해 드릴 것 은 없으십니까 ?</td>\n",
       "    </tr>\n",
       "    <tr>\n",
       "      <th>...</th>\n",
       "      <td>...</td>\n",
       "      <td>...</td>\n",
       "      <td>...</td>\n",
       "    </tr>\n",
       "    <tr>\n",
       "      <th>1426063</th>\n",
       "      <td>아 제 연락처는 그만 놔 두고. l 놔 두고 이 저기 공공 사업 이런 거 하는 거 ...</td>\n",
       "      <td>1</td>\n",
       "      <td>아 제 연락처 는 그만 놔 두고 . l 놔 두고 이 저기 공공 사업 이런 거 하는 ...</td>\n",
       "    </tr>\n",
       "    <tr>\n",
       "      <th>1426064</th>\n",
       "      <td>그런 거는 너무 돈 있는 사람이 왜 그걸  먹고 사람들 이리 어 공무원들 그 자리에...</td>\n",
       "      <td>1</td>\n",
       "      <td>그런 거 는 너무 돈 있는 사람 이 왜 그걸 먹고 사람 들 이리 어 공무원 들 그 ...</td>\n",
       "    </tr>\n",
       "    <tr>\n",
       "      <th>1426065</th>\n",
       "      <td>연락처를 남겨주시지 않을 경우에 원활히 접수 처리되지 못할 수 있으니 양해 부탁 드...</td>\n",
       "      <td>1</td>\n",
       "      <td>연락처 를 남겨주시지 않을 경우 에 원활히 접수 처리 되지 못 할 수 있으니 양해 ...</td>\n",
       "    </tr>\n",
       "    <tr>\n",
       "      <th>1426066</th>\n",
       "      <td>010 휴대폰 번호인가요?</td>\n",
       "      <td>1</td>\n",
       "      <td>010 휴대폰 번호 인가요 ?</td>\n",
       "    </tr>\n",
       "    <tr>\n",
       "      <th>1426067</th>\n",
       "      <td>네 연락처 함께 전달해서 접수될 수 있도록 하겠습니다.</td>\n",
       "      <td>1</td>\n",
       "      <td>네 연락처 함께 전달 해서 접수 될 수 있도록 하겠습니다 .</td>\n",
       "    </tr>\n",
       "  </tbody>\n",
       "</table>\n",
       "<p>438253 rows × 3 columns</p>\n",
       "</div>"
      ]
     },
     "execution_count": 21,
     "metadata": {},
     "output_type": "execute_result"
    }
   ],
   "execution_count": 21
  },
  {
   "metadata": {
    "ExecuteTime": {
     "end_time": "2024-10-20T11:40:04.718758Z",
     "start_time": "2024-10-20T11:40:04.710580Z"
    }
   },
   "cell_type": "code",
   "source": "test",
   "id": "da495ba7fb736273",
   "outputs": [
    {
     "data": {
      "text/plain": [
       "                                                      text  label  \\\n",
       "0                                             예, 아유 수고하세요.      0   \n",
       "1                                             여쭤볼려고 그러는데요.      0   \n",
       "2                                      그 지금 그거 뭘로 들어가 있어요?      0   \n",
       "3                                                예, 알겠습니다.      0   \n",
       "4                                    다른 더 확인해 드릴 것은 없으십니까?      0   \n",
       "...                                                    ...    ...   \n",
       "1426062  아 제 연락처는 그만 놔 두고. l 놔 두고 이 저기 공공 사업 이런 거 하는 거 ...      7   \n",
       "1426063  그런 거는 너무 돈 있는 사람이 왜 그걸  먹고 사람들 이리 어 공무원들 그 자리에...      7   \n",
       "1426064  연락처를 남겨주시지 않을 경우에 원활히 접수 처리되지 못할 수 있으니 양해 부탁 드...      7   \n",
       "1426065                                     010 휴대폰 번호인가요?      7   \n",
       "1426066                     네 연락처 함께 전달해서 접수될 수 있도록 하겠습니다.      7   \n",
       "\n",
       "                                                 tokenized  \n",
       "0                                          예 , 아유 수고 하세요 .  \n",
       "1                                           여쭤 볼려고 그러는데요 .  \n",
       "2                                    그 지금 그거 뭘 로 들어가 있어요 ?  \n",
       "3                                              예 , 알겠습니다 .  \n",
       "4                                 다른 더 확인 해 드릴 것 은 없으십니까 ?  \n",
       "...                                                    ...  \n",
       "1426062  아 제 연락처 는 그만 놔 두고 . l 놔 두고 이 저기 공공 사업 이런 거 하는 ...  \n",
       "1426063  그런 거 는 너무 돈 있는 사람 이 왜 그걸 먹고 사람 들 이리 어 공무원 들 그 ...  \n",
       "1426064  연락처 를 남겨주시지 않을 경우 에 원활히 접수 처리 되지 못 할 수 있으니 양해 ...  \n",
       "1426065                                   010 휴대폰 번호 인가요 ?  \n",
       "1426066                  네 연락처 함께 전달 해서 접수 될 수 있도록 하겠습니다 .  \n",
       "\n",
       "[1426067 rows x 3 columns]"
      ],
      "text/html": [
       "<div>\n",
       "<style scoped>\n",
       "    .dataframe tbody tr th:only-of-type {\n",
       "        vertical-align: middle;\n",
       "    }\n",
       "\n",
       "    .dataframe tbody tr th {\n",
       "        vertical-align: top;\n",
       "    }\n",
       "\n",
       "    .dataframe thead th {\n",
       "        text-align: right;\n",
       "    }\n",
       "</style>\n",
       "<table border=\"1\" class=\"dataframe\">\n",
       "  <thead>\n",
       "    <tr style=\"text-align: right;\">\n",
       "      <th></th>\n",
       "      <th>text</th>\n",
       "      <th>label</th>\n",
       "      <th>tokenized</th>\n",
       "    </tr>\n",
       "  </thead>\n",
       "  <tbody>\n",
       "    <tr>\n",
       "      <th>0</th>\n",
       "      <td>예, 아유 수고하세요.</td>\n",
       "      <td>0</td>\n",
       "      <td>예 , 아유 수고 하세요 .</td>\n",
       "    </tr>\n",
       "    <tr>\n",
       "      <th>1</th>\n",
       "      <td>여쭤볼려고 그러는데요.</td>\n",
       "      <td>0</td>\n",
       "      <td>여쭤 볼려고 그러는데요 .</td>\n",
       "    </tr>\n",
       "    <tr>\n",
       "      <th>2</th>\n",
       "      <td>그 지금 그거 뭘로 들어가 있어요?</td>\n",
       "      <td>0</td>\n",
       "      <td>그 지금 그거 뭘 로 들어가 있어요 ?</td>\n",
       "    </tr>\n",
       "    <tr>\n",
       "      <th>3</th>\n",
       "      <td>예, 알겠습니다.</td>\n",
       "      <td>0</td>\n",
       "      <td>예 , 알겠습니다 .</td>\n",
       "    </tr>\n",
       "    <tr>\n",
       "      <th>4</th>\n",
       "      <td>다른 더 확인해 드릴 것은 없으십니까?</td>\n",
       "      <td>0</td>\n",
       "      <td>다른 더 확인 해 드릴 것 은 없으십니까 ?</td>\n",
       "    </tr>\n",
       "    <tr>\n",
       "      <th>...</th>\n",
       "      <td>...</td>\n",
       "      <td>...</td>\n",
       "      <td>...</td>\n",
       "    </tr>\n",
       "    <tr>\n",
       "      <th>1426062</th>\n",
       "      <td>아 제 연락처는 그만 놔 두고. l 놔 두고 이 저기 공공 사업 이런 거 하는 거 ...</td>\n",
       "      <td>7</td>\n",
       "      <td>아 제 연락처 는 그만 놔 두고 . l 놔 두고 이 저기 공공 사업 이런 거 하는 ...</td>\n",
       "    </tr>\n",
       "    <tr>\n",
       "      <th>1426063</th>\n",
       "      <td>그런 거는 너무 돈 있는 사람이 왜 그걸  먹고 사람들 이리 어 공무원들 그 자리에...</td>\n",
       "      <td>7</td>\n",
       "      <td>그런 거 는 너무 돈 있는 사람 이 왜 그걸 먹고 사람 들 이리 어 공무원 들 그 ...</td>\n",
       "    </tr>\n",
       "    <tr>\n",
       "      <th>1426064</th>\n",
       "      <td>연락처를 남겨주시지 않을 경우에 원활히 접수 처리되지 못할 수 있으니 양해 부탁 드...</td>\n",
       "      <td>7</td>\n",
       "      <td>연락처 를 남겨주시지 않을 경우 에 원활히 접수 처리 되지 못 할 수 있으니 양해 ...</td>\n",
       "    </tr>\n",
       "    <tr>\n",
       "      <th>1426065</th>\n",
       "      <td>010 휴대폰 번호인가요?</td>\n",
       "      <td>7</td>\n",
       "      <td>010 휴대폰 번호 인가요 ?</td>\n",
       "    </tr>\n",
       "    <tr>\n",
       "      <th>1426066</th>\n",
       "      <td>네 연락처 함께 전달해서 접수될 수 있도록 하겠습니다.</td>\n",
       "      <td>7</td>\n",
       "      <td>네 연락처 함께 전달 해서 접수 될 수 있도록 하겠습니다 .</td>\n",
       "    </tr>\n",
       "  </tbody>\n",
       "</table>\n",
       "<p>1426067 rows × 3 columns</p>\n",
       "</div>"
      ]
     },
     "execution_count": 194,
     "metadata": {},
     "output_type": "execute_result"
    }
   ],
   "execution_count": 194
  },
  {
   "metadata": {
    "ExecuteTime": {
     "end_time": "2024-10-21T00:42:52.938634Z",
     "start_time": "2024-10-21T00:42:52.696539Z"
    }
   },
   "cell_type": "code",
   "source": "test.to_csv(\"tokenized/tokenized.csv\", index=False)",
   "id": "f5f799bb1f4c178b",
   "outputs": [
    {
     "ename": "OSError",
     "evalue": "Cannot save file into a non-existent directory: 'tokenized'",
     "output_type": "error",
     "traceback": [
      "\u001B[1;31m---------------------------------------------------------------------------\u001B[0m",
      "\u001B[1;31mOSError\u001B[0m                                   Traceback (most recent call last)",
      "Cell \u001B[1;32mIn[19], line 1\u001B[0m\n\u001B[1;32m----> 1\u001B[0m \u001B[43mtest\u001B[49m\u001B[38;5;241;43m.\u001B[39;49m\u001B[43mto_csv\u001B[49m\u001B[43m(\u001B[49m\u001B[38;5;124;43m\"\u001B[39;49m\u001B[38;5;124;43mtokenized/tokenized.csv\u001B[39;49m\u001B[38;5;124;43m\"\u001B[39;49m\u001B[43m,\u001B[49m\u001B[43m \u001B[49m\u001B[43mindex\u001B[49m\u001B[38;5;241;43m=\u001B[39;49m\u001B[38;5;28;43;01mFalse\u001B[39;49;00m\u001B[43m)\u001B[49m\n",
      "File \u001B[1;32m~\\PycharmProjects\\kdt_aicc\\.venv\\Lib\\site-packages\\pandas\\util\\_decorators.py:333\u001B[0m, in \u001B[0;36mdeprecate_nonkeyword_arguments.<locals>.decorate.<locals>.wrapper\u001B[1;34m(*args, **kwargs)\u001B[0m\n\u001B[0;32m    327\u001B[0m \u001B[38;5;28;01mif\u001B[39;00m \u001B[38;5;28mlen\u001B[39m(args) \u001B[38;5;241m>\u001B[39m num_allow_args:\n\u001B[0;32m    328\u001B[0m     warnings\u001B[38;5;241m.\u001B[39mwarn(\n\u001B[0;32m    329\u001B[0m         msg\u001B[38;5;241m.\u001B[39mformat(arguments\u001B[38;5;241m=\u001B[39m_format_argument_list(allow_args)),\n\u001B[0;32m    330\u001B[0m         \u001B[38;5;167;01mFutureWarning\u001B[39;00m,\n\u001B[0;32m    331\u001B[0m         stacklevel\u001B[38;5;241m=\u001B[39mfind_stack_level(),\n\u001B[0;32m    332\u001B[0m     )\n\u001B[1;32m--> 333\u001B[0m \u001B[38;5;28;01mreturn\u001B[39;00m \u001B[43mfunc\u001B[49m\u001B[43m(\u001B[49m\u001B[38;5;241;43m*\u001B[39;49m\u001B[43margs\u001B[49m\u001B[43m,\u001B[49m\u001B[43m \u001B[49m\u001B[38;5;241;43m*\u001B[39;49m\u001B[38;5;241;43m*\u001B[39;49m\u001B[43mkwargs\u001B[49m\u001B[43m)\u001B[49m\n",
      "File \u001B[1;32m~\\PycharmProjects\\kdt_aicc\\.venv\\Lib\\site-packages\\pandas\\core\\generic.py:3967\u001B[0m, in \u001B[0;36mNDFrame.to_csv\u001B[1;34m(self, path_or_buf, sep, na_rep, float_format, columns, header, index, index_label, mode, encoding, compression, quoting, quotechar, lineterminator, chunksize, date_format, doublequote, escapechar, decimal, errors, storage_options)\u001B[0m\n\u001B[0;32m   3956\u001B[0m df \u001B[38;5;241m=\u001B[39m \u001B[38;5;28mself\u001B[39m \u001B[38;5;28;01mif\u001B[39;00m \u001B[38;5;28misinstance\u001B[39m(\u001B[38;5;28mself\u001B[39m, ABCDataFrame) \u001B[38;5;28;01melse\u001B[39;00m \u001B[38;5;28mself\u001B[39m\u001B[38;5;241m.\u001B[39mto_frame()\n\u001B[0;32m   3958\u001B[0m formatter \u001B[38;5;241m=\u001B[39m DataFrameFormatter(\n\u001B[0;32m   3959\u001B[0m     frame\u001B[38;5;241m=\u001B[39mdf,\n\u001B[0;32m   3960\u001B[0m     header\u001B[38;5;241m=\u001B[39mheader,\n\u001B[1;32m   (...)\u001B[0m\n\u001B[0;32m   3964\u001B[0m     decimal\u001B[38;5;241m=\u001B[39mdecimal,\n\u001B[0;32m   3965\u001B[0m )\n\u001B[1;32m-> 3967\u001B[0m \u001B[38;5;28;01mreturn\u001B[39;00m \u001B[43mDataFrameRenderer\u001B[49m\u001B[43m(\u001B[49m\u001B[43mformatter\u001B[49m\u001B[43m)\u001B[49m\u001B[38;5;241;43m.\u001B[39;49m\u001B[43mto_csv\u001B[49m\u001B[43m(\u001B[49m\n\u001B[0;32m   3968\u001B[0m \u001B[43m    \u001B[49m\u001B[43mpath_or_buf\u001B[49m\u001B[43m,\u001B[49m\n\u001B[0;32m   3969\u001B[0m \u001B[43m    \u001B[49m\u001B[43mlineterminator\u001B[49m\u001B[38;5;241;43m=\u001B[39;49m\u001B[43mlineterminator\u001B[49m\u001B[43m,\u001B[49m\n\u001B[0;32m   3970\u001B[0m \u001B[43m    \u001B[49m\u001B[43msep\u001B[49m\u001B[38;5;241;43m=\u001B[39;49m\u001B[43msep\u001B[49m\u001B[43m,\u001B[49m\n\u001B[0;32m   3971\u001B[0m \u001B[43m    \u001B[49m\u001B[43mencoding\u001B[49m\u001B[38;5;241;43m=\u001B[39;49m\u001B[43mencoding\u001B[49m\u001B[43m,\u001B[49m\n\u001B[0;32m   3972\u001B[0m \u001B[43m    \u001B[49m\u001B[43merrors\u001B[49m\u001B[38;5;241;43m=\u001B[39;49m\u001B[43merrors\u001B[49m\u001B[43m,\u001B[49m\n\u001B[0;32m   3973\u001B[0m \u001B[43m    \u001B[49m\u001B[43mcompression\u001B[49m\u001B[38;5;241;43m=\u001B[39;49m\u001B[43mcompression\u001B[49m\u001B[43m,\u001B[49m\n\u001B[0;32m   3974\u001B[0m \u001B[43m    \u001B[49m\u001B[43mquoting\u001B[49m\u001B[38;5;241;43m=\u001B[39;49m\u001B[43mquoting\u001B[49m\u001B[43m,\u001B[49m\n\u001B[0;32m   3975\u001B[0m \u001B[43m    \u001B[49m\u001B[43mcolumns\u001B[49m\u001B[38;5;241;43m=\u001B[39;49m\u001B[43mcolumns\u001B[49m\u001B[43m,\u001B[49m\n\u001B[0;32m   3976\u001B[0m \u001B[43m    \u001B[49m\u001B[43mindex_label\u001B[49m\u001B[38;5;241;43m=\u001B[39;49m\u001B[43mindex_label\u001B[49m\u001B[43m,\u001B[49m\n\u001B[0;32m   3977\u001B[0m \u001B[43m    \u001B[49m\u001B[43mmode\u001B[49m\u001B[38;5;241;43m=\u001B[39;49m\u001B[43mmode\u001B[49m\u001B[43m,\u001B[49m\n\u001B[0;32m   3978\u001B[0m \u001B[43m    \u001B[49m\u001B[43mchunksize\u001B[49m\u001B[38;5;241;43m=\u001B[39;49m\u001B[43mchunksize\u001B[49m\u001B[43m,\u001B[49m\n\u001B[0;32m   3979\u001B[0m \u001B[43m    \u001B[49m\u001B[43mquotechar\u001B[49m\u001B[38;5;241;43m=\u001B[39;49m\u001B[43mquotechar\u001B[49m\u001B[43m,\u001B[49m\n\u001B[0;32m   3980\u001B[0m \u001B[43m    \u001B[49m\u001B[43mdate_format\u001B[49m\u001B[38;5;241;43m=\u001B[39;49m\u001B[43mdate_format\u001B[49m\u001B[43m,\u001B[49m\n\u001B[0;32m   3981\u001B[0m \u001B[43m    \u001B[49m\u001B[43mdoublequote\u001B[49m\u001B[38;5;241;43m=\u001B[39;49m\u001B[43mdoublequote\u001B[49m\u001B[43m,\u001B[49m\n\u001B[0;32m   3982\u001B[0m \u001B[43m    \u001B[49m\u001B[43mescapechar\u001B[49m\u001B[38;5;241;43m=\u001B[39;49m\u001B[43mescapechar\u001B[49m\u001B[43m,\u001B[49m\n\u001B[0;32m   3983\u001B[0m \u001B[43m    \u001B[49m\u001B[43mstorage_options\u001B[49m\u001B[38;5;241;43m=\u001B[39;49m\u001B[43mstorage_options\u001B[49m\u001B[43m,\u001B[49m\n\u001B[0;32m   3984\u001B[0m \u001B[43m\u001B[49m\u001B[43m)\u001B[49m\n",
      "File \u001B[1;32m~\\PycharmProjects\\kdt_aicc\\.venv\\Lib\\site-packages\\pandas\\io\\formats\\format.py:1014\u001B[0m, in \u001B[0;36mDataFrameRenderer.to_csv\u001B[1;34m(self, path_or_buf, encoding, sep, columns, index_label, mode, compression, quoting, quotechar, lineterminator, chunksize, date_format, doublequote, escapechar, errors, storage_options)\u001B[0m\n\u001B[0;32m    993\u001B[0m     created_buffer \u001B[38;5;241m=\u001B[39m \u001B[38;5;28;01mFalse\u001B[39;00m\n\u001B[0;32m    995\u001B[0m csv_formatter \u001B[38;5;241m=\u001B[39m CSVFormatter(\n\u001B[0;32m    996\u001B[0m     path_or_buf\u001B[38;5;241m=\u001B[39mpath_or_buf,\n\u001B[0;32m    997\u001B[0m     lineterminator\u001B[38;5;241m=\u001B[39mlineterminator,\n\u001B[1;32m   (...)\u001B[0m\n\u001B[0;32m   1012\u001B[0m     formatter\u001B[38;5;241m=\u001B[39m\u001B[38;5;28mself\u001B[39m\u001B[38;5;241m.\u001B[39mfmt,\n\u001B[0;32m   1013\u001B[0m )\n\u001B[1;32m-> 1014\u001B[0m \u001B[43mcsv_formatter\u001B[49m\u001B[38;5;241;43m.\u001B[39;49m\u001B[43msave\u001B[49m\u001B[43m(\u001B[49m\u001B[43m)\u001B[49m\n\u001B[0;32m   1016\u001B[0m \u001B[38;5;28;01mif\u001B[39;00m created_buffer:\n\u001B[0;32m   1017\u001B[0m     \u001B[38;5;28;01massert\u001B[39;00m \u001B[38;5;28misinstance\u001B[39m(path_or_buf, StringIO)\n",
      "File \u001B[1;32m~\\PycharmProjects\\kdt_aicc\\.venv\\Lib\\site-packages\\pandas\\io\\formats\\csvs.py:251\u001B[0m, in \u001B[0;36mCSVFormatter.save\u001B[1;34m(self)\u001B[0m\n\u001B[0;32m    247\u001B[0m \u001B[38;5;250m\u001B[39m\u001B[38;5;124;03m\"\"\"\u001B[39;00m\n\u001B[0;32m    248\u001B[0m \u001B[38;5;124;03mCreate the writer & save.\u001B[39;00m\n\u001B[0;32m    249\u001B[0m \u001B[38;5;124;03m\"\"\"\u001B[39;00m\n\u001B[0;32m    250\u001B[0m \u001B[38;5;66;03m# apply compression and byte/text conversion\u001B[39;00m\n\u001B[1;32m--> 251\u001B[0m \u001B[38;5;28;01mwith\u001B[39;00m \u001B[43mget_handle\u001B[49m\u001B[43m(\u001B[49m\n\u001B[0;32m    252\u001B[0m \u001B[43m    \u001B[49m\u001B[38;5;28;43mself\u001B[39;49m\u001B[38;5;241;43m.\u001B[39;49m\u001B[43mfilepath_or_buffer\u001B[49m\u001B[43m,\u001B[49m\n\u001B[0;32m    253\u001B[0m \u001B[43m    \u001B[49m\u001B[38;5;28;43mself\u001B[39;49m\u001B[38;5;241;43m.\u001B[39;49m\u001B[43mmode\u001B[49m\u001B[43m,\u001B[49m\n\u001B[0;32m    254\u001B[0m \u001B[43m    \u001B[49m\u001B[43mencoding\u001B[49m\u001B[38;5;241;43m=\u001B[39;49m\u001B[38;5;28;43mself\u001B[39;49m\u001B[38;5;241;43m.\u001B[39;49m\u001B[43mencoding\u001B[49m\u001B[43m,\u001B[49m\n\u001B[0;32m    255\u001B[0m \u001B[43m    \u001B[49m\u001B[43merrors\u001B[49m\u001B[38;5;241;43m=\u001B[39;49m\u001B[38;5;28;43mself\u001B[39;49m\u001B[38;5;241;43m.\u001B[39;49m\u001B[43merrors\u001B[49m\u001B[43m,\u001B[49m\n\u001B[0;32m    256\u001B[0m \u001B[43m    \u001B[49m\u001B[43mcompression\u001B[49m\u001B[38;5;241;43m=\u001B[39;49m\u001B[38;5;28;43mself\u001B[39;49m\u001B[38;5;241;43m.\u001B[39;49m\u001B[43mcompression\u001B[49m\u001B[43m,\u001B[49m\n\u001B[0;32m    257\u001B[0m \u001B[43m    \u001B[49m\u001B[43mstorage_options\u001B[49m\u001B[38;5;241;43m=\u001B[39;49m\u001B[38;5;28;43mself\u001B[39;49m\u001B[38;5;241;43m.\u001B[39;49m\u001B[43mstorage_options\u001B[49m\u001B[43m,\u001B[49m\n\u001B[0;32m    258\u001B[0m \u001B[43m\u001B[49m\u001B[43m)\u001B[49m \u001B[38;5;28;01mas\u001B[39;00m handles:\n\u001B[0;32m    259\u001B[0m     \u001B[38;5;66;03m# Note: self.encoding is irrelevant here\u001B[39;00m\n\u001B[0;32m    260\u001B[0m     \u001B[38;5;28mself\u001B[39m\u001B[38;5;241m.\u001B[39mwriter \u001B[38;5;241m=\u001B[39m csvlib\u001B[38;5;241m.\u001B[39mwriter(\n\u001B[0;32m    261\u001B[0m         handles\u001B[38;5;241m.\u001B[39mhandle,\n\u001B[0;32m    262\u001B[0m         lineterminator\u001B[38;5;241m=\u001B[39m\u001B[38;5;28mself\u001B[39m\u001B[38;5;241m.\u001B[39mlineterminator,\n\u001B[1;32m   (...)\u001B[0m\n\u001B[0;32m    267\u001B[0m         quotechar\u001B[38;5;241m=\u001B[39m\u001B[38;5;28mself\u001B[39m\u001B[38;5;241m.\u001B[39mquotechar,\n\u001B[0;32m    268\u001B[0m     )\n\u001B[0;32m    270\u001B[0m     \u001B[38;5;28mself\u001B[39m\u001B[38;5;241m.\u001B[39m_save()\n",
      "File \u001B[1;32m~\\PycharmProjects\\kdt_aicc\\.venv\\Lib\\site-packages\\pandas\\io\\common.py:749\u001B[0m, in \u001B[0;36mget_handle\u001B[1;34m(path_or_buf, mode, encoding, compression, memory_map, is_text, errors, storage_options)\u001B[0m\n\u001B[0;32m    747\u001B[0m \u001B[38;5;66;03m# Only for write methods\u001B[39;00m\n\u001B[0;32m    748\u001B[0m \u001B[38;5;28;01mif\u001B[39;00m \u001B[38;5;124m\"\u001B[39m\u001B[38;5;124mr\u001B[39m\u001B[38;5;124m\"\u001B[39m \u001B[38;5;129;01mnot\u001B[39;00m \u001B[38;5;129;01min\u001B[39;00m mode \u001B[38;5;129;01mand\u001B[39;00m is_path:\n\u001B[1;32m--> 749\u001B[0m     \u001B[43mcheck_parent_directory\u001B[49m\u001B[43m(\u001B[49m\u001B[38;5;28;43mstr\u001B[39;49m\u001B[43m(\u001B[49m\u001B[43mhandle\u001B[49m\u001B[43m)\u001B[49m\u001B[43m)\u001B[49m\n\u001B[0;32m    751\u001B[0m \u001B[38;5;28;01mif\u001B[39;00m compression:\n\u001B[0;32m    752\u001B[0m     \u001B[38;5;28;01mif\u001B[39;00m compression \u001B[38;5;241m!=\u001B[39m \u001B[38;5;124m\"\u001B[39m\u001B[38;5;124mzstd\u001B[39m\u001B[38;5;124m\"\u001B[39m:\n\u001B[0;32m    753\u001B[0m         \u001B[38;5;66;03m# compression libraries do not like an explicit text-mode\u001B[39;00m\n",
      "File \u001B[1;32m~\\PycharmProjects\\kdt_aicc\\.venv\\Lib\\site-packages\\pandas\\io\\common.py:616\u001B[0m, in \u001B[0;36mcheck_parent_directory\u001B[1;34m(path)\u001B[0m\n\u001B[0;32m    614\u001B[0m parent \u001B[38;5;241m=\u001B[39m Path(path)\u001B[38;5;241m.\u001B[39mparent\n\u001B[0;32m    615\u001B[0m \u001B[38;5;28;01mif\u001B[39;00m \u001B[38;5;129;01mnot\u001B[39;00m parent\u001B[38;5;241m.\u001B[39mis_dir():\n\u001B[1;32m--> 616\u001B[0m     \u001B[38;5;28;01mraise\u001B[39;00m \u001B[38;5;167;01mOSError\u001B[39;00m(\u001B[38;5;124mrf\u001B[39m\u001B[38;5;124m\"\u001B[39m\u001B[38;5;124mCannot save file into a non-existent directory: \u001B[39m\u001B[38;5;124m'\u001B[39m\u001B[38;5;132;01m{\u001B[39;00mparent\u001B[38;5;132;01m}\u001B[39;00m\u001B[38;5;124m'\u001B[39m\u001B[38;5;124m\"\u001B[39m)\n",
      "\u001B[1;31mOSError\u001B[0m: Cannot save file into a non-existent directory: 'tokenized'"
     ]
    }
   ],
   "execution_count": 19
  },
  {
   "metadata": {
    "ExecuteTime": {
     "end_time": "2024-10-26T12:08:14.416334Z",
     "start_time": "2024-10-26T12:08:14.409510Z"
    }
   },
   "cell_type": "code",
   "source": "test.tail()",
   "id": "5baf8e8716cb7024",
   "outputs": [
    {
     "data": {
      "text/plain": [
       "                                                      text  label  \\\n",
       "1426063  아 제 연락처는 그만 놔 두고. l 놔 두고 이 저기 공공 사업 이런 거 하는 거 ...      1   \n",
       "1426064  그런 거는 너무 돈 있는 사람이 왜 그걸  먹고 사람들 이리 어 공무원들 그 자리에...      1   \n",
       "1426065  연락처를 남겨주시지 않을 경우에 원활히 접수 처리되지 못할 수 있으니 양해 부탁 드...      1   \n",
       "1426066                                     010 휴대폰 번호인가요?      1   \n",
       "1426067                     네 연락처 함께 전달해서 접수될 수 있도록 하겠습니다.      1   \n",
       "\n",
       "                                                 tokenized  \n",
       "1426063  아 제 연락처 는 그만 놔 두고 . l 놔 두고 이 저기 공공 사업 이런 거 하는 ...  \n",
       "1426064  그런 거 는 너무 돈 있는 사람 이 왜 그걸 먹고 사람 들 이리 어 공무원 들 그 ...  \n",
       "1426065  연락처 를 남겨주시지 않을 경우 에 원활히 접수 처리 되지 못 할 수 있으니 양해 ...  \n",
       "1426066                                   010 휴대폰 번호 인가요 ?  \n",
       "1426067                  네 연락처 함께 전달 해서 접수 될 수 있도록 하겠습니다 .  "
      ],
      "text/html": [
       "<div>\n",
       "<style scoped>\n",
       "    .dataframe tbody tr th:only-of-type {\n",
       "        vertical-align: middle;\n",
       "    }\n",
       "\n",
       "    .dataframe tbody tr th {\n",
       "        vertical-align: top;\n",
       "    }\n",
       "\n",
       "    .dataframe thead th {\n",
       "        text-align: right;\n",
       "    }\n",
       "</style>\n",
       "<table border=\"1\" class=\"dataframe\">\n",
       "  <thead>\n",
       "    <tr style=\"text-align: right;\">\n",
       "      <th></th>\n",
       "      <th>text</th>\n",
       "      <th>label</th>\n",
       "      <th>tokenized</th>\n",
       "    </tr>\n",
       "  </thead>\n",
       "  <tbody>\n",
       "    <tr>\n",
       "      <th>1426063</th>\n",
       "      <td>아 제 연락처는 그만 놔 두고. l 놔 두고 이 저기 공공 사업 이런 거 하는 거 ...</td>\n",
       "      <td>1</td>\n",
       "      <td>아 제 연락처 는 그만 놔 두고 . l 놔 두고 이 저기 공공 사업 이런 거 하는 ...</td>\n",
       "    </tr>\n",
       "    <tr>\n",
       "      <th>1426064</th>\n",
       "      <td>그런 거는 너무 돈 있는 사람이 왜 그걸  먹고 사람들 이리 어 공무원들 그 자리에...</td>\n",
       "      <td>1</td>\n",
       "      <td>그런 거 는 너무 돈 있는 사람 이 왜 그걸 먹고 사람 들 이리 어 공무원 들 그 ...</td>\n",
       "    </tr>\n",
       "    <tr>\n",
       "      <th>1426065</th>\n",
       "      <td>연락처를 남겨주시지 않을 경우에 원활히 접수 처리되지 못할 수 있으니 양해 부탁 드...</td>\n",
       "      <td>1</td>\n",
       "      <td>연락처 를 남겨주시지 않을 경우 에 원활히 접수 처리 되지 못 할 수 있으니 양해 ...</td>\n",
       "    </tr>\n",
       "    <tr>\n",
       "      <th>1426066</th>\n",
       "      <td>010 휴대폰 번호인가요?</td>\n",
       "      <td>1</td>\n",
       "      <td>010 휴대폰 번호 인가요 ?</td>\n",
       "    </tr>\n",
       "    <tr>\n",
       "      <th>1426067</th>\n",
       "      <td>네 연락처 함께 전달해서 접수될 수 있도록 하겠습니다.</td>\n",
       "      <td>1</td>\n",
       "      <td>네 연락처 함께 전달 해서 접수 될 수 있도록 하겠습니다 .</td>\n",
       "    </tr>\n",
       "  </tbody>\n",
       "</table>\n",
       "</div>"
      ]
     },
     "execution_count": 23,
     "metadata": {},
     "output_type": "execute_result"
    }
   ],
   "execution_count": 23
  },
  {
   "metadata": {},
   "cell_type": "markdown",
   "source": "## 품사 태깅(POS Tagging)",
   "id": "bbae4ed192fd840"
  },
  {
   "metadata": {
    "ExecuteTime": {
     "end_time": "2024-10-20T12:58:10.477365Z",
     "start_time": "2024-10-20T12:58:09.457531Z"
    }
   },
   "cell_type": "code",
   "source": [
    "# 제외 품사 설정\n",
    "exclusion_tags_Okt = [\n",
    "    'Josa', 'Punctuation', 'Conjunction',\n",
    "    # 조사, 구두점, 접속사\n",
    "    'PreEomi', 'Eomi', 'Suffix', 'Number'\n",
    "    # 선어말어미, 어미, 접미사, 숫자\n",
    "]\n",
    "\n",
    "exclusion_tags_Komoran = [\n",
    "    'NNBC', 'VX', 'IC', \n",
    "    'JKS', 'JKC', 'JKG', 'JKO', 'JKB', 'JKV', 'JKQ',\n",
    "    'JX', 'JC',\n",
    "    'SF', 'SP', 'SS', 'SE', 'SO', \n",
    "    'EP', 'EF', 'EC', 'ETN', 'ETM',\n",
    "    'XSN', 'XSV', 'XSA', 'XPN'\n",
    "]\n",
    "# 불용어 리스트 출력\n",
    "path = 'korean_stopwords.txt'\n",
    "with open(path, 'r', encoding='utf-8') as f:\n",
    "    stopwords = f.readlines()\n",
    "stopword_list = [x.strip() for x in stopwords] \n",
    "stopword_list += ['의', '가', '이', '은', '들', '는', '좀',\n",
    "                  '잘', '걍', '과', '도', '를', '으로', '자', '에',\n",
    "                  '와', '한', '하다']\n",
    "\n",
    "\n",
    "# Komoran으로 품사 태깅\n",
    "# from konlpy.tag import Komoran\n",
    "# komoran = Komoran()\n",
    "\n",
    "from konlpy.tag import Komoran\n",
    "komoran = Komoran()\n",
    "\n",
    "\n",
    "text_list = list(welfare_df['text'])[:30]\n",
    "\n",
    "f = lambda x: x in exclusion_tags_Komoran\n",
    "s = lambda x: x in stopword_list\n",
    "word_list = []\n",
    "for text in text_list:\n",
    "    # pos = okt.pos(text)\n",
    "    pos = komoran.pos(text)\n",
    "    for p in pos:\n",
    "        if (f(p[1]) is False) and (s(p[0]) is False):\n",
    "            word_list.append(p[0])\n",
    "\n",
    "word_list"
   ],
   "id": "61acff9931bfbb37",
   "outputs": [
    {
     "data": {
      "text/plain": [
       "['안녕하세요',\n",
       " '안녕하십니까',\n",
       " '다르',\n",
       " '아들',\n",
       " '디디',\n",
       " '씨앗',\n",
       " '통장',\n",
       " '해지',\n",
       " '죄송',\n",
       " '제가',\n",
       " '답변',\n",
       " '어렵',\n",
       " '때문',\n",
       " '담당자',\n",
       " '연결',\n",
       " '드리',\n",
       " '알',\n",
       " '고객',\n",
       " '연결',\n",
       " '중',\n",
       " '전화',\n",
       " '끊기',\n",
       " '담당자',\n",
       " '연결',\n",
       " '알',\n",
       " '좋',\n",
       " '상담',\n",
       " '이어',\n",
       " '고객',\n",
       " '디디',\n",
       " '씨앗',\n",
       " '통장',\n",
       " '해지',\n",
       " '관련',\n",
       " '문의',\n",
       " '연결',\n",
       " '수고',\n",
       " '가지',\n",
       " '여쭈',\n",
       " '게',\n",
       " '있',\n",
       " '여쭈',\n",
       " '통화',\n",
       " '되',\n",
       " '불편',\n",
       " '사항',\n",
       " '고객',\n",
       " '불편',\n",
       " '사항',\n",
       " '궁금',\n",
       " '거',\n",
       " '때문',\n",
       " '내용',\n",
       " '말씀',\n",
       " '제가',\n",
       " '답변',\n",
       " '수',\n",
       " '있',\n",
       " '내용',\n",
       " '답변',\n",
       " '담당자',\n",
       " '연결',\n",
       " '필요',\n",
       " '연결',\n",
       " '1',\n",
       " '가지',\n",
       " '궁금',\n",
       " '걸',\n",
       " '지금',\n",
       " '제가',\n",
       " '살',\n",
       " '곳',\n",
       " '국공립',\n",
       " '어린이집',\n",
       " '세우',\n",
       " '데',\n",
       " '아이들',\n",
       " '비율',\n",
       " '입주민',\n",
       " '60',\n",
       " '%',\n",
       " '되',\n",
       " '근데',\n",
       " '60',\n",
       " '%',\n",
       " '뭐',\n",
       " '뭐',\n",
       " '정하',\n",
       " '인제',\n",
       " '법률',\n",
       " '정해진',\n",
       " '부분',\n",
       " '그런',\n",
       " '건',\n",
       " '거',\n",
       " '같',\n",
       " '왜냐면',\n",
       " '이제',\n",
       " '타',\n",
       " '아파트',\n",
       " '타',\n",
       " '지역',\n",
       " '같',\n",
       " '경우',\n",
       " '많이',\n",
       " '달',\n",
       " '르',\n",
       " '덜',\n",
       " '이거',\n",
       " '알아보',\n",
       " '거',\n",
       " '인제',\n",
       " '궁금',\n",
       " '여쭈',\n",
       " '쪼금',\n",
       " '더',\n",
       " '아파트',\n",
       " '입주',\n",
       " '입장',\n",
       " '더',\n",
       " '높',\n",
       " '7',\n",
       " '80',\n",
       " '%',\n",
       " '이렇',\n",
       " '높',\n",
       " '조정',\n",
       " '가능',\n",
       " '죄송',\n",
       " '그렇',\n",
       " '제가',\n",
       " '답변',\n",
       " '어렵',\n",
       " '고객',\n",
       " '제가',\n",
       " '어린이집',\n",
       " '국공립',\n",
       " '어린이집',\n",
       " '제가',\n",
       " '어린이',\n",
       " '담당자',\n",
       " '연결',\n",
       " '해',\n",
       " '드릴',\n",
       " '텐',\n",
       " '데',\n",
       " '연결',\n",
       " '중',\n",
       " '전화',\n",
       " '끊기']"
      ]
     },
     "execution_count": 207,
     "metadata": {},
     "output_type": "execute_result"
    }
   ],
   "execution_count": 207
  },
  {
   "metadata": {
    "ExecuteTime": {
     "end_time": "2024-10-20T13:36:16.147766Z",
     "start_time": "2024-10-20T13:36:15.421236Z"
    }
   },
   "cell_type": "code",
   "source": [
    "post_tagging_sample = test.copy()\n",
    "post_tagging_sample"
   ],
   "id": "b6f8a9684bf024fa",
   "outputs": [
    {
     "data": {
      "text/plain": [
       "                                                      text  label  \\\n",
       "0                                             예, 아유 수고하세요.      0   \n",
       "1                                             여쭤볼려고 그러는데요.      0   \n",
       "2                                      그 지금 그거 뭘로 들어가 있어요?      0   \n",
       "3                                                예, 알겠습니다.      0   \n",
       "4                                    다른 더 확인해 드릴 것은 없으십니까?      0   \n",
       "...                                                    ...    ...   \n",
       "1426062  아 제 연락처는 그만 놔 두고. l 놔 두고 이 저기 공공 사업 이런 거 하는 거 ...      7   \n",
       "1426063  그런 거는 너무 돈 있는 사람이 왜 그걸  먹고 사람들 이리 어 공무원들 그 자리에...      7   \n",
       "1426064  연락처를 남겨주시지 않을 경우에 원활히 접수 처리되지 못할 수 있으니 양해 부탁 드...      7   \n",
       "1426065                                     010 휴대폰 번호인가요?      7   \n",
       "1426066                     네 연락처 함께 전달해서 접수될 수 있도록 하겠습니다.      7   \n",
       "\n",
       "                                                 tokenized  \n",
       "0                                          예 , 아유 수고 하세요 .  \n",
       "1                                           여쭤 볼려고 그러는데요 .  \n",
       "2                                    그 지금 그거 뭘 로 들어가 있어요 ?  \n",
       "3                                              예 , 알겠습니다 .  \n",
       "4                                 다른 더 확인 해 드릴 것 은 없으십니까 ?  \n",
       "...                                                    ...  \n",
       "1426062  아 제 연락처 는 그만 놔 두고 . l 놔 두고 이 저기 공공 사업 이런 거 하는 ...  \n",
       "1426063  그런 거 는 너무 돈 있는 사람 이 왜 그걸 먹고 사람 들 이리 어 공무원 들 그 ...  \n",
       "1426064  연락처 를 남겨주시지 않을 경우 에 원활히 접수 처리 되지 못 할 수 있으니 양해 ...  \n",
       "1426065                                   010 휴대폰 번호 인가요 ?  \n",
       "1426066                  네 연락처 함께 전달 해서 접수 될 수 있도록 하겠습니다 .  \n",
       "\n",
       "[1426067 rows x 3 columns]"
      ],
      "text/html": [
       "<div>\n",
       "<style scoped>\n",
       "    .dataframe tbody tr th:only-of-type {\n",
       "        vertical-align: middle;\n",
       "    }\n",
       "\n",
       "    .dataframe tbody tr th {\n",
       "        vertical-align: top;\n",
       "    }\n",
       "\n",
       "    .dataframe thead th {\n",
       "        text-align: right;\n",
       "    }\n",
       "</style>\n",
       "<table border=\"1\" class=\"dataframe\">\n",
       "  <thead>\n",
       "    <tr style=\"text-align: right;\">\n",
       "      <th></th>\n",
       "      <th>text</th>\n",
       "      <th>label</th>\n",
       "      <th>tokenized</th>\n",
       "    </tr>\n",
       "  </thead>\n",
       "  <tbody>\n",
       "    <tr>\n",
       "      <th>0</th>\n",
       "      <td>예, 아유 수고하세요.</td>\n",
       "      <td>0</td>\n",
       "      <td>예 , 아유 수고 하세요 .</td>\n",
       "    </tr>\n",
       "    <tr>\n",
       "      <th>1</th>\n",
       "      <td>여쭤볼려고 그러는데요.</td>\n",
       "      <td>0</td>\n",
       "      <td>여쭤 볼려고 그러는데요 .</td>\n",
       "    </tr>\n",
       "    <tr>\n",
       "      <th>2</th>\n",
       "      <td>그 지금 그거 뭘로 들어가 있어요?</td>\n",
       "      <td>0</td>\n",
       "      <td>그 지금 그거 뭘 로 들어가 있어요 ?</td>\n",
       "    </tr>\n",
       "    <tr>\n",
       "      <th>3</th>\n",
       "      <td>예, 알겠습니다.</td>\n",
       "      <td>0</td>\n",
       "      <td>예 , 알겠습니다 .</td>\n",
       "    </tr>\n",
       "    <tr>\n",
       "      <th>4</th>\n",
       "      <td>다른 더 확인해 드릴 것은 없으십니까?</td>\n",
       "      <td>0</td>\n",
       "      <td>다른 더 확인 해 드릴 것 은 없으십니까 ?</td>\n",
       "    </tr>\n",
       "    <tr>\n",
       "      <th>...</th>\n",
       "      <td>...</td>\n",
       "      <td>...</td>\n",
       "      <td>...</td>\n",
       "    </tr>\n",
       "    <tr>\n",
       "      <th>1426062</th>\n",
       "      <td>아 제 연락처는 그만 놔 두고. l 놔 두고 이 저기 공공 사업 이런 거 하는 거 ...</td>\n",
       "      <td>7</td>\n",
       "      <td>아 제 연락처 는 그만 놔 두고 . l 놔 두고 이 저기 공공 사업 이런 거 하는 ...</td>\n",
       "    </tr>\n",
       "    <tr>\n",
       "      <th>1426063</th>\n",
       "      <td>그런 거는 너무 돈 있는 사람이 왜 그걸  먹고 사람들 이리 어 공무원들 그 자리에...</td>\n",
       "      <td>7</td>\n",
       "      <td>그런 거 는 너무 돈 있는 사람 이 왜 그걸 먹고 사람 들 이리 어 공무원 들 그 ...</td>\n",
       "    </tr>\n",
       "    <tr>\n",
       "      <th>1426064</th>\n",
       "      <td>연락처를 남겨주시지 않을 경우에 원활히 접수 처리되지 못할 수 있으니 양해 부탁 드...</td>\n",
       "      <td>7</td>\n",
       "      <td>연락처 를 남겨주시지 않을 경우 에 원활히 접수 처리 되지 못 할 수 있으니 양해 ...</td>\n",
       "    </tr>\n",
       "    <tr>\n",
       "      <th>1426065</th>\n",
       "      <td>010 휴대폰 번호인가요?</td>\n",
       "      <td>7</td>\n",
       "      <td>010 휴대폰 번호 인가요 ?</td>\n",
       "    </tr>\n",
       "    <tr>\n",
       "      <th>1426066</th>\n",
       "      <td>네 연락처 함께 전달해서 접수될 수 있도록 하겠습니다.</td>\n",
       "      <td>7</td>\n",
       "      <td>네 연락처 함께 전달 해서 접수 될 수 있도록 하겠습니다 .</td>\n",
       "    </tr>\n",
       "  </tbody>\n",
       "</table>\n",
       "<p>1426067 rows × 3 columns</p>\n",
       "</div>"
      ]
     },
     "execution_count": 248,
     "metadata": {},
     "output_type": "execute_result"
    }
   ],
   "execution_count": 248
  },
  {
   "metadata": {
    "ExecuteTime": {
     "end_time": "2024-10-20T13:42:44.794647Z",
     "start_time": "2024-10-20T13:36:22.597519Z"
    }
   },
   "cell_type": "code",
   "source": [
    "# def token(dataframe):\n",
    "#     return dataframe['text'].progress_apply(lambda sentence: \" \".join(okt.morphs(sentence)))\n",
    "\n",
    "def post_tagging(dataframe):\n",
    "    # 불용어 처리\n",
    "    def exclusion(t_list):\n",
    "        return [word[0] for word in t_list if word[0] not in stopword_list and word[1] not in exclusion_tags_Komoran]\n",
    "\n",
    "    return dataframe['text'].progress_apply(lambda sentence: \" \".join(exclusion(komoran.pos(sentence))))\n",
    "\n",
    "post_tagging_sample[\"main_pos\"] = post_tagging(post_tagging_sample)\n"
   ],
   "id": "58afe76f5f70c176",
   "outputs": [
    {
     "name": "stderr",
     "output_type": "stream",
     "text": [
      "Tokenizing: 100%|██████████| 1426067/1426067 [06:22<00:00, 3731.58it/s]\n"
     ]
    },
    {
     "data": {
      "text/plain": [
       "                                                      text  label  \\\n",
       "1426062  아 제 연락처는 그만 놔 두고. l 놔 두고 이 저기 공공 사업 이런 거 하는 거 ...      7   \n",
       "1426063  그런 거는 너무 돈 있는 사람이 왜 그걸  먹고 사람들 이리 어 공무원들 그 자리에...      7   \n",
       "1426064  연락처를 남겨주시지 않을 경우에 원활히 접수 처리되지 못할 수 있으니 양해 부탁 드...      7   \n",
       "1426065                                     010 휴대폰 번호인가요?      7   \n",
       "1426066                     네 연락처 함께 전달해서 접수될 수 있도록 하겠습니다.      7   \n",
       "\n",
       "                                                 tokenized  \\\n",
       "1426062  아 제 연락처 는 그만 놔 두고 . l 놔 두고 이 저기 공공 사업 이런 거 하는 ...   \n",
       "1426063  그런 거 는 너무 돈 있는 사람 이 왜 그걸 먹고 사람 들 이리 어 공무원 들 그 ...   \n",
       "1426064  연락처 를 남겨주시지 않을 경우 에 원활히 접수 처리 되지 못 할 수 있으니 양해 ...   \n",
       "1426065                                   010 휴대폰 번호 인가요 ?   \n",
       "1426066                  네 연락처 함께 전달 해서 접수 될 수 있도록 하겠습니다 .   \n",
       "\n",
       "                                                  main_pos  \n",
       "1426062  연락처 그만 놓 l 놓 두 공공 사업 거 거 보 오래되 사람 너무 텃세 많이 돈 있...  \n",
       "1426063  그런 너무 돈 있 사람 그것 먹 사람 이리 공무원 자리 있 사람 시키 갖 뭐 백 들...  \n",
       "1426064                   연락처 남기 경우 원활히 접수 처리 수 있 양해 부탁 드리  \n",
       "1426065                                         010 휴대폰 번호  \n",
       "1426066                                      연락처 전달 접수 수 있  "
      ],
      "text/html": [
       "<div>\n",
       "<style scoped>\n",
       "    .dataframe tbody tr th:only-of-type {\n",
       "        vertical-align: middle;\n",
       "    }\n",
       "\n",
       "    .dataframe tbody tr th {\n",
       "        vertical-align: top;\n",
       "    }\n",
       "\n",
       "    .dataframe thead th {\n",
       "        text-align: right;\n",
       "    }\n",
       "</style>\n",
       "<table border=\"1\" class=\"dataframe\">\n",
       "  <thead>\n",
       "    <tr style=\"text-align: right;\">\n",
       "      <th></th>\n",
       "      <th>text</th>\n",
       "      <th>label</th>\n",
       "      <th>tokenized</th>\n",
       "      <th>main_pos</th>\n",
       "    </tr>\n",
       "  </thead>\n",
       "  <tbody>\n",
       "    <tr>\n",
       "      <th>1426062</th>\n",
       "      <td>아 제 연락처는 그만 놔 두고. l 놔 두고 이 저기 공공 사업 이런 거 하는 거 ...</td>\n",
       "      <td>7</td>\n",
       "      <td>아 제 연락처 는 그만 놔 두고 . l 놔 두고 이 저기 공공 사업 이런 거 하는 ...</td>\n",
       "      <td>연락처 그만 놓 l 놓 두 공공 사업 거 거 보 오래되 사람 너무 텃세 많이 돈 있...</td>\n",
       "    </tr>\n",
       "    <tr>\n",
       "      <th>1426063</th>\n",
       "      <td>그런 거는 너무 돈 있는 사람이 왜 그걸  먹고 사람들 이리 어 공무원들 그 자리에...</td>\n",
       "      <td>7</td>\n",
       "      <td>그런 거 는 너무 돈 있는 사람 이 왜 그걸 먹고 사람 들 이리 어 공무원 들 그 ...</td>\n",
       "      <td>그런 너무 돈 있 사람 그것 먹 사람 이리 공무원 자리 있 사람 시키 갖 뭐 백 들...</td>\n",
       "    </tr>\n",
       "    <tr>\n",
       "      <th>1426064</th>\n",
       "      <td>연락처를 남겨주시지 않을 경우에 원활히 접수 처리되지 못할 수 있으니 양해 부탁 드...</td>\n",
       "      <td>7</td>\n",
       "      <td>연락처 를 남겨주시지 않을 경우 에 원활히 접수 처리 되지 못 할 수 있으니 양해 ...</td>\n",
       "      <td>연락처 남기 경우 원활히 접수 처리 수 있 양해 부탁 드리</td>\n",
       "    </tr>\n",
       "    <tr>\n",
       "      <th>1426065</th>\n",
       "      <td>010 휴대폰 번호인가요?</td>\n",
       "      <td>7</td>\n",
       "      <td>010 휴대폰 번호 인가요 ?</td>\n",
       "      <td>010 휴대폰 번호</td>\n",
       "    </tr>\n",
       "    <tr>\n",
       "      <th>1426066</th>\n",
       "      <td>네 연락처 함께 전달해서 접수될 수 있도록 하겠습니다.</td>\n",
       "      <td>7</td>\n",
       "      <td>네 연락처 함께 전달 해서 접수 될 수 있도록 하겠습니다 .</td>\n",
       "      <td>연락처 전달 접수 수 있</td>\n",
       "    </tr>\n",
       "  </tbody>\n",
       "</table>\n",
       "</div>"
      ]
     },
     "execution_count": 249,
     "metadata": {},
     "output_type": "execute_result"
    }
   ],
   "execution_count": 249
  },
  {
   "metadata": {
    "ExecuteTime": {
     "end_time": "2024-10-20T13:55:28.600263Z",
     "start_time": "2024-10-20T13:55:25.075663Z"
    }
   },
   "cell_type": "code",
   "source": [
    "post_tagging_sample.tail(20)\n",
    "post_tagging_sample.to_csv(\"tokenized/post_tagging_sample.csv\", index=False)"
   ],
   "id": "87c38826cf547017",
   "outputs": [],
   "execution_count": 252
  },
  {
   "metadata": {},
   "cell_type": "markdown",
   "source": "## Classifier Model 비교 분석",
   "id": "1b95639b536ba9a5"
  },
  {
   "metadata": {
    "ExecuteTime": {
     "end_time": "2024-10-27T04:45:06.308021Z",
     "start_time": "2024-10-27T04:45:06.117811Z"
    }
   },
   "cell_type": "code",
   "source": [
    "import pandas as pd\n",
    "data = pd.read_csv(\"C:/Users/Admin/Desktop/stt_data/post_tagging_sample_komoran.csv\", encoding = 'utf-8')\n",
    "\n",
    "data.isna().sum()"
   ],
   "id": "34a29cf41d7dfdc4",
   "outputs": [
    {
     "ename": "AttributeError",
     "evalue": "partially initialized module 'pandas' has no attribute '_pandas_parser_CAPI' (most likely due to a circular import)",
     "output_type": "error",
     "traceback": [
      "\u001B[1;31m---------------------------------------------------------------------------\u001B[0m",
      "\u001B[1;31mAttributeError\u001B[0m                            Traceback (most recent call last)",
      "Cell \u001B[1;32mIn[5], line 1\u001B[0m\n\u001B[1;32m----> 1\u001B[0m \u001B[38;5;28;01mimport\u001B[39;00m \u001B[38;5;21;01mpandas\u001B[39;00m \u001B[38;5;28;01mas\u001B[39;00m \u001B[38;5;21;01mpd\u001B[39;00m\n\u001B[0;32m      2\u001B[0m data \u001B[38;5;241m=\u001B[39m pd\u001B[38;5;241m.\u001B[39mread_csv(\u001B[38;5;124m\"\u001B[39m\u001B[38;5;124mC:/Users/Admin/Desktop/stt_data/post_tagging_sample_komoran.csv\u001B[39m\u001B[38;5;124m\"\u001B[39m, encoding \u001B[38;5;241m=\u001B[39m \u001B[38;5;124m'\u001B[39m\u001B[38;5;124mutf-8\u001B[39m\u001B[38;5;124m'\u001B[39m)\n\u001B[0;32m      4\u001B[0m data\u001B[38;5;241m.\u001B[39misna()\u001B[38;5;241m.\u001B[39msum()\n",
      "File \u001B[1;32m~\\PycharmProjects\\kdt_aicc\\.venv\\Lib\\site-packages\\pandas\\__init__.py:151\u001B[0m\n\u001B[0;32m    132\u001B[0m \u001B[38;5;28;01mfrom\u001B[39;00m \u001B[38;5;21;01mpandas\u001B[39;00m\u001B[38;5;21;01m.\u001B[39;00m\u001B[38;5;21;01mcore\u001B[39;00m\u001B[38;5;21;01m.\u001B[39;00m\u001B[38;5;21;01mcomputation\u001B[39;00m\u001B[38;5;21;01m.\u001B[39;00m\u001B[38;5;21;01mapi\u001B[39;00m \u001B[38;5;28;01mimport\u001B[39;00m \u001B[38;5;28meval\u001B[39m\n\u001B[0;32m    134\u001B[0m \u001B[38;5;28;01mfrom\u001B[39;00m \u001B[38;5;21;01mpandas\u001B[39;00m\u001B[38;5;21;01m.\u001B[39;00m\u001B[38;5;21;01mcore\u001B[39;00m\u001B[38;5;21;01m.\u001B[39;00m\u001B[38;5;21;01mreshape\u001B[39;00m\u001B[38;5;21;01m.\u001B[39;00m\u001B[38;5;21;01mapi\u001B[39;00m \u001B[38;5;28;01mimport\u001B[39;00m (\n\u001B[0;32m    135\u001B[0m     concat,\n\u001B[0;32m    136\u001B[0m     lreshape,\n\u001B[1;32m   (...)\u001B[0m\n\u001B[0;32m    148\u001B[0m     qcut,\n\u001B[0;32m    149\u001B[0m )\n\u001B[1;32m--> 151\u001B[0m \u001B[38;5;28;01mfrom\u001B[39;00m \u001B[38;5;21;01mpandas\u001B[39;00m \u001B[38;5;28;01mimport\u001B[39;00m api, arrays, errors, io, plotting, tseries\n\u001B[0;32m    152\u001B[0m \u001B[38;5;28;01mfrom\u001B[39;00m \u001B[38;5;21;01mpandas\u001B[39;00m \u001B[38;5;28;01mimport\u001B[39;00m testing\n\u001B[0;32m    153\u001B[0m \u001B[38;5;28;01mfrom\u001B[39;00m \u001B[38;5;21;01mpandas\u001B[39;00m\u001B[38;5;21;01m.\u001B[39;00m\u001B[38;5;21;01mutil\u001B[39;00m\u001B[38;5;21;01m.\u001B[39;00m\u001B[38;5;21;01m_print_versions\u001B[39;00m \u001B[38;5;28;01mimport\u001B[39;00m show_versions\n",
      "File \u001B[1;32m~\\PycharmProjects\\kdt_aicc\\.venv\\Lib\\site-packages\\pandas\\api\\__init__.py:2\u001B[0m\n\u001B[0;32m      1\u001B[0m \u001B[38;5;124;03m\"\"\" public toolkit API \"\"\"\u001B[39;00m\n\u001B[1;32m----> 2\u001B[0m \u001B[38;5;28;01mfrom\u001B[39;00m \u001B[38;5;21;01mpandas\u001B[39;00m\u001B[38;5;21;01m.\u001B[39;00m\u001B[38;5;21;01mapi\u001B[39;00m \u001B[38;5;28;01mimport\u001B[39;00m (\n\u001B[0;32m      3\u001B[0m     extensions,\n\u001B[0;32m      4\u001B[0m     indexers,\n\u001B[0;32m      5\u001B[0m     interchange,\n\u001B[0;32m      6\u001B[0m     types,\n\u001B[0;32m      7\u001B[0m     typing,\n\u001B[0;32m      8\u001B[0m )\n\u001B[0;32m     10\u001B[0m __all__ \u001B[38;5;241m=\u001B[39m [\n\u001B[0;32m     11\u001B[0m     \u001B[38;5;124m\"\u001B[39m\u001B[38;5;124minterchange\u001B[39m\u001B[38;5;124m\"\u001B[39m,\n\u001B[0;32m     12\u001B[0m     \u001B[38;5;124m\"\u001B[39m\u001B[38;5;124mextensions\u001B[39m\u001B[38;5;124m\"\u001B[39m,\n\u001B[1;32m   (...)\u001B[0m\n\u001B[0;32m     15\u001B[0m     \u001B[38;5;124m\"\u001B[39m\u001B[38;5;124mtyping\u001B[39m\u001B[38;5;124m\"\u001B[39m,\n\u001B[0;32m     16\u001B[0m ]\n",
      "File \u001B[1;32m~\\PycharmProjects\\kdt_aicc\\.venv\\Lib\\site-packages\\pandas\\api\\typing\\__init__.py:31\u001B[0m\n\u001B[0;32m     19\u001B[0m \u001B[38;5;28;01mfrom\u001B[39;00m \u001B[38;5;21;01mpandas\u001B[39;00m\u001B[38;5;21;01m.\u001B[39;00m\u001B[38;5;21;01mcore\u001B[39;00m\u001B[38;5;21;01m.\u001B[39;00m\u001B[38;5;21;01mwindow\u001B[39;00m \u001B[38;5;28;01mimport\u001B[39;00m (\n\u001B[0;32m     20\u001B[0m     Expanding,\n\u001B[0;32m     21\u001B[0m     ExpandingGroupby,\n\u001B[1;32m   (...)\u001B[0m\n\u001B[0;32m     26\u001B[0m     Window,\n\u001B[0;32m     27\u001B[0m )\n\u001B[0;32m     29\u001B[0m \u001B[38;5;66;03m# TODO: Can't import Styler without importing jinja2\u001B[39;00m\n\u001B[0;32m     30\u001B[0m \u001B[38;5;66;03m# from pandas.io.formats.style import Styler\u001B[39;00m\n\u001B[1;32m---> 31\u001B[0m \u001B[38;5;28;01mfrom\u001B[39;00m \u001B[38;5;21;01mpandas\u001B[39;00m\u001B[38;5;21;01m.\u001B[39;00m\u001B[38;5;21;01mio\u001B[39;00m\u001B[38;5;21;01m.\u001B[39;00m\u001B[38;5;21;01mjson\u001B[39;00m\u001B[38;5;21;01m.\u001B[39;00m\u001B[38;5;21;01m_json\u001B[39;00m \u001B[38;5;28;01mimport\u001B[39;00m JsonReader\n\u001B[0;32m     32\u001B[0m \u001B[38;5;28;01mfrom\u001B[39;00m \u001B[38;5;21;01mpandas\u001B[39;00m\u001B[38;5;21;01m.\u001B[39;00m\u001B[38;5;21;01mio\u001B[39;00m\u001B[38;5;21;01m.\u001B[39;00m\u001B[38;5;21;01mstata\u001B[39;00m \u001B[38;5;28;01mimport\u001B[39;00m StataReader\n\u001B[0;32m     34\u001B[0m __all__ \u001B[38;5;241m=\u001B[39m [\n\u001B[0;32m     35\u001B[0m     \u001B[38;5;124m\"\u001B[39m\u001B[38;5;124mDataFrameGroupBy\u001B[39m\u001B[38;5;124m\"\u001B[39m,\n\u001B[0;32m     36\u001B[0m     \u001B[38;5;124m\"\u001B[39m\u001B[38;5;124mDatetimeIndexResamplerGroupby\u001B[39m\u001B[38;5;124m\"\u001B[39m,\n\u001B[1;32m   (...)\u001B[0m\n\u001B[0;32m     54\u001B[0m     \u001B[38;5;124m\"\u001B[39m\u001B[38;5;124mWindow\u001B[39m\u001B[38;5;124m\"\u001B[39m,\n\u001B[0;32m     55\u001B[0m ]\n",
      "File \u001B[1;32m~\\PycharmProjects\\kdt_aicc\\.venv\\Lib\\site-packages\\pandas\\io\\json\\__init__.py:1\u001B[0m\n\u001B[1;32m----> 1\u001B[0m \u001B[38;5;28;01mfrom\u001B[39;00m \u001B[38;5;21;01mpandas\u001B[39;00m\u001B[38;5;21;01m.\u001B[39;00m\u001B[38;5;21;01mio\u001B[39;00m\u001B[38;5;21;01m.\u001B[39;00m\u001B[38;5;21;01mjson\u001B[39;00m\u001B[38;5;21;01m.\u001B[39;00m\u001B[38;5;21;01m_json\u001B[39;00m \u001B[38;5;28;01mimport\u001B[39;00m (\n\u001B[0;32m      2\u001B[0m     read_json,\n\u001B[0;32m      3\u001B[0m     to_json,\n\u001B[0;32m      4\u001B[0m     ujson_dumps,\n\u001B[0;32m      5\u001B[0m     ujson_loads,\n\u001B[0;32m      6\u001B[0m )\n\u001B[0;32m      7\u001B[0m \u001B[38;5;28;01mfrom\u001B[39;00m \u001B[38;5;21;01mpandas\u001B[39;00m\u001B[38;5;21;01m.\u001B[39;00m\u001B[38;5;21;01mio\u001B[39;00m\u001B[38;5;21;01m.\u001B[39;00m\u001B[38;5;21;01mjson\u001B[39;00m\u001B[38;5;21;01m.\u001B[39;00m\u001B[38;5;21;01m_table_schema\u001B[39;00m \u001B[38;5;28;01mimport\u001B[39;00m build_table_schema\n\u001B[0;32m      9\u001B[0m __all__ \u001B[38;5;241m=\u001B[39m [\n\u001B[0;32m     10\u001B[0m     \u001B[38;5;124m\"\u001B[39m\u001B[38;5;124mujson_dumps\u001B[39m\u001B[38;5;124m\"\u001B[39m,\n\u001B[0;32m     11\u001B[0m     \u001B[38;5;124m\"\u001B[39m\u001B[38;5;124mujson_loads\u001B[39m\u001B[38;5;124m\"\u001B[39m,\n\u001B[1;32m   (...)\u001B[0m\n\u001B[0;32m     14\u001B[0m     \u001B[38;5;124m\"\u001B[39m\u001B[38;5;124mbuild_table_schema\u001B[39m\u001B[38;5;124m\"\u001B[39m,\n\u001B[0;32m     15\u001B[0m ]\n",
      "File \u001B[1;32m~\\PycharmProjects\\kdt_aicc\\.venv\\Lib\\site-packages\\pandas\\io\\json\\_json.py:71\u001B[0m\n\u001B[0;32m     66\u001B[0m \u001B[38;5;28;01mfrom\u001B[39;00m \u001B[38;5;21;01mpandas\u001B[39;00m\u001B[38;5;21;01m.\u001B[39;00m\u001B[38;5;21;01mio\u001B[39;00m\u001B[38;5;21;01m.\u001B[39;00m\u001B[38;5;21;01mjson\u001B[39;00m\u001B[38;5;21;01m.\u001B[39;00m\u001B[38;5;21;01m_normalize\u001B[39;00m \u001B[38;5;28;01mimport\u001B[39;00m convert_to_line_delimits\n\u001B[0;32m     67\u001B[0m \u001B[38;5;28;01mfrom\u001B[39;00m \u001B[38;5;21;01mpandas\u001B[39;00m\u001B[38;5;21;01m.\u001B[39;00m\u001B[38;5;21;01mio\u001B[39;00m\u001B[38;5;21;01m.\u001B[39;00m\u001B[38;5;21;01mjson\u001B[39;00m\u001B[38;5;21;01m.\u001B[39;00m\u001B[38;5;21;01m_table_schema\u001B[39;00m \u001B[38;5;28;01mimport\u001B[39;00m (\n\u001B[0;32m     68\u001B[0m     build_table_schema,\n\u001B[0;32m     69\u001B[0m     parse_table_schema,\n\u001B[0;32m     70\u001B[0m )\n\u001B[1;32m---> 71\u001B[0m \u001B[38;5;28;01mfrom\u001B[39;00m \u001B[38;5;21;01mpandas\u001B[39;00m\u001B[38;5;21;01m.\u001B[39;00m\u001B[38;5;21;01mio\u001B[39;00m\u001B[38;5;21;01m.\u001B[39;00m\u001B[38;5;21;01mparsers\u001B[39;00m\u001B[38;5;21;01m.\u001B[39;00m\u001B[38;5;21;01mreaders\u001B[39;00m \u001B[38;5;28;01mimport\u001B[39;00m validate_integer\n\u001B[0;32m     73\u001B[0m \u001B[38;5;28;01mif\u001B[39;00m TYPE_CHECKING:\n\u001B[0;32m     74\u001B[0m     \u001B[38;5;28;01mfrom\u001B[39;00m \u001B[38;5;21;01mcollections\u001B[39;00m\u001B[38;5;21;01m.\u001B[39;00m\u001B[38;5;21;01mabc\u001B[39;00m \u001B[38;5;28;01mimport\u001B[39;00m (\n\u001B[0;32m     75\u001B[0m         Hashable,\n\u001B[0;32m     76\u001B[0m         Mapping,\n\u001B[0;32m     77\u001B[0m     )\n",
      "File \u001B[1;32m~\\PycharmProjects\\kdt_aicc\\.venv\\Lib\\site-packages\\pandas\\io\\parsers\\__init__.py:1\u001B[0m\n\u001B[1;32m----> 1\u001B[0m \u001B[38;5;28;01mfrom\u001B[39;00m \u001B[38;5;21;01mpandas\u001B[39;00m\u001B[38;5;21;01m.\u001B[39;00m\u001B[38;5;21;01mio\u001B[39;00m\u001B[38;5;21;01m.\u001B[39;00m\u001B[38;5;21;01mparsers\u001B[39;00m\u001B[38;5;21;01m.\u001B[39;00m\u001B[38;5;21;01mreaders\u001B[39;00m \u001B[38;5;28;01mimport\u001B[39;00m (\n\u001B[0;32m      2\u001B[0m     TextFileReader,\n\u001B[0;32m      3\u001B[0m     TextParser,\n\u001B[0;32m      4\u001B[0m     read_csv,\n\u001B[0;32m      5\u001B[0m     read_fwf,\n\u001B[0;32m      6\u001B[0m     read_table,\n\u001B[0;32m      7\u001B[0m )\n\u001B[0;32m      9\u001B[0m __all__ \u001B[38;5;241m=\u001B[39m [\u001B[38;5;124m\"\u001B[39m\u001B[38;5;124mTextFileReader\u001B[39m\u001B[38;5;124m\"\u001B[39m, \u001B[38;5;124m\"\u001B[39m\u001B[38;5;124mTextParser\u001B[39m\u001B[38;5;124m\"\u001B[39m, \u001B[38;5;124m\"\u001B[39m\u001B[38;5;124mread_csv\u001B[39m\u001B[38;5;124m\"\u001B[39m, \u001B[38;5;124m\"\u001B[39m\u001B[38;5;124mread_fwf\u001B[39m\u001B[38;5;124m\"\u001B[39m, \u001B[38;5;124m\"\u001B[39m\u001B[38;5;124mread_table\u001B[39m\u001B[38;5;124m\"\u001B[39m]\n",
      "File \u001B[1;32m~\\PycharmProjects\\kdt_aicc\\.venv\\Lib\\site-packages\\pandas\\io\\parsers\\readers.py:32\u001B[0m\n\u001B[0;32m     29\u001B[0m \u001B[38;5;28;01mfrom\u001B[39;00m \u001B[38;5;21;01mpandas\u001B[39;00m\u001B[38;5;21;01m.\u001B[39;00m\u001B[38;5;21;01m_config\u001B[39;00m \u001B[38;5;28;01mimport\u001B[39;00m using_copy_on_write\n\u001B[0;32m     31\u001B[0m \u001B[38;5;28;01mfrom\u001B[39;00m \u001B[38;5;21;01mpandas\u001B[39;00m\u001B[38;5;21;01m.\u001B[39;00m\u001B[38;5;21;01m_libs\u001B[39;00m \u001B[38;5;28;01mimport\u001B[39;00m lib\n\u001B[1;32m---> 32\u001B[0m \u001B[38;5;28;01mfrom\u001B[39;00m \u001B[38;5;21;01mpandas\u001B[39;00m\u001B[38;5;21;01m.\u001B[39;00m\u001B[38;5;21;01m_libs\u001B[39;00m\u001B[38;5;21;01m.\u001B[39;00m\u001B[38;5;21;01mparsers\u001B[39;00m \u001B[38;5;28;01mimport\u001B[39;00m STR_NA_VALUES\n\u001B[0;32m     33\u001B[0m \u001B[38;5;28;01mfrom\u001B[39;00m \u001B[38;5;21;01mpandas\u001B[39;00m\u001B[38;5;21;01m.\u001B[39;00m\u001B[38;5;21;01merrors\u001B[39;00m \u001B[38;5;28;01mimport\u001B[39;00m (\n\u001B[0;32m     34\u001B[0m     AbstractMethodError,\n\u001B[0;32m     35\u001B[0m     ParserWarning,\n\u001B[0;32m     36\u001B[0m )\n\u001B[0;32m     37\u001B[0m \u001B[38;5;28;01mfrom\u001B[39;00m \u001B[38;5;21;01mpandas\u001B[39;00m\u001B[38;5;21;01m.\u001B[39;00m\u001B[38;5;21;01mutil\u001B[39;00m\u001B[38;5;21;01m.\u001B[39;00m\u001B[38;5;21;01m_decorators\u001B[39;00m \u001B[38;5;28;01mimport\u001B[39;00m Appender\n",
      "File \u001B[1;32mparsers.pyx:1418\u001B[0m, in \u001B[0;36minit pandas._libs.parsers\u001B[1;34m()\u001B[0m\n",
      "\u001B[1;31mAttributeError\u001B[0m: partially initialized module 'pandas' has no attribute '_pandas_parser_CAPI' (most likely due to a circular import)"
     ]
    }
   ],
   "execution_count": 5
  },
  {
   "metadata": {
    "ExecuteTime": {
     "end_time": "2024-10-27T04:25:24.088581Z",
     "start_time": "2024-10-27T04:25:23.870250Z"
    }
   },
   "cell_type": "code",
   "source": [
    "data = data.dropna()\n",
    "data.isna().sum()"
   ],
   "id": "3014af5364fcb7f0",
   "outputs": [
    {
     "data": {
      "text/plain": [
       "text         0\n",
       "label        0\n",
       "tokenized    0\n",
       "main_pos     0\n",
       "dtype: int64"
      ]
     },
     "execution_count": 2,
     "metadata": {},
     "output_type": "execute_result"
    }
   ],
   "execution_count": 2
  },
  {
   "metadata": {
    "ExecuteTime": {
     "end_time": "2024-10-27T04:25:25.475574Z",
     "start_time": "2024-10-27T04:25:25.449395Z"
    }
   },
   "cell_type": "code",
   "source": [
    "cond = (data.label == 0) | (data.label == 7)\n",
    "data_mod = data.loc[cond]\n",
    "data_mod.label.value_counts(ascending=True)"
   ],
   "id": "bca67fa3dd3f4847",
   "outputs": [
    {
     "data": {
      "text/plain": [
       "label\n",
       "0    177526\n",
       "7    257199\n",
       "Name: count, dtype: int64"
      ]
     },
     "execution_count": 3,
     "metadata": {},
     "output_type": "execute_result"
    }
   ],
   "execution_count": 3
  },
  {
   "metadata": {
    "ExecuteTime": {
     "end_time": "2024-10-27T04:25:26.716050Z",
     "start_time": "2024-10-27T04:25:26.705831Z"
    }
   },
   "cell_type": "code",
   "source": [
    "data_mod.loc[data_mod.label == 7, 'label'] = 1\n",
    "data_mod.label.value_counts(ascending=True)"
   ],
   "id": "22a8e58bda6a4153",
   "outputs": [
    {
     "data": {
      "text/plain": [
       "label\n",
       "0    177526\n",
       "1    257199\n",
       "Name: count, dtype: int64"
      ]
     },
     "execution_count": 4,
     "metadata": {},
     "output_type": "execute_result"
    }
   ],
   "execution_count": 4
  },
  {
   "metadata": {
    "ExecuteTime": {
     "end_time": "2024-10-27T04:25:30.229189Z",
     "start_time": "2024-10-27T04:25:28.288409Z"
    }
   },
   "cell_type": "code",
   "source": [
    "from sklearn.model_selection import train_test_split\n",
    "\n",
    "train, val = train_test_split(data_mod)\n",
    "train.reset_index(inplace=True)\n",
    "val.reset_index(inplace=True)\n",
    "\n",
    "print(f'train dataset shape : {train.shape}')\n",
    "print(f'val dataset shape : {val.shape}')"
   ],
   "id": "86da53cc17d1528a",
   "outputs": [
    {
     "name": "stdout",
     "output_type": "stream",
     "text": [
      "train dataset shape : (326043, 5)\n",
      "val dataset shape : (108682, 5)\n"
     ]
    }
   ],
   "execution_count": 5
  },
  {
   "metadata": {
    "ExecuteTime": {
     "end_time": "2024-10-27T04:25:31.409753Z",
     "start_time": "2024-10-27T04:25:31.406395Z"
    }
   },
   "cell_type": "code",
   "source": [
    "x_train = train.main_pos\n",
    "y_train = train.label\n",
    "print(x_train.shape, y_train.shape)"
   ],
   "id": "65b1d6f6bc5eed8d",
   "outputs": [
    {
     "name": "stdout",
     "output_type": "stream",
     "text": [
      "(326043,) (326043,)\n"
     ]
    }
   ],
   "execution_count": 6
  },
  {
   "metadata": {
    "ExecuteTime": {
     "end_time": "2024-10-27T04:25:37.578334Z",
     "start_time": "2024-10-27T04:25:35.508824Z"
    }
   },
   "cell_type": "code",
   "source": [
    "from sklearn.feature_extraction.text import TfidfVectorizer\n",
    "import numpy as np\n",
    "\n",
    "tfidf = TfidfVectorizer(analyzer='word', min_df=2).fit(list(x_train))\n",
    "x_train_vector = tfidf.transform(list(x_train))\n",
    "print(x_train_vector.shape, type(x_train_vector))"
   ],
   "id": "e1a7ae65cfa61668",
   "outputs": [
    {
     "name": "stdout",
     "output_type": "stream",
     "text": [
      "(326043, 11268) <class 'scipy.sparse._csr.csr_matrix'>\n"
     ]
    }
   ],
   "execution_count": 7
  },
  {
   "metadata": {},
   "cell_type": "code",
   "outputs": [],
   "execution_count": null,
   "source": "",
   "id": "bea14560b81c81"
  },
  {
   "metadata": {},
   "cell_type": "markdown",
   "source": "### Logistic Regression ",
   "id": "e99c7306dd5d6356"
  },
  {
   "metadata": {
    "jupyter": {
     "is_executing": true
    },
    "ExecuteTime": {
     "start_time": "2024-10-21T08:58:10.850091Z"
    }
   },
   "cell_type": "code",
   "source": [
    "\n",
    "from sklearn.linear_model import LogisticRegression\n",
    "from sklearn.model_selection import GridSearchCV\n",
    "\n",
    "LR = LogisticRegression()\n",
    "lr_params = {\n",
    "    'penalty' : ['l1', 'l2'],\n",
    "    'C' : [0.01, 0.1, 1, 10],\n",
    "    'solver' : ['liblinear', 'saga', 'lbfgs'],\n",
    "    'max_iter' : [10000],\n",
    "    'random_state' : [42]\n",
    "}\n",
    "\n",
    "gridsearch_lr = GridSearchCV(LR, lr_params, scoring='accuracy', cv=5)\n",
    "gridsearch_lr.fit(x_train_vector, y_train)\n",
    "print(f'Optimal HyperParameters: {gridsearch_lr.best_params_}')"
   ],
   "id": "a7ebe1d6e460b4b",
   "outputs": [],
   "execution_count": null
  },
  {
   "metadata": {
    "ExecuteTime": {
     "end_time": "2024-10-27T04:26:17.108785Z",
     "start_time": "2024-10-27T04:26:14.733465Z"
    }
   },
   "cell_type": "code",
   "source": [
    "from sklearn.linear_model import LogisticRegression\n",
    "\n",
    "LR = LogisticRegression(solver='liblinear', max_iter=100000, random_state=42)\n",
    "LR.fit(x_train_vector, y_train)"
   ],
   "id": "1e1c1cc556207a29",
   "outputs": [
    {
     "data": {
      "text/plain": [
       "LogisticRegression(max_iter=100000, random_state=42, solver='liblinear')"
      ],
      "text/html": [
       "<style>#sk-container-id-2 {\n",
       "  /* Definition of color scheme common for light and dark mode */\n",
       "  --sklearn-color-text: black;\n",
       "  --sklearn-color-line: gray;\n",
       "  /* Definition of color scheme for unfitted estimators */\n",
       "  --sklearn-color-unfitted-level-0: #fff5e6;\n",
       "  --sklearn-color-unfitted-level-1: #f6e4d2;\n",
       "  --sklearn-color-unfitted-level-2: #ffe0b3;\n",
       "  --sklearn-color-unfitted-level-3: chocolate;\n",
       "  /* Definition of color scheme for fitted estimators */\n",
       "  --sklearn-color-fitted-level-0: #f0f8ff;\n",
       "  --sklearn-color-fitted-level-1: #d4ebff;\n",
       "  --sklearn-color-fitted-level-2: #b3dbfd;\n",
       "  --sklearn-color-fitted-level-3: cornflowerblue;\n",
       "\n",
       "  /* Specific color for light theme */\n",
       "  --sklearn-color-text-on-default-background: var(--sg-text-color, var(--theme-code-foreground, var(--jp-content-font-color1, black)));\n",
       "  --sklearn-color-background: var(--sg-background-color, var(--theme-background, var(--jp-layout-color0, white)));\n",
       "  --sklearn-color-border-box: var(--sg-text-color, var(--theme-code-foreground, var(--jp-content-font-color1, black)));\n",
       "  --sklearn-color-icon: #696969;\n",
       "\n",
       "  @media (prefers-color-scheme: dark) {\n",
       "    /* Redefinition of color scheme for dark theme */\n",
       "    --sklearn-color-text-on-default-background: var(--sg-text-color, var(--theme-code-foreground, var(--jp-content-font-color1, white)));\n",
       "    --sklearn-color-background: var(--sg-background-color, var(--theme-background, var(--jp-layout-color0, #111)));\n",
       "    --sklearn-color-border-box: var(--sg-text-color, var(--theme-code-foreground, var(--jp-content-font-color1, white)));\n",
       "    --sklearn-color-icon: #878787;\n",
       "  }\n",
       "}\n",
       "\n",
       "#sk-container-id-2 {\n",
       "  color: var(--sklearn-color-text);\n",
       "}\n",
       "\n",
       "#sk-container-id-2 pre {\n",
       "  padding: 0;\n",
       "}\n",
       "\n",
       "#sk-container-id-2 input.sk-hidden--visually {\n",
       "  border: 0;\n",
       "  clip: rect(1px 1px 1px 1px);\n",
       "  clip: rect(1px, 1px, 1px, 1px);\n",
       "  height: 1px;\n",
       "  margin: -1px;\n",
       "  overflow: hidden;\n",
       "  padding: 0;\n",
       "  position: absolute;\n",
       "  width: 1px;\n",
       "}\n",
       "\n",
       "#sk-container-id-2 div.sk-dashed-wrapped {\n",
       "  border: 1px dashed var(--sklearn-color-line);\n",
       "  margin: 0 0.4em 0.5em 0.4em;\n",
       "  box-sizing: border-box;\n",
       "  padding-bottom: 0.4em;\n",
       "  background-color: var(--sklearn-color-background);\n",
       "}\n",
       "\n",
       "#sk-container-id-2 div.sk-container {\n",
       "  /* jupyter's `normalize.less` sets `[hidden] { display: none; }`\n",
       "     but bootstrap.min.css set `[hidden] { display: none !important; }`\n",
       "     so we also need the `!important` here to be able to override the\n",
       "     default hidden behavior on the sphinx rendered scikit-learn.org.\n",
       "     See: https://github.com/scikit-learn/scikit-learn/issues/21755 */\n",
       "  display: inline-block !important;\n",
       "  position: relative;\n",
       "}\n",
       "\n",
       "#sk-container-id-2 div.sk-text-repr-fallback {\n",
       "  display: none;\n",
       "}\n",
       "\n",
       "div.sk-parallel-item,\n",
       "div.sk-serial,\n",
       "div.sk-item {\n",
       "  /* draw centered vertical line to link estimators */\n",
       "  background-image: linear-gradient(var(--sklearn-color-text-on-default-background), var(--sklearn-color-text-on-default-background));\n",
       "  background-size: 2px 100%;\n",
       "  background-repeat: no-repeat;\n",
       "  background-position: center center;\n",
       "}\n",
       "\n",
       "/* Parallel-specific style estimator block */\n",
       "\n",
       "#sk-container-id-2 div.sk-parallel-item::after {\n",
       "  content: \"\";\n",
       "  width: 100%;\n",
       "  border-bottom: 2px solid var(--sklearn-color-text-on-default-background);\n",
       "  flex-grow: 1;\n",
       "}\n",
       "\n",
       "#sk-container-id-2 div.sk-parallel {\n",
       "  display: flex;\n",
       "  align-items: stretch;\n",
       "  justify-content: center;\n",
       "  background-color: var(--sklearn-color-background);\n",
       "  position: relative;\n",
       "}\n",
       "\n",
       "#sk-container-id-2 div.sk-parallel-item {\n",
       "  display: flex;\n",
       "  flex-direction: column;\n",
       "}\n",
       "\n",
       "#sk-container-id-2 div.sk-parallel-item:first-child::after {\n",
       "  align-self: flex-end;\n",
       "  width: 50%;\n",
       "}\n",
       "\n",
       "#sk-container-id-2 div.sk-parallel-item:last-child::after {\n",
       "  align-self: flex-start;\n",
       "  width: 50%;\n",
       "}\n",
       "\n",
       "#sk-container-id-2 div.sk-parallel-item:only-child::after {\n",
       "  width: 0;\n",
       "}\n",
       "\n",
       "/* Serial-specific style estimator block */\n",
       "\n",
       "#sk-container-id-2 div.sk-serial {\n",
       "  display: flex;\n",
       "  flex-direction: column;\n",
       "  align-items: center;\n",
       "  background-color: var(--sklearn-color-background);\n",
       "  padding-right: 1em;\n",
       "  padding-left: 1em;\n",
       "}\n",
       "\n",
       "\n",
       "/* Toggleable style: style used for estimator/Pipeline/ColumnTransformer box that is\n",
       "clickable and can be expanded/collapsed.\n",
       "- Pipeline and ColumnTransformer use this feature and define the default style\n",
       "- Estimators will overwrite some part of the style using the `sk-estimator` class\n",
       "*/\n",
       "\n",
       "/* Pipeline and ColumnTransformer style (default) */\n",
       "\n",
       "#sk-container-id-2 div.sk-toggleable {\n",
       "  /* Default theme specific background. It is overwritten whether we have a\n",
       "  specific estimator or a Pipeline/ColumnTransformer */\n",
       "  background-color: var(--sklearn-color-background);\n",
       "}\n",
       "\n",
       "/* Toggleable label */\n",
       "#sk-container-id-2 label.sk-toggleable__label {\n",
       "  cursor: pointer;\n",
       "  display: block;\n",
       "  width: 100%;\n",
       "  margin-bottom: 0;\n",
       "  padding: 0.5em;\n",
       "  box-sizing: border-box;\n",
       "  text-align: center;\n",
       "}\n",
       "\n",
       "#sk-container-id-2 label.sk-toggleable__label-arrow:before {\n",
       "  /* Arrow on the left of the label */\n",
       "  content: \"▸\";\n",
       "  float: left;\n",
       "  margin-right: 0.25em;\n",
       "  color: var(--sklearn-color-icon);\n",
       "}\n",
       "\n",
       "#sk-container-id-2 label.sk-toggleable__label-arrow:hover:before {\n",
       "  color: var(--sklearn-color-text);\n",
       "}\n",
       "\n",
       "/* Toggleable content - dropdown */\n",
       "\n",
       "#sk-container-id-2 div.sk-toggleable__content {\n",
       "  max-height: 0;\n",
       "  max-width: 0;\n",
       "  overflow: hidden;\n",
       "  text-align: left;\n",
       "  /* unfitted */\n",
       "  background-color: var(--sklearn-color-unfitted-level-0);\n",
       "}\n",
       "\n",
       "#sk-container-id-2 div.sk-toggleable__content.fitted {\n",
       "  /* fitted */\n",
       "  background-color: var(--sklearn-color-fitted-level-0);\n",
       "}\n",
       "\n",
       "#sk-container-id-2 div.sk-toggleable__content pre {\n",
       "  margin: 0.2em;\n",
       "  border-radius: 0.25em;\n",
       "  color: var(--sklearn-color-text);\n",
       "  /* unfitted */\n",
       "  background-color: var(--sklearn-color-unfitted-level-0);\n",
       "}\n",
       "\n",
       "#sk-container-id-2 div.sk-toggleable__content.fitted pre {\n",
       "  /* unfitted */\n",
       "  background-color: var(--sklearn-color-fitted-level-0);\n",
       "}\n",
       "\n",
       "#sk-container-id-2 input.sk-toggleable__control:checked~div.sk-toggleable__content {\n",
       "  /* Expand drop-down */\n",
       "  max-height: 200px;\n",
       "  max-width: 100%;\n",
       "  overflow: auto;\n",
       "}\n",
       "\n",
       "#sk-container-id-2 input.sk-toggleable__control:checked~label.sk-toggleable__label-arrow:before {\n",
       "  content: \"▾\";\n",
       "}\n",
       "\n",
       "/* Pipeline/ColumnTransformer-specific style */\n",
       "\n",
       "#sk-container-id-2 div.sk-label input.sk-toggleable__control:checked~label.sk-toggleable__label {\n",
       "  color: var(--sklearn-color-text);\n",
       "  background-color: var(--sklearn-color-unfitted-level-2);\n",
       "}\n",
       "\n",
       "#sk-container-id-2 div.sk-label.fitted input.sk-toggleable__control:checked~label.sk-toggleable__label {\n",
       "  background-color: var(--sklearn-color-fitted-level-2);\n",
       "}\n",
       "\n",
       "/* Estimator-specific style */\n",
       "\n",
       "/* Colorize estimator box */\n",
       "#sk-container-id-2 div.sk-estimator input.sk-toggleable__control:checked~label.sk-toggleable__label {\n",
       "  /* unfitted */\n",
       "  background-color: var(--sklearn-color-unfitted-level-2);\n",
       "}\n",
       "\n",
       "#sk-container-id-2 div.sk-estimator.fitted input.sk-toggleable__control:checked~label.sk-toggleable__label {\n",
       "  /* fitted */\n",
       "  background-color: var(--sklearn-color-fitted-level-2);\n",
       "}\n",
       "\n",
       "#sk-container-id-2 div.sk-label label.sk-toggleable__label,\n",
       "#sk-container-id-2 div.sk-label label {\n",
       "  /* The background is the default theme color */\n",
       "  color: var(--sklearn-color-text-on-default-background);\n",
       "}\n",
       "\n",
       "/* On hover, darken the color of the background */\n",
       "#sk-container-id-2 div.sk-label:hover label.sk-toggleable__label {\n",
       "  color: var(--sklearn-color-text);\n",
       "  background-color: var(--sklearn-color-unfitted-level-2);\n",
       "}\n",
       "\n",
       "/* Label box, darken color on hover, fitted */\n",
       "#sk-container-id-2 div.sk-label.fitted:hover label.sk-toggleable__label.fitted {\n",
       "  color: var(--sklearn-color-text);\n",
       "  background-color: var(--sklearn-color-fitted-level-2);\n",
       "}\n",
       "\n",
       "/* Estimator label */\n",
       "\n",
       "#sk-container-id-2 div.sk-label label {\n",
       "  font-family: monospace;\n",
       "  font-weight: bold;\n",
       "  display: inline-block;\n",
       "  line-height: 1.2em;\n",
       "}\n",
       "\n",
       "#sk-container-id-2 div.sk-label-container {\n",
       "  text-align: center;\n",
       "}\n",
       "\n",
       "/* Estimator-specific */\n",
       "#sk-container-id-2 div.sk-estimator {\n",
       "  font-family: monospace;\n",
       "  border: 1px dotted var(--sklearn-color-border-box);\n",
       "  border-radius: 0.25em;\n",
       "  box-sizing: border-box;\n",
       "  margin-bottom: 0.5em;\n",
       "  /* unfitted */\n",
       "  background-color: var(--sklearn-color-unfitted-level-0);\n",
       "}\n",
       "\n",
       "#sk-container-id-2 div.sk-estimator.fitted {\n",
       "  /* fitted */\n",
       "  background-color: var(--sklearn-color-fitted-level-0);\n",
       "}\n",
       "\n",
       "/* on hover */\n",
       "#sk-container-id-2 div.sk-estimator:hover {\n",
       "  /* unfitted */\n",
       "  background-color: var(--sklearn-color-unfitted-level-2);\n",
       "}\n",
       "\n",
       "#sk-container-id-2 div.sk-estimator.fitted:hover {\n",
       "  /* fitted */\n",
       "  background-color: var(--sklearn-color-fitted-level-2);\n",
       "}\n",
       "\n",
       "/* Specification for estimator info (e.g. \"i\" and \"?\") */\n",
       "\n",
       "/* Common style for \"i\" and \"?\" */\n",
       "\n",
       ".sk-estimator-doc-link,\n",
       "a:link.sk-estimator-doc-link,\n",
       "a:visited.sk-estimator-doc-link {\n",
       "  float: right;\n",
       "  font-size: smaller;\n",
       "  line-height: 1em;\n",
       "  font-family: monospace;\n",
       "  background-color: var(--sklearn-color-background);\n",
       "  border-radius: 1em;\n",
       "  height: 1em;\n",
       "  width: 1em;\n",
       "  text-decoration: none !important;\n",
       "  margin-left: 1ex;\n",
       "  /* unfitted */\n",
       "  border: var(--sklearn-color-unfitted-level-1) 1pt solid;\n",
       "  color: var(--sklearn-color-unfitted-level-1);\n",
       "}\n",
       "\n",
       ".sk-estimator-doc-link.fitted,\n",
       "a:link.sk-estimator-doc-link.fitted,\n",
       "a:visited.sk-estimator-doc-link.fitted {\n",
       "  /* fitted */\n",
       "  border: var(--sklearn-color-fitted-level-1) 1pt solid;\n",
       "  color: var(--sklearn-color-fitted-level-1);\n",
       "}\n",
       "\n",
       "/* On hover */\n",
       "div.sk-estimator:hover .sk-estimator-doc-link:hover,\n",
       ".sk-estimator-doc-link:hover,\n",
       "div.sk-label-container:hover .sk-estimator-doc-link:hover,\n",
       ".sk-estimator-doc-link:hover {\n",
       "  /* unfitted */\n",
       "  background-color: var(--sklearn-color-unfitted-level-3);\n",
       "  color: var(--sklearn-color-background);\n",
       "  text-decoration: none;\n",
       "}\n",
       "\n",
       "div.sk-estimator.fitted:hover .sk-estimator-doc-link.fitted:hover,\n",
       ".sk-estimator-doc-link.fitted:hover,\n",
       "div.sk-label-container:hover .sk-estimator-doc-link.fitted:hover,\n",
       ".sk-estimator-doc-link.fitted:hover {\n",
       "  /* fitted */\n",
       "  background-color: var(--sklearn-color-fitted-level-3);\n",
       "  color: var(--sklearn-color-background);\n",
       "  text-decoration: none;\n",
       "}\n",
       "\n",
       "/* Span, style for the box shown on hovering the info icon */\n",
       ".sk-estimator-doc-link span {\n",
       "  display: none;\n",
       "  z-index: 9999;\n",
       "  position: relative;\n",
       "  font-weight: normal;\n",
       "  right: .2ex;\n",
       "  padding: .5ex;\n",
       "  margin: .5ex;\n",
       "  width: min-content;\n",
       "  min-width: 20ex;\n",
       "  max-width: 50ex;\n",
       "  color: var(--sklearn-color-text);\n",
       "  box-shadow: 2pt 2pt 4pt #999;\n",
       "  /* unfitted */\n",
       "  background: var(--sklearn-color-unfitted-level-0);\n",
       "  border: .5pt solid var(--sklearn-color-unfitted-level-3);\n",
       "}\n",
       "\n",
       ".sk-estimator-doc-link.fitted span {\n",
       "  /* fitted */\n",
       "  background: var(--sklearn-color-fitted-level-0);\n",
       "  border: var(--sklearn-color-fitted-level-3);\n",
       "}\n",
       "\n",
       ".sk-estimator-doc-link:hover span {\n",
       "  display: block;\n",
       "}\n",
       "\n",
       "/* \"?\"-specific style due to the `<a>` HTML tag */\n",
       "\n",
       "#sk-container-id-2 a.estimator_doc_link {\n",
       "  float: right;\n",
       "  font-size: 1rem;\n",
       "  line-height: 1em;\n",
       "  font-family: monospace;\n",
       "  background-color: var(--sklearn-color-background);\n",
       "  border-radius: 1rem;\n",
       "  height: 1rem;\n",
       "  width: 1rem;\n",
       "  text-decoration: none;\n",
       "  /* unfitted */\n",
       "  color: var(--sklearn-color-unfitted-level-1);\n",
       "  border: var(--sklearn-color-unfitted-level-1) 1pt solid;\n",
       "}\n",
       "\n",
       "#sk-container-id-2 a.estimator_doc_link.fitted {\n",
       "  /* fitted */\n",
       "  border: var(--sklearn-color-fitted-level-1) 1pt solid;\n",
       "  color: var(--sklearn-color-fitted-level-1);\n",
       "}\n",
       "\n",
       "/* On hover */\n",
       "#sk-container-id-2 a.estimator_doc_link:hover {\n",
       "  /* unfitted */\n",
       "  background-color: var(--sklearn-color-unfitted-level-3);\n",
       "  color: var(--sklearn-color-background);\n",
       "  text-decoration: none;\n",
       "}\n",
       "\n",
       "#sk-container-id-2 a.estimator_doc_link.fitted:hover {\n",
       "  /* fitted */\n",
       "  background-color: var(--sklearn-color-fitted-level-3);\n",
       "}\n",
       "</style><div id=\"sk-container-id-2\" class=\"sk-top-container\"><div class=\"sk-text-repr-fallback\"><pre>LogisticRegression(max_iter=100000, random_state=42, solver=&#x27;liblinear&#x27;)</pre><b>In a Jupyter environment, please rerun this cell to show the HTML representation or trust the notebook. <br />On GitHub, the HTML representation is unable to render, please try loading this page with nbviewer.org.</b></div><div class=\"sk-container\" hidden><div class=\"sk-item\"><div class=\"sk-estimator fitted sk-toggleable\"><input class=\"sk-toggleable__control sk-hidden--visually\" id=\"sk-estimator-id-2\" type=\"checkbox\" checked><label for=\"sk-estimator-id-2\" class=\"sk-toggleable__label fitted sk-toggleable__label-arrow fitted\">&nbsp;&nbsp;LogisticRegression<a class=\"sk-estimator-doc-link fitted\" rel=\"noreferrer\" target=\"_blank\" href=\"https://scikit-learn.org/1.5/modules/generated/sklearn.linear_model.LogisticRegression.html\">?<span>Documentation for LogisticRegression</span></a><span class=\"sk-estimator-doc-link fitted\">i<span>Fitted</span></span></label><div class=\"sk-toggleable__content fitted\"><pre>LogisticRegression(max_iter=100000, random_state=42, solver=&#x27;liblinear&#x27;)</pre></div> </div></div></div></div>"
      ]
     },
     "execution_count": 11,
     "metadata": {},
     "output_type": "execute_result"
    }
   ],
   "execution_count": 11
  },
  {
   "metadata": {
    "ExecuteTime": {
     "end_time": "2024-10-27T04:26:18.470791Z",
     "start_time": "2024-10-27T04:26:18.464652Z"
    }
   },
   "cell_type": "code",
   "source": [
    "x_test = val.main_pos\n",
    "y_test = val.label"
   ],
   "id": "d132bbf620f3e012",
   "outputs": [],
   "execution_count": 12
  },
  {
   "metadata": {
    "ExecuteTime": {
     "end_time": "2024-10-27T04:25:53.200010Z",
     "start_time": "2024-10-27T04:25:52.862009Z"
    }
   },
   "cell_type": "code",
   "source": [
    "x_test_vector = tfidf.transform(list(x_test))\n",
    "print(x_test_vector.shape)"
   ],
   "id": "c31ac61635948306",
   "outputs": [
    {
     "name": "stdout",
     "output_type": "stream",
     "text": [
      "(108682, 11268)\n"
     ]
    }
   ],
   "execution_count": 10
  },
  {
   "metadata": {
    "ExecuteTime": {
     "end_time": "2024-10-27T04:26:40.262594Z",
     "start_time": "2024-10-27T04:26:40.255458Z"
    }
   },
   "cell_type": "code",
   "source": [
    "y_pred = LR.predict(x_test_vector)\n",
    "print(y_pred)"
   ],
   "id": "c8c8d3b814636699",
   "outputs": [
    {
     "name": "stdout",
     "output_type": "stream",
     "text": [
      "[1 1 1 ... 0 1 0]\n"
     ]
    }
   ],
   "execution_count": 14
  },
  {
   "metadata": {
    "ExecuteTime": {
     "end_time": "2024-10-27T04:26:42.171064Z",
     "start_time": "2024-10-27T04:26:42.140063Z"
    }
   },
   "cell_type": "code",
   "source": [
    "from sklearn import metrics\n",
    "\n",
    "print(f'Accuracy of Logistic Regression: {metrics.accuracy_score(y_test, y_pred)}')\n",
    "print(f'ROC-AUC score of Logistic Regression: {metrics.roc_auc_score(y_test, y_pred)}')"
   ],
   "id": "852067f6d3cbb9de",
   "outputs": [
    {
     "name": "stdout",
     "output_type": "stream",
     "text": [
      "Accuracy of Logistic Regression: 0.761441637069616\n",
      "ROC-AUC score of Logistic Regression: 0.7457032770199017\n"
     ]
    }
   ],
   "execution_count": 15
  },
  {
   "metadata": {
    "ExecuteTime": {
     "end_time": "2024-10-27T04:26:43.998125Z",
     "start_time": "2024-10-27T04:26:43.887378Z"
    }
   },
   "cell_type": "code",
   "source": [
    "from sklearn.metrics import roc_curve, auc\n",
    "import matplotlib.pyplot as plt\n",
    "\n",
    "y_pred_proba = LR.predict_proba(x_test_vector)[:, 1]\n",
    "fpr, tpr, thresholds = roc_curve(y_test, y_pred)  \n",
    "roc_auc = auc(fpr, tpr)\n",
    "plt.plot(fpr, tpr, color='darkorange', lw=2, label=f'ROC curve (area = {roc_auc:.2f})')\n",
    "plt.plot([0, 1], [0, 1], color='navy', lw=2, linestyle='--')\n",
    "plt.xlim([0.0, 1.0])\n",
    "plt.ylim([0.0, 1.05])\n",
    "plt.xlabel('False Positive Rate')\n",
    "plt.ylabel('True Positive Rate')\n",
    "plt.title('ROC Curve of baseline model')\n",
    "plt.legend(loc=\"lower right\")\n",
    "plt.show()"
   ],
   "id": "841f16dddc26fc67",
   "outputs": [
    {
     "data": {
      "text/plain": [
       "<Figure size 640x480 with 1 Axes>"
      ],
      "image/png": "[encoded data removed]"
     },
     "metadata": {},
     "output_type": "display_data"
    }
   ],
   "execution_count": 16
  },
  {
   "metadata": {},
   "cell_type": "markdown",
   "source": "### LGBM(Light Gradient Boosting Model)",
   "id": "1c111ead4be47570"
  },
  {
   "metadata": {
    "ExecuteTime": {
     "end_time": "2024-10-23T00:46:45.329610Z",
     "start_time": "2024-10-23T00:46:45.314202Z"
    }
   },
   "cell_type": "code",
   "source": [
    "\n",
    "\n",
    "x_train_vector = pd.DataFrame(x_train_vector)\n",
    "train_dataset = pd.concat([x_train_vector, y_train], axis=1)\n",
    "train_dataset.head()"
   ],
   "id": "ea7d850a982f0db",
   "outputs": [
    {
     "data": {
      "text/plain": [
       "                                                   0  label\n",
       "0  <Compressed Sparse Row sparse matrix of dtype ...      7\n",
       "1  <Compressed Sparse Row sparse matrix of dtype ...      4\n",
       "2  <Compressed Sparse Row sparse matrix of dtype ...      7\n",
       "3  <Compressed Sparse Row sparse matrix of dtype ...      4\n",
       "4  <Compressed Sparse Row sparse matrix of dtype ...      2"
      ],
      "text/html": [
       "<div>\n",
       "<style scoped>\n",
       "    .dataframe tbody tr th:only-of-type {\n",
       "        vertical-align: middle;\n",
       "    }\n",
       "\n",
       "    .dataframe tbody tr th {\n",
       "        vertical-align: top;\n",
       "    }\n",
       "\n",
       "    .dataframe thead th {\n",
       "        text-align: right;\n",
       "    }\n",
       "</style>\n",
       "<table border=\"1\" class=\"dataframe\">\n",
       "  <thead>\n",
       "    <tr style=\"text-align: right;\">\n",
       "      <th></th>\n",
       "      <th>0</th>\n",
       "      <th>label</th>\n",
       "    </tr>\n",
       "  </thead>\n",
       "  <tbody>\n",
       "    <tr>\n",
       "      <th>0</th>\n",
       "      <td>&lt;Compressed Sparse Row sparse matrix of dtype ...</td>\n",
       "      <td>7</td>\n",
       "    </tr>\n",
       "    <tr>\n",
       "      <th>1</th>\n",
       "      <td>&lt;Compressed Sparse Row sparse matrix of dtype ...</td>\n",
       "      <td>4</td>\n",
       "    </tr>\n",
       "    <tr>\n",
       "      <th>2</th>\n",
       "      <td>&lt;Compressed Sparse Row sparse matrix of dtype ...</td>\n",
       "      <td>7</td>\n",
       "    </tr>\n",
       "    <tr>\n",
       "      <th>3</th>\n",
       "      <td>&lt;Compressed Sparse Row sparse matrix of dtype ...</td>\n",
       "      <td>4</td>\n",
       "    </tr>\n",
       "    <tr>\n",
       "      <th>4</th>\n",
       "      <td>&lt;Compressed Sparse Row sparse matrix of dtype ...</td>\n",
       "      <td>2</td>\n",
       "    </tr>\n",
       "  </tbody>\n",
       "</table>\n",
       "</div>"
      ]
     },
     "execution_count": 16,
     "metadata": {},
     "output_type": "execute_result"
    }
   ],
   "execution_count": 16
  },
  {
   "metadata": {
    "ExecuteTime": {
     "end_time": "2024-10-23T01:41:26.923227Z",
     "start_time": "2024-10-23T01:40:56.812114Z"
    }
   },
   "cell_type": "code",
   "source": [
    "import lightgbm as lgbm\n",
    "from sklearn.metrics import accuracy_score\n",
    "\n",
    "lgbm_clf = lgbm.LGBMClassifier(device = 'gpu',\n",
    "                               learning_rate = 0.1)\n",
    "lgbm_clf.fit(x_train_vector, y_train)\n",
    "y_pred = lgbm_clf.predict(x_test_vector)\n",
    "accuracy_score = accuracy_score(y_test, y_pred)"
   ],
   "id": "2d19c32f4b50e89a",
   "outputs": [
    {
     "name": "stdout",
     "output_type": "stream",
     "text": [
      "[LightGBM] [Info] This is the GPU trainer!!\n",
      "[LightGBM] [Info] Total Bins 157847\n",
      "[LightGBM] [Info] Number of data points in the train set: 1062593, number of used features: 8120\n",
      "[LightGBM] [Info] Using GPU Device: Intel(R) UHD Graphics, Vendor: Intel(R) Corporation\n",
      "[LightGBM] [Info] Compiling OpenCL Kernel with 16 bins...\n",
      "[LightGBM] [Info] GPU programs have been built\n",
      "[LightGBM] [Warning] GPU acceleration is disabled because no non-trivial dense features can be found\n",
      "[LightGBM] [Info] Start training from score -2.076999\n",
      "[LightGBM] [Info] Start training from score -2.103760\n",
      "[LightGBM] [Info] Start training from score -2.165726\n",
      "[LightGBM] [Info] Start training from score -2.121591\n",
      "[LightGBM] [Info] Start training from score -2.160169\n",
      "[LightGBM] [Info] Start training from score -2.291768\n",
      "[LightGBM] [Info] Start training from score -2.117133\n",
      "[LightGBM] [Info] Start training from score -1.706939\n"
     ]
    }
   ],
   "execution_count": 26
  },
  {
   "metadata": {
    "ExecuteTime": {
     "end_time": "2024-10-23T01:46:54.843950Z",
     "start_time": "2024-10-23T01:46:52.388537Z"
    }
   },
   "cell_type": "code",
   "source": [
    "y_pred = lgbm_clf.predict(x_test_vector)\n",
    "accuracy_score(y_test, y_pred)\n",
    "print(accuracy_score)"
   ],
   "id": "fcbd260d7bba9aef",
   "outputs": [
    {
     "ename": "TypeError",
     "evalue": "'float' object is not callable",
     "output_type": "error",
     "traceback": [
      "\u001B[1;31m---------------------------------------------------------------------------\u001B[0m",
      "\u001B[1;31mTypeError\u001B[0m                                 Traceback (most recent call last)",
      "Cell \u001B[1;32mIn[35], line 2\u001B[0m\n\u001B[0;32m      1\u001B[0m y_pred \u001B[38;5;241m=\u001B[39m lgbm_clf\u001B[38;5;241m.\u001B[39mpredict(x_test_vector)\n\u001B[1;32m----> 2\u001B[0m \u001B[43maccuracy_score\u001B[49m\u001B[43m(\u001B[49m\u001B[43my_test\u001B[49m\u001B[43m,\u001B[49m\u001B[43m \u001B[49m\u001B[43my_pred\u001B[49m\u001B[43m)\u001B[49m\n\u001B[0;32m      3\u001B[0m \u001B[38;5;66;03m# print(accuracy_score)\u001B[39;00m\n",
      "\u001B[1;31mTypeError\u001B[0m: 'float' object is not callable"
     ]
    }
   ],
   "execution_count": 35
  },
  {
   "metadata": {
    "ExecuteTime": {
     "end_time": "2024-10-23T01:46:20.299442Z",
     "start_time": "2024-10-23T01:46:20.295320Z"
    }
   },
   "cell_type": "code",
   "source": "print(type(y_pred[0]), type(y_test[0]))",
   "id": "9fd248bed5f9493b",
   "outputs": [
    {
     "name": "stdout",
     "output_type": "stream",
     "text": [
      "<class 'numpy.int64'> <class 'numpy.int64'>\n"
     ]
    }
   ],
   "execution_count": 34
  },
  {
   "metadata": {
    "ExecuteTime": {
     "end_time": "2024-10-23T01:55:43.985066Z",
     "start_time": "2024-10-23T01:55:43.980320Z"
    }
   },
   "cell_type": "code",
   "source": "y_train.values",
   "id": "39d95687e26d201d",
   "outputs": [
    {
     "data": {
      "text/plain": [
       "array([2, 3, 1, ..., 6, 6, 5])"
      ]
     },
     "execution_count": 10,
     "metadata": {},
     "output_type": "execute_result"
    }
   ],
   "execution_count": 10
  },
  {
   "metadata": {
    "ExecuteTime": {
     "end_time": "2024-10-23T01:58:50.497977Z",
     "start_time": "2024-10-23T01:58:43.639638Z"
    }
   },
   "cell_type": "code",
   "source": [
    "import lightgbm as lgb\n",
    "from sklearn.metrics import accuracy_score\n",
    "\n",
    "param = params = {\n",
    "    'application' : 'multiclass',\n",
    "    'device' : 'gpu',\n",
    "    'learning_rate' : 0.1,\n",
    "    'num_class' : len(set(y_train)),\n",
    "    'metric' : 'multi_logloss'\n",
    "}\n",
    "\n",
    "train_dataset = lgb.Dataset(x_train_vector, label = y_train)\n",
    "lgb_bst = lgb.train(param, train_dataset, num_boost_round=10)\n",
    "y_pred = lgb_bst.predict(x_test_vector)\n",
    "y_pred_val = [list(x).index(max(x)) for x in y_pred]\n",
    "accuracy_score = accuracy_score(y_test, y_pred_val)\n",
    "print(f'Accuracy Score: {accuracy_score}')"
   ],
   "id": "f34b83138fb792b7",
   "outputs": [
    {
     "name": "stdout",
     "output_type": "stream",
     "text": [
      "[LightGBM] [Info] This is the GPU trainer!!\n",
      "[LightGBM] [Info] Total Bins 157480\n",
      "[LightGBM] [Info] Number of data points in the train set: 1062593, number of used features: 8103\n",
      "[LightGBM] [Info] Using GPU Device: Intel(R) UHD Graphics, Vendor: Intel(R) Corporation\n",
      "[LightGBM] [Info] Compiling OpenCL Kernel with 16 bins...\n",
      "[LightGBM] [Info] GPU programs have been built\n",
      "[LightGBM] [Warning] GPU acceleration is disabled because no non-trivial dense features can be found\n",
      "[LightGBM] [Info] Start training from score -2.076413\n",
      "[LightGBM] [Info] Start training from score -2.104431\n",
      "[LightGBM] [Info] Start training from score -2.165652\n",
      "[LightGBM] [Info] Start training from score -2.122204\n",
      "[LightGBM] [Info] Start training from score -2.161549\n",
      "[LightGBM] [Info] Start training from score -2.291079\n",
      "[LightGBM] [Info] Start training from score -2.117469\n",
      "[LightGBM] [Info] Start training from score -1.705819\n",
      "Accuracy Score: 0.37450239696440973\n"
     ]
    }
   ],
   "execution_count": 16
  },
  {
   "metadata": {},
   "cell_type": "markdown",
   "source": "### Softmax Classifier",
   "id": "4ed174bc5c4d435f"
  },
  {
   "metadata": {
    "ExecuteTime": {
     "end_time": "2024-10-23T05:40:27.467833Z",
     "start_time": "2024-10-23T05:40:23.109555Z"
    }
   },
   "cell_type": "code",
   "source": [
    "from tensorflow.keras.utils import to_categorical\n",
    "\n",
    "# One-Hot Encoding\n",
    "y_train_enc = to_categorical(y_train)\n",
    "y_test_enc = to_categorical(y_test)"
   ],
   "id": "7ae7dc2ed9091854",
   "outputs": [],
   "execution_count": 17
  },
  {
   "metadata": {
    "ExecuteTime": {
     "end_time": "2024-10-23T06:43:49.283947Z",
     "start_time": "2024-10-23T06:43:49.272750Z"
    }
   },
   "cell_type": "code",
   "source": [
    "import numpy as np\n",
    "print(x_train_vector.shape)\n",
    "x_train_vector = np.array(x_train_vector)\n",
    "print(x_train_vector.shape)\n",
    "x_test_vector = np.array(x_test_vector)"
   ],
   "id": "7b8c78abf9a5fd63",
   "outputs": [
    {
     "ename": "IndexError",
     "evalue": "tuple index out of range",
     "output_type": "error",
     "traceback": [
      "\u001B[1;31m---------------------------------------------------------------------------\u001B[0m",
      "\u001B[1;31mIndexError\u001B[0m                                Traceback (most recent call last)",
      "Cell \u001B[1;32mIn[36], line 2\u001B[0m\n\u001B[0;32m      1\u001B[0m \u001B[38;5;28;01mimport\u001B[39;00m \u001B[38;5;21;01mnumpy\u001B[39;00m \u001B[38;5;28;01mas\u001B[39;00m \u001B[38;5;21;01mnp\u001B[39;00m\n\u001B[1;32m----> 2\u001B[0m \u001B[38;5;28mprint\u001B[39m(\u001B[43mx_train_vector\u001B[49m\u001B[38;5;241;43m.\u001B[39;49m\u001B[43mshape\u001B[49m\u001B[43m[\u001B[49m\u001B[38;5;241;43m1\u001B[39;49m\u001B[43m]\u001B[49m)\n\u001B[0;32m      3\u001B[0m x_train_vector \u001B[38;5;241m=\u001B[39m np\u001B[38;5;241m.\u001B[39marray(x_train_vector)\n\u001B[0;32m      4\u001B[0m \u001B[38;5;28mprint\u001B[39m(x_train_vector\u001B[38;5;241m.\u001B[39mshape)\n",
      "\u001B[1;31mIndexError\u001B[0m: tuple index out of range"
     ]
    }
   ],
   "execution_count": 36
  },
  {
   "metadata": {
    "ExecuteTime": {
     "end_time": "2024-10-23T06:40:41.294531Z",
     "start_time": "2024-10-23T06:40:41.280996Z"
    }
   },
   "cell_type": "code",
   "source": [
    "from tensorflow.keras.models import Sequential\n",
    "from tensorflow.keras.layers import Dense, Input\n",
    "\n",
    "model = Sequential()\n",
    "\n",
    "model.add(Input(shape=(x_train_vector.shape[1],)))\n",
    "model.add(Dense(units = 128, activation = 'softmax'))\n",
    "model.compile(loss= 'categorical_crossentropy', optimizer='adam', metrics=['accuracy'])\n",
    "history = model.fit(x_train_vector, y_train_enc, validation_data=(x_test_vector, y_test_enc), epochs=100)"
   ],
   "id": "e87df1a4b6a5c4c1",
   "outputs": [
    {
     "ename": "IndexError",
     "evalue": "tuple index out of range",
     "output_type": "error",
     "traceback": [
      "\u001B[1;31m---------------------------------------------------------------------------\u001B[0m",
      "\u001B[1;31mIndexError\u001B[0m                                Traceback (most recent call last)",
      "Cell \u001B[1;32mIn[27], line 6\u001B[0m\n\u001B[0;32m      2\u001B[0m \u001B[38;5;28;01mfrom\u001B[39;00m \u001B[38;5;21;01mtensorflow\u001B[39;00m\u001B[38;5;21;01m.\u001B[39;00m\u001B[38;5;21;01mkeras\u001B[39;00m\u001B[38;5;21;01m.\u001B[39;00m\u001B[38;5;21;01mlayers\u001B[39;00m \u001B[38;5;28;01mimport\u001B[39;00m Dense, Input\n\u001B[0;32m      4\u001B[0m model \u001B[38;5;241m=\u001B[39m Sequential()\n\u001B[1;32m----> 6\u001B[0m model\u001B[38;5;241m.\u001B[39madd(Input(shape\u001B[38;5;241m=\u001B[39m(\u001B[43mx_train_vector\u001B[49m\u001B[38;5;241;43m.\u001B[39;49m\u001B[43mshape\u001B[49m\u001B[43m[\u001B[49m\u001B[38;5;241;43m1\u001B[39;49m\u001B[43m]\u001B[49m,)))\n\u001B[0;32m      7\u001B[0m model\u001B[38;5;241m.\u001B[39madd(Dense(units \u001B[38;5;241m=\u001B[39m \u001B[38;5;241m128\u001B[39m, activation \u001B[38;5;241m=\u001B[39m \u001B[38;5;124m'\u001B[39m\u001B[38;5;124msoftmax\u001B[39m\u001B[38;5;124m'\u001B[39m))\n\u001B[0;32m      8\u001B[0m model\u001B[38;5;241m.\u001B[39mcompile(loss\u001B[38;5;241m=\u001B[39m \u001B[38;5;124m'\u001B[39m\u001B[38;5;124mcategorical_crossentropy\u001B[39m\u001B[38;5;124m'\u001B[39m, optimizer\u001B[38;5;241m=\u001B[39m\u001B[38;5;124m'\u001B[39m\u001B[38;5;124madam\u001B[39m\u001B[38;5;124m'\u001B[39m, metrics\u001B[38;5;241m=\u001B[39m[\u001B[38;5;124m'\u001B[39m\u001B[38;5;124maccuracy\u001B[39m\u001B[38;5;124m'\u001B[39m])\n",
      "\u001B[1;31mIndexError\u001B[0m: tuple index out of range"
     ]
    }
   ],
   "execution_count": 27
  },
  {
   "metadata": {
    "ExecuteTime": {
     "end_time": "2024-10-23T06:41:11.393873Z",
     "start_time": "2024-10-23T06:41:11.387134Z"
    }
   },
   "cell_type": "code",
   "source": "x_train_vector.shape",
   "id": "6d3a7b1f48021c44",
   "outputs": [
    {
     "data": {
      "text/plain": [
       "()"
      ]
     },
     "execution_count": 28,
     "metadata": {},
     "output_type": "execute_result"
    }
   ],
   "execution_count": 28
  },
  {
   "metadata": {},
   "cell_type": "code",
   "outputs": [],
   "execution_count": null,
   "source": "",
   "id": "5a690b031ee2b5b8"
  },
  {
   "metadata": {},
   "cell_type": "code",
   "outputs": [],
   "execution_count": null,
   "source": "",
   "id": "b5743d06768583c6"
  },
  {
   "metadata": {},
   "cell_type": "code",
   "outputs": [],
   "execution_count": null,
   "source": "",
   "id": "277337fb72033263"
  }
 ],
 "metadata": {
  "kernelspec": {
   "display_name": "Python 3",
   "language": "python",
   "name": "python3"
  },
  "language_info": {
   "codemirror_mode": {
    "name": "ipython",
    "version": 2
   },
   "file_extension": ".py",
   "mimetype": "text/x-python",
   "name": "python",
   "nbconvert_exporter": "python",
   "pygments_lexer": "ipython2",
   "version": "2.7.6"
  }
 },
 "nbformat": 4,
 "nbformat_minor": 5
}
