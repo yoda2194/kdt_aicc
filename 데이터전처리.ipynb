{
 "cells": [
  {
   "cell_type": "code",
   "id": "initial_id",
   "metadata": {
    "collapsed": true,
    "ExecuteTime": {
     "end_time": "2024-10-25T12:54:52.358997Z",
     "start_time": "2024-10-25T12:54:52.015411Z"
    }
   },
   "source": [
    "import os, json, pprint, re\n",
    "from tqdm import tqdm\n",
    "\n",
    "import pandas as pd"
   ],
   "outputs": [],
   "execution_count": 1
  },
  {
   "metadata": {
    "ExecuteTime": {
     "end_time": "2024-10-25T13:04:02.636954Z",
     "start_time": "2024-10-25T13:04:02.633772Z"
    }
   },
   "cell_type": "code",
   "source": [
    "folder_no = 2\n",
    "folder_path = f\"C:/Users/Jin/PycharmProjects/KDT/json_file{folder_no}/\""
   ],
   "id": "b5e35e72683e2196",
   "outputs": [],
   "execution_count": 19
  },
  {
   "metadata": {
    "ExecuteTime": {
     "end_time": "2024-10-25T13:01:47.803469Z",
     "start_time": "2024-10-25T13:01:47.799425Z"
    }
   },
   "cell_type": "code",
   "source": [
    "def regular_expression(text):\n",
    "    result = re.sub(r'o/|n/|b/ ', r'', text)\n",
    "    result = re.sub(r'\\(\\(\\)\\)',r'', result)\n",
    "    result = re.sub(r'/\\(([^)]+)\\)', r'', result)\n",
    "    result = re.sub(r'\\(', r'', result, count=10)\n",
    "    result = re.sub(r'\\)', r'', result, count=10)\n",
    "    result = re.sub(r'/', r'', result, count=10).strip()\n",
    "    return \"\".join(result)"
   ],
   "id": "ed1b7f0b6acb7c81",
   "outputs": [],
   "execution_count": 9
  },
  {
   "metadata": {
    "ExecuteTime": {
     "end_time": "2024-10-25T13:04:09.883586Z",
     "start_time": "2024-10-25T13:04:06.632381Z"
    }
   },
   "cell_type": "code",
   "source": [
    "from collections import defaultdict\n",
    "def folder_file_to_df(folder_path):\n",
    "    \n",
    "    target_folder = os.listdir(folder_path)\n",
    "    print(folder_path)\n",
    "    \n",
    "    cnt = 0\n",
    "    dialog_dict = defaultdict(list)\n",
    "    df = pd.DataFrame(columns=['speaker_type', 'speaker', 'txt'])\n",
    "    txt_list = []\n",
    "    \n",
    "    # 내 코드는 왜 항상 느림\n",
    "    # for file in tqdm(target_folder):\n",
    "    #     file_path = os.path.join(folder_path, file)\n",
    "    #     try:\n",
    "    #         target_file = open(file_path, encoding=\"utf-8\")\n",
    "    #         data = json.load(target_file)\n",
    "    #         category = data['dataSet']['typeInfo']['subcategory']\n",
    "    #         if category not in ('복지', '일반행정', '기타민원'):\n",
    "    #             continue\n",
    "    #         \n",
    "    #         speakers = data['dataSet']['typeInfo']['speakers']\n",
    "    #         speaker = None\n",
    "    #     \n",
    "    #     \n",
    "    #         for text in data['dataSet']['dialogs']:\n",
    "    #             speaker = text['speaker']\n",
    "    #             speaker_type = speakers[int(speaker)-1]['type']\n",
    "    #             txt = regular_expression(text['text'])\n",
    "    #             temp_df = pd.DataFrame({\n",
    "    #                 'speaker_type': speaker_type, \n",
    "    #                 'speaker': speaker, \n",
    "    #                 'txt': txt, \n",
    "    #                 'label':category}, \n",
    "    #                 index=[0])\n",
    "    #             df = pd.concat([df, temp_df], axis=0, ignore_index=True)\n",
    "    #     except:\n",
    "    #         print(f\"error : {file_path}\")\n",
    "    \n",
    "    # GPT가 바꿔준 코드 개빠름 ㅠ\n",
    "    data_list = []\n",
    "    for file in tqdm(target_folder):\n",
    "        file_path = os.path.join(folder_path, file)\n",
    "        try:\n",
    "            with open(file_path, encoding=\"utf-8\") as target_file:\n",
    "                data = json.load(target_file)\n",
    "                category = data['dataSet']['typeInfo']['subcategory']\n",
    "                if category not in ('복지', '일반행정', '기타민원'):\n",
    "                    continue\n",
    "    \n",
    "                speakers = data['dataSet']['typeInfo']['speakers']\n",
    "    \n",
    "                for text in data['dataSet']['dialogs']:\n",
    "                    speaker = text['speaker']\n",
    "                    speaker_type = None\n",
    "                    for s in speakers:\n",
    "                        if s['id'] == speaker:\n",
    "                            speaker_type = s['type']\n",
    "                    txt = regular_expression(text['text'])\n",
    "                    \n",
    "                    # 데이터 리스트에 추가\n",
    "                    data_list.append({\n",
    "                        'speaker_type': speaker_type, \n",
    "                        'speaker': speaker, \n",
    "                        'txt': txt, \n",
    "                        'label': category\n",
    "                    })\n",
    "        except Exception as e:\n",
    "            print(f\"error : {file_path}, {str(e)}\")\n",
    "    \n",
    "    return pd.DataFrame(data_list)\n",
    "\n",
    "# 한 번에 DataFrame으로 변환\n",
    "df = folder_file_to_df(folder_path)"
   ],
   "id": "b13d993c73f12dc",
   "outputs": [
    {
     "name": "stdout",
     "output_type": "stream",
     "text": [
      "C:/Users/Jin/PycharmProjects/KDT/json_file2/\n"
     ]
    },
    {
     "name": "stderr",
     "output_type": "stream",
     "text": [
      "100%|██████████| 9481/9481 [00:03<00:00, 3027.23it/s]\n"
     ]
    }
   ],
   "execution_count": 20
  },
  {
   "metadata": {
    "ExecuteTime": {
     "end_time": "2024-10-25T13:05:06.807183Z",
     "start_time": "2024-10-25T13:05:06.568523Z"
    }
   },
   "cell_type": "code",
   "source": [
    "# 파일 만들어줌\n",
    "print(df['label'].value_counts())\n",
    "df.to_csv(f'data_file/test{folder_no}.csv', encoding='utf-8', index=False)"
   ],
   "id": "3f018d4a3a7ead88",
   "outputs": [
    {
     "name": "stdout",
     "output_type": "stream",
     "text": [
      "label\n",
      "일반행정    180454\n",
      "Name: count, dtype: int64\n"
     ]
    }
   ],
   "execution_count": 24
  },
  {
   "metadata": {
    "ExecuteTime": {
     "end_time": "2024-10-25T13:05:25.105873Z",
     "start_time": "2024-10-25T13:05:25.102550Z"
    }
   },
   "cell_type": "code",
   "source": "test_file_path = f\"data_file/test{folder_no}.csv\"",
   "id": "f6e57e761a5c723",
   "outputs": [],
   "execution_count": 26
  },
  {
   "metadata": {
    "ExecuteTime": {
     "end_time": "2024-10-25T00:52:11.712510Z",
     "start_time": "2024-10-25T00:52:11.626824Z"
    }
   },
   "cell_type": "code",
   "source": "",
   "id": "1de3e40732778cfe",
   "outputs": [
    {
     "ename": "JSONDecodeError",
     "evalue": "Expecting value: line 1 column 1 (char 0)",
     "output_type": "error",
     "traceback": [
      "\u001B[1;31m---------------------------------------------------------------------------\u001B[0m",
      "\u001B[1;31mJSONDecodeError\u001B[0m                           Traceback (most recent call last)",
      "Cell \u001B[1;32mIn[12], line 2\u001B[0m\n\u001B[0;32m      1\u001B[0m target_file \u001B[38;5;241m=\u001B[39m \u001B[38;5;28mopen\u001B[39m(test_file_path, encoding\u001B[38;5;241m=\u001B[39m\u001B[38;5;124m\"\u001B[39m\u001B[38;5;124mUTF-8\u001B[39m\u001B[38;5;124m\"\u001B[39m) \u001B[38;5;66;03m# json file load\u001B[39;00m\n\u001B[1;32m----> 2\u001B[0m json_file \u001B[38;5;241m=\u001B[39m \u001B[43mjson\u001B[49m\u001B[38;5;241;43m.\u001B[39;49m\u001B[43mloads\u001B[49m\u001B[43m(\u001B[49m\u001B[43mtarget_file\u001B[49m\u001B[38;5;241;43m.\u001B[39;49m\u001B[43mread\u001B[49m\u001B[43m(\u001B[49m\u001B[43m)\u001B[49m\u001B[43m)\u001B[49m\n\u001B[0;32m      3\u001B[0m speakers \u001B[38;5;241m=\u001B[39m json_file[\u001B[38;5;124m'\u001B[39m\u001B[38;5;124mdataSet\u001B[39m\u001B[38;5;124m'\u001B[39m][\u001B[38;5;124m'\u001B[39m\u001B[38;5;124mtypeInfo\u001B[39m\u001B[38;5;124m'\u001B[39m][\u001B[38;5;124m'\u001B[39m\u001B[38;5;124mspeakers\u001B[39m\u001B[38;5;124m'\u001B[39m]\n\u001B[0;32m      4\u001B[0m category \u001B[38;5;241m=\u001B[39m json_file[\u001B[38;5;124m'\u001B[39m\u001B[38;5;124mdataSet\u001B[39m\u001B[38;5;124m'\u001B[39m][\u001B[38;5;124m'\u001B[39m\u001B[38;5;124mtypeInfo\u001B[39m\u001B[38;5;124m'\u001B[39m][\u001B[38;5;124m'\u001B[39m\u001B[38;5;124msubcategory\u001B[39m\u001B[38;5;124m'\u001B[39m]\n",
      "File \u001B[1;32m~\\AppData\\Local\\Programs\\Python\\Python311\\Lib\\json\\__init__.py:346\u001B[0m, in \u001B[0;36mloads\u001B[1;34m(s, cls, object_hook, parse_float, parse_int, parse_constant, object_pairs_hook, **kw)\u001B[0m\n\u001B[0;32m    341\u001B[0m     s \u001B[38;5;241m=\u001B[39m s\u001B[38;5;241m.\u001B[39mdecode(detect_encoding(s), \u001B[38;5;124m'\u001B[39m\u001B[38;5;124msurrogatepass\u001B[39m\u001B[38;5;124m'\u001B[39m)\n\u001B[0;32m    343\u001B[0m \u001B[38;5;28;01mif\u001B[39;00m (\u001B[38;5;28mcls\u001B[39m \u001B[38;5;129;01mis\u001B[39;00m \u001B[38;5;28;01mNone\u001B[39;00m \u001B[38;5;129;01mand\u001B[39;00m object_hook \u001B[38;5;129;01mis\u001B[39;00m \u001B[38;5;28;01mNone\u001B[39;00m \u001B[38;5;129;01mand\u001B[39;00m\n\u001B[0;32m    344\u001B[0m         parse_int \u001B[38;5;129;01mis\u001B[39;00m \u001B[38;5;28;01mNone\u001B[39;00m \u001B[38;5;129;01mand\u001B[39;00m parse_float \u001B[38;5;129;01mis\u001B[39;00m \u001B[38;5;28;01mNone\u001B[39;00m \u001B[38;5;129;01mand\u001B[39;00m\n\u001B[0;32m    345\u001B[0m         parse_constant \u001B[38;5;129;01mis\u001B[39;00m \u001B[38;5;28;01mNone\u001B[39;00m \u001B[38;5;129;01mand\u001B[39;00m object_pairs_hook \u001B[38;5;129;01mis\u001B[39;00m \u001B[38;5;28;01mNone\u001B[39;00m \u001B[38;5;129;01mand\u001B[39;00m \u001B[38;5;129;01mnot\u001B[39;00m kw):\n\u001B[1;32m--> 346\u001B[0m     \u001B[38;5;28;01mreturn\u001B[39;00m \u001B[43m_default_decoder\u001B[49m\u001B[38;5;241;43m.\u001B[39;49m\u001B[43mdecode\u001B[49m\u001B[43m(\u001B[49m\u001B[43ms\u001B[49m\u001B[43m)\u001B[49m\n\u001B[0;32m    347\u001B[0m \u001B[38;5;28;01mif\u001B[39;00m \u001B[38;5;28mcls\u001B[39m \u001B[38;5;129;01mis\u001B[39;00m \u001B[38;5;28;01mNone\u001B[39;00m:\n\u001B[0;32m    348\u001B[0m     \u001B[38;5;28mcls\u001B[39m \u001B[38;5;241m=\u001B[39m JSONDecoder\n",
      "File \u001B[1;32m~\\AppData\\Local\\Programs\\Python\\Python311\\Lib\\json\\decoder.py:337\u001B[0m, in \u001B[0;36mJSONDecoder.decode\u001B[1;34m(self, s, _w)\u001B[0m\n\u001B[0;32m    332\u001B[0m \u001B[38;5;28;01mdef\u001B[39;00m \u001B[38;5;21mdecode\u001B[39m(\u001B[38;5;28mself\u001B[39m, s, _w\u001B[38;5;241m=\u001B[39mWHITESPACE\u001B[38;5;241m.\u001B[39mmatch):\n\u001B[0;32m    333\u001B[0m \u001B[38;5;250m    \u001B[39m\u001B[38;5;124;03m\"\"\"Return the Python representation of ``s`` (a ``str`` instance\u001B[39;00m\n\u001B[0;32m    334\u001B[0m \u001B[38;5;124;03m    containing a JSON document).\u001B[39;00m\n\u001B[0;32m    335\u001B[0m \n\u001B[0;32m    336\u001B[0m \u001B[38;5;124;03m    \"\"\"\u001B[39;00m\n\u001B[1;32m--> 337\u001B[0m     obj, end \u001B[38;5;241m=\u001B[39m \u001B[38;5;28;43mself\u001B[39;49m\u001B[38;5;241;43m.\u001B[39;49m\u001B[43mraw_decode\u001B[49m\u001B[43m(\u001B[49m\u001B[43ms\u001B[49m\u001B[43m,\u001B[49m\u001B[43m \u001B[49m\u001B[43midx\u001B[49m\u001B[38;5;241;43m=\u001B[39;49m\u001B[43m_w\u001B[49m\u001B[43m(\u001B[49m\u001B[43ms\u001B[49m\u001B[43m,\u001B[49m\u001B[43m \u001B[49m\u001B[38;5;241;43m0\u001B[39;49m\u001B[43m)\u001B[49m\u001B[38;5;241;43m.\u001B[39;49m\u001B[43mend\u001B[49m\u001B[43m(\u001B[49m\u001B[43m)\u001B[49m\u001B[43m)\u001B[49m\n\u001B[0;32m    338\u001B[0m     end \u001B[38;5;241m=\u001B[39m _w(s, end)\u001B[38;5;241m.\u001B[39mend()\n\u001B[0;32m    339\u001B[0m     \u001B[38;5;28;01mif\u001B[39;00m end \u001B[38;5;241m!=\u001B[39m \u001B[38;5;28mlen\u001B[39m(s):\n",
      "File \u001B[1;32m~\\AppData\\Local\\Programs\\Python\\Python311\\Lib\\json\\decoder.py:355\u001B[0m, in \u001B[0;36mJSONDecoder.raw_decode\u001B[1;34m(self, s, idx)\u001B[0m\n\u001B[0;32m    353\u001B[0m     obj, end \u001B[38;5;241m=\u001B[39m \u001B[38;5;28mself\u001B[39m\u001B[38;5;241m.\u001B[39mscan_once(s, idx)\n\u001B[0;32m    354\u001B[0m \u001B[38;5;28;01mexcept\u001B[39;00m \u001B[38;5;167;01mStopIteration\u001B[39;00m \u001B[38;5;28;01mas\u001B[39;00m err:\n\u001B[1;32m--> 355\u001B[0m     \u001B[38;5;28;01mraise\u001B[39;00m JSONDecodeError(\u001B[38;5;124m\"\u001B[39m\u001B[38;5;124mExpecting value\u001B[39m\u001B[38;5;124m\"\u001B[39m, s, err\u001B[38;5;241m.\u001B[39mvalue) \u001B[38;5;28;01mfrom\u001B[39;00m \u001B[38;5;28;01mNone\u001B[39;00m\n\u001B[0;32m    356\u001B[0m \u001B[38;5;28;01mreturn\u001B[39;00m obj, end\n",
      "\u001B[1;31mJSONDecodeError\u001B[0m: Expecting value: line 1 column 1 (char 0)"
     ]
    }
   ],
   "execution_count": 12
  },
  {
   "metadata": {
    "ExecuteTime": {
     "end_time": "2024-10-24T14:11:28.901691Z",
     "start_time": "2024-10-24T14:11:28.897169Z"
    }
   },
   "cell_type": "code",
   "source": "",
   "id": "f2149bfe13649202",
   "outputs": [
    {
     "name": "stdout",
     "output_type": "stream",
     "text": [
      "{'x': {'type': '고객', 'id': {'2'}, 'text': []}, 'y': {'type': '상담사', 'id': {'3', '1'}, 'text': []}}\n"
     ]
    }
   ],
   "execution_count": 127
  },
  {
   "metadata": {
    "ExecuteTime": {
     "end_time": "2024-10-24T14:11:30.830942Z",
     "start_time": "2024-10-24T14:11:30.826807Z"
    }
   },
   "cell_type": "code",
   "source": "",
   "id": "62fa89db70fe5606",
   "outputs": [],
   "execution_count": 128
  },
  {
   "metadata": {
    "ExecuteTime": {
     "end_time": "2024-10-25T13:05:27.688691Z",
     "start_time": "2024-10-25T13:05:27.390667Z"
    }
   },
   "cell_type": "code",
   "source": [
    "test_df = pd.read_csv(f\"data_file/test{folder_no}.csv\")\n",
    "test_df.dropna(inplace=True)"
   ],
   "id": "df39cb80458feb2e",
   "outputs": [],
   "execution_count": 27
  },
  {
   "metadata": {
    "ExecuteTime": {
     "end_time": "2024-10-25T13:05:30.038143Z",
     "start_time": "2024-10-25T13:05:30.015071Z"
    }
   },
   "cell_type": "code",
   "source": [
    "print(test_df.info())\n",
    "\n"
   ],
   "id": "6206c116f70a2ffb",
   "outputs": [
    {
     "name": "stdout",
     "output_type": "stream",
     "text": [
      "<class 'pandas.core.frame.DataFrame'>\n",
      "Index: 180304 entries, 0 to 180453\n",
      "Data columns (total 4 columns):\n",
      " #   Column        Non-Null Count   Dtype \n",
      "---  ------        --------------   ----- \n",
      " 0   speaker_type  180304 non-null  object\n",
      " 1   speaker       180304 non-null  int64 \n",
      " 2   txt           180304 non-null  object\n",
      " 3   label         180304 non-null  object\n",
      "dtypes: int64(1), object(3)\n",
      "memory usage: 6.9+ MB\n",
      "None\n"
     ]
    }
   ],
   "execution_count": 28
  },
  {
   "metadata": {
    "ExecuteTime": {
     "end_time": "2024-10-25T00:52:34.335368Z",
     "start_time": "2024-10-25T00:52:34.275712Z"
    }
   },
   "cell_type": "code",
   "source": [
    "# # 고객 X, 상담사 Y로 나누고 분석하기 편하게 바꿈\n",
    "# target_file = open(test_file_path, encoding=\"UTF-8\") # json file load\n",
    "# json_file = json.loads(target_file.read())\n",
    "# speakers = json_file['dataSet']['typeInfo']['speakers']\n",
    "# category = json_file['dataSet']['typeInfo']['subcategory']\n",
    "# s = []\n",
    "# for speaker in speakers:\n",
    "#     s.append((speaker['type'], speaker['id']))\n",
    "# print(s)\n",
    "# \n",
    "# print(category)"
   ],
   "id": "c69a84986641d06a",
   "outputs": [
    {
     "ename": "JSONDecodeError",
     "evalue": "Expecting value: line 1 column 1 (char 0)",
     "output_type": "error",
     "traceback": [
      "\u001B[1;31m---------------------------------------------------------------------------\u001B[0m",
      "\u001B[1;31mJSONDecodeError\u001B[0m                           Traceback (most recent call last)",
      "Cell \u001B[1;32mIn[15], line 3\u001B[0m\n\u001B[0;32m      1\u001B[0m \u001B[38;5;66;03m# 고객 X, 상담사 Y로 나누고 분석하기 편하게 바꿈\u001B[39;00m\n\u001B[0;32m      2\u001B[0m target_file \u001B[38;5;241m=\u001B[39m \u001B[38;5;28mopen\u001B[39m(test_file_path, encoding\u001B[38;5;241m=\u001B[39m\u001B[38;5;124m\"\u001B[39m\u001B[38;5;124mUTF-8\u001B[39m\u001B[38;5;124m\"\u001B[39m) \u001B[38;5;66;03m# json file load\u001B[39;00m\n\u001B[1;32m----> 3\u001B[0m json_file \u001B[38;5;241m=\u001B[39m \u001B[43mjson\u001B[49m\u001B[38;5;241;43m.\u001B[39;49m\u001B[43mloads\u001B[49m\u001B[43m(\u001B[49m\u001B[43mtarget_file\u001B[49m\u001B[38;5;241;43m.\u001B[39;49m\u001B[43mread\u001B[49m\u001B[43m(\u001B[49m\u001B[43m)\u001B[49m\u001B[43m)\u001B[49m\n\u001B[0;32m      4\u001B[0m speakers \u001B[38;5;241m=\u001B[39m json_file[\u001B[38;5;124m'\u001B[39m\u001B[38;5;124mdataSet\u001B[39m\u001B[38;5;124m'\u001B[39m][\u001B[38;5;124m'\u001B[39m\u001B[38;5;124mtypeInfo\u001B[39m\u001B[38;5;124m'\u001B[39m][\u001B[38;5;124m'\u001B[39m\u001B[38;5;124mspeakers\u001B[39m\u001B[38;5;124m'\u001B[39m]\n\u001B[0;32m      5\u001B[0m category \u001B[38;5;241m=\u001B[39m json_file[\u001B[38;5;124m'\u001B[39m\u001B[38;5;124mdataSet\u001B[39m\u001B[38;5;124m'\u001B[39m][\u001B[38;5;124m'\u001B[39m\u001B[38;5;124mtypeInfo\u001B[39m\u001B[38;5;124m'\u001B[39m][\u001B[38;5;124m'\u001B[39m\u001B[38;5;124msubcategory\u001B[39m\u001B[38;5;124m'\u001B[39m]\n",
      "File \u001B[1;32m~\\AppData\\Local\\Programs\\Python\\Python311\\Lib\\json\\__init__.py:346\u001B[0m, in \u001B[0;36mloads\u001B[1;34m(s, cls, object_hook, parse_float, parse_int, parse_constant, object_pairs_hook, **kw)\u001B[0m\n\u001B[0;32m    341\u001B[0m     s \u001B[38;5;241m=\u001B[39m s\u001B[38;5;241m.\u001B[39mdecode(detect_encoding(s), \u001B[38;5;124m'\u001B[39m\u001B[38;5;124msurrogatepass\u001B[39m\u001B[38;5;124m'\u001B[39m)\n\u001B[0;32m    343\u001B[0m \u001B[38;5;28;01mif\u001B[39;00m (\u001B[38;5;28mcls\u001B[39m \u001B[38;5;129;01mis\u001B[39;00m \u001B[38;5;28;01mNone\u001B[39;00m \u001B[38;5;129;01mand\u001B[39;00m object_hook \u001B[38;5;129;01mis\u001B[39;00m \u001B[38;5;28;01mNone\u001B[39;00m \u001B[38;5;129;01mand\u001B[39;00m\n\u001B[0;32m    344\u001B[0m         parse_int \u001B[38;5;129;01mis\u001B[39;00m \u001B[38;5;28;01mNone\u001B[39;00m \u001B[38;5;129;01mand\u001B[39;00m parse_float \u001B[38;5;129;01mis\u001B[39;00m \u001B[38;5;28;01mNone\u001B[39;00m \u001B[38;5;129;01mand\u001B[39;00m\n\u001B[0;32m    345\u001B[0m         parse_constant \u001B[38;5;129;01mis\u001B[39;00m \u001B[38;5;28;01mNone\u001B[39;00m \u001B[38;5;129;01mand\u001B[39;00m object_pairs_hook \u001B[38;5;129;01mis\u001B[39;00m \u001B[38;5;28;01mNone\u001B[39;00m \u001B[38;5;129;01mand\u001B[39;00m \u001B[38;5;129;01mnot\u001B[39;00m kw):\n\u001B[1;32m--> 346\u001B[0m     \u001B[38;5;28;01mreturn\u001B[39;00m \u001B[43m_default_decoder\u001B[49m\u001B[38;5;241;43m.\u001B[39;49m\u001B[43mdecode\u001B[49m\u001B[43m(\u001B[49m\u001B[43ms\u001B[49m\u001B[43m)\u001B[49m\n\u001B[0;32m    347\u001B[0m \u001B[38;5;28;01mif\u001B[39;00m \u001B[38;5;28mcls\u001B[39m \u001B[38;5;129;01mis\u001B[39;00m \u001B[38;5;28;01mNone\u001B[39;00m:\n\u001B[0;32m    348\u001B[0m     \u001B[38;5;28mcls\u001B[39m \u001B[38;5;241m=\u001B[39m JSONDecoder\n",
      "File \u001B[1;32m~\\AppData\\Local\\Programs\\Python\\Python311\\Lib\\json\\decoder.py:337\u001B[0m, in \u001B[0;36mJSONDecoder.decode\u001B[1;34m(self, s, _w)\u001B[0m\n\u001B[0;32m    332\u001B[0m \u001B[38;5;28;01mdef\u001B[39;00m \u001B[38;5;21mdecode\u001B[39m(\u001B[38;5;28mself\u001B[39m, s, _w\u001B[38;5;241m=\u001B[39mWHITESPACE\u001B[38;5;241m.\u001B[39mmatch):\n\u001B[0;32m    333\u001B[0m \u001B[38;5;250m    \u001B[39m\u001B[38;5;124;03m\"\"\"Return the Python representation of ``s`` (a ``str`` instance\u001B[39;00m\n\u001B[0;32m    334\u001B[0m \u001B[38;5;124;03m    containing a JSON document).\u001B[39;00m\n\u001B[0;32m    335\u001B[0m \n\u001B[0;32m    336\u001B[0m \u001B[38;5;124;03m    \"\"\"\u001B[39;00m\n\u001B[1;32m--> 337\u001B[0m     obj, end \u001B[38;5;241m=\u001B[39m \u001B[38;5;28;43mself\u001B[39;49m\u001B[38;5;241;43m.\u001B[39;49m\u001B[43mraw_decode\u001B[49m\u001B[43m(\u001B[49m\u001B[43ms\u001B[49m\u001B[43m,\u001B[49m\u001B[43m \u001B[49m\u001B[43midx\u001B[49m\u001B[38;5;241;43m=\u001B[39;49m\u001B[43m_w\u001B[49m\u001B[43m(\u001B[49m\u001B[43ms\u001B[49m\u001B[43m,\u001B[49m\u001B[43m \u001B[49m\u001B[38;5;241;43m0\u001B[39;49m\u001B[43m)\u001B[49m\u001B[38;5;241;43m.\u001B[39;49m\u001B[43mend\u001B[49m\u001B[43m(\u001B[49m\u001B[43m)\u001B[49m\u001B[43m)\u001B[49m\n\u001B[0;32m    338\u001B[0m     end \u001B[38;5;241m=\u001B[39m _w(s, end)\u001B[38;5;241m.\u001B[39mend()\n\u001B[0;32m    339\u001B[0m     \u001B[38;5;28;01mif\u001B[39;00m end \u001B[38;5;241m!=\u001B[39m \u001B[38;5;28mlen\u001B[39m(s):\n",
      "File \u001B[1;32m~\\AppData\\Local\\Programs\\Python\\Python311\\Lib\\json\\decoder.py:355\u001B[0m, in \u001B[0;36mJSONDecoder.raw_decode\u001B[1;34m(self, s, idx)\u001B[0m\n\u001B[0;32m    353\u001B[0m     obj, end \u001B[38;5;241m=\u001B[39m \u001B[38;5;28mself\u001B[39m\u001B[38;5;241m.\u001B[39mscan_once(s, idx)\n\u001B[0;32m    354\u001B[0m \u001B[38;5;28;01mexcept\u001B[39;00m \u001B[38;5;167;01mStopIteration\u001B[39;00m \u001B[38;5;28;01mas\u001B[39;00m err:\n\u001B[1;32m--> 355\u001B[0m     \u001B[38;5;28;01mraise\u001B[39;00m JSONDecodeError(\u001B[38;5;124m\"\u001B[39m\u001B[38;5;124mExpecting value\u001B[39m\u001B[38;5;124m\"\u001B[39m, s, err\u001B[38;5;241m.\u001B[39mvalue) \u001B[38;5;28;01mfrom\u001B[39;00m \u001B[38;5;28;01mNone\u001B[39;00m\n\u001B[0;32m    356\u001B[0m \u001B[38;5;28;01mreturn\u001B[39;00m obj, end\n",
      "\u001B[1;31mJSONDecodeError\u001B[0m: Expecting value: line 1 column 1 (char 0)"
     ]
    }
   ],
   "execution_count": 15
  },
  {
   "metadata": {
    "ExecuteTime": {
     "end_time": "2024-10-25T13:05:34.218459Z",
     "start_time": "2024-10-25T13:05:34.211960Z"
    }
   },
   "cell_type": "code",
   "source": [
    "def merge_and_transform(df):\n",
    "    customer_txt = []\n",
    "    counselor_txt = []\n",
    "\n",
    "    current_speaker_type = df.iloc[0]['speaker_type'][:-1]  # 고객1 -> 고객\n",
    "    current_txt = []\n",
    "\n",
    "    for i, row in df.iterrows():\n",
    "        normalized_speaker_type = row['speaker_type'][:-1]  # speaker_type 정규화\n",
    "        \n",
    "        if normalized_speaker_type == current_speaker_type:\n",
    "            current_txt.append(row['txt'])\n",
    "        else:\n",
    "            if current_speaker_type == '고객':\n",
    "                customer_txt.append(\" \".join(current_txt))\n",
    "            else:\n",
    "                counselor_txt.append(\" \".join(current_txt))\n",
    "\n",
    "            current_speaker_type = normalized_speaker_type\n",
    "            current_txt = [row['txt']]\n",
    "    \n",
    "    # 마지막 대화 누적\n",
    "    if current_speaker_type == '고객':\n",
    "        customer_txt.append(\" \".join(current_txt))\n",
    "    else:\n",
    "        counselor_txt.append(\" \".join(current_txt))\n",
    "\n",
    "    # 고객 대화가 더 많다면 마지막 항목을 제거\n",
    "    if len(customer_txt) > len(counselor_txt):\n",
    "        customer_txt = customer_txt[:-1]\n",
    "\n",
    "    # X(고객 대화), Y(상담사 대화), label로 새로운 DataFrame 생성\n",
    "    final_df = pd.DataFrame({\n",
    "        'X': customer_txt,\n",
    "        'Y': counselor_txt,\n",
    "        'label': df['label'].iloc[0]  # 모든 대화가 같은 label을 갖는다고 가정\n",
    "    })\n",
    "\n",
    "    return final_df"
   ],
   "id": "551ff16852962e74",
   "outputs": [],
   "execution_count": 29
  },
  {
   "metadata": {
    "ExecuteTime": {
     "end_time": "2024-10-25T13:05:55.390007Z",
     "start_time": "2024-10-25T13:05:52.507094Z"
    }
   },
   "cell_type": "code",
   "source": [
    "# Process the dataframe\n",
    "merged_df = merge_and_transform(test_df)\n"
   ],
   "id": "5f4f0d1747c4d9bd",
   "outputs": [],
   "execution_count": 30
  },
  {
   "metadata": {
    "ExecuteTime": {
     "end_time": "2024-10-25T13:05:57.192021Z",
     "start_time": "2024-10-25T13:05:57.039489Z"
    }
   },
   "cell_type": "code",
   "source": [
    "print(merged_df.shape)\n",
    "merged_df.to_csv(f\"data_file/merged_df{folder_no}.csv\", encoding='utf-8', index=False)"
   ],
   "id": "855f40628944780a",
   "outputs": [
    {
     "name": "stdout",
     "output_type": "stream",
     "text": [
      "(41218, 3)\n"
     ]
    }
   ],
   "execution_count": 31
  },
  {
   "metadata": {
    "ExecuteTime": {
     "end_time": "2024-10-25T02:29:39.973826Z",
     "start_time": "2024-10-25T02:29:39.965192Z"
    }
   },
   "cell_type": "code",
   "source": "merged_df.isna().sum()",
   "id": "ea3ebc9b300883a4",
   "outputs": [
    {
     "data": {
      "text/plain": [
       "X        0\n",
       "Y        0\n",
       "label    0\n",
       "dtype: int64"
      ]
     },
     "execution_count": 99,
     "metadata": {},
     "output_type": "execute_result"
    }
   ],
   "execution_count": 99
  },
  {
   "metadata": {
    "ExecuteTime": {
     "end_time": "2024-10-25T02:29:42.710024Z",
     "start_time": "2024-10-25T02:29:42.703582Z"
    }
   },
   "cell_type": "code",
   "source": "merged_df",
   "id": "551498bd9803c345",
   "outputs": [
    {
     "data": {
      "text/plain": [
       "                                                       X  \\\n",
       "0                                              네, 안녕하세요?   \n",
       "1                  다름이 아니고 저희 아들이 디딤 씨앗 통장을. 해지하려고 하는데요.   \n",
       "2                                              네, 알겠습니다.   \n",
       "3                                              네, 알겠습니다.   \n",
       "4           아 저 몇 가지 여쭤볼 게 있어가지고요. 여쭤보려면 어디로 통화를 해야 되나요?   \n",
       "...                                                  ...   \n",
       "65845  아니 그거 저기 뭐꼬 희망 근로나 저 저 뭐 공공 근로 이런 거 하면은 이게 아는 ...   \n",
       "65846      콜 아까도 그러면 콜센터에서 전화를 받으셨습니까? 여자분 받을 때도 콜센터입니까?   \n",
       "65847  그래 제가 1 마디만 더 드릴 테니까 그거는. 사람이 일을 오래 하니까 뒤에 들어간...   \n",
       "65848  아 그거는 고마 그러면 담당자를 또 통화하면은 고마 제가 지금 여기 치과에 왔거든요...   \n",
       "65849  아 제 연락처를요? 아 제 연락처는 그만 놔 두고. l 놔 두고 이 저기 공공 사업...   \n",
       "\n",
       "                                                       Y label  \n",
       "0                                             네, 안녕하십니까?    복지  \n",
       "1              죄송합니다만 제가 답변이 어렵기 때문에 담당자 연결해 드리도록 하겠습니다.    복지  \n",
       "2           고객님 혹시라도 연결 중 전화가 끊긴다면. 예, 담당자 바로 연결해드리겠습니다.    복지  \n",
       "3      네, 좋은 상담 이어 가세요. 고객님께서 디딤 씨앗 통장 해지 관련으로 문의하세요....    복지  \n",
       "4                                   혹시 어떤 불편사항이신가요? 고객님.    복지  \n",
       "...                                                  ...   ...  \n",
       "65845                 제가 담당자가 아니고 저희도 콜센턴데요. 담당자를 직접 연결해    복지  \n",
       "65846  아까도 콜센터에서 받으셨는지는 제가 지금 확인은 어렵고 전화번호를 말씀해 주셔야지 ...    복지  \n",
       "65847  지금 먼저 접수해 주신 내용이 있다면 담당자에게 직접 전달될 수 있도록 연결해 봐 ...    복지  \n",
       "65848                                        전달해 드리겠습니다.    복지  \n",
       "65849  연락처를 남겨주시지 않을 경우에 원활히 접수 처리되지 못할 수 있으니 양해 부탁 드...    복지  \n",
       "\n",
       "[65850 rows x 3 columns]"
      ],
      "text/html": [
       "<div>\n",
       "<style scoped>\n",
       "    .dataframe tbody tr th:only-of-type {\n",
       "        vertical-align: middle;\n",
       "    }\n",
       "\n",
       "    .dataframe tbody tr th {\n",
       "        vertical-align: top;\n",
       "    }\n",
       "\n",
       "    .dataframe thead th {\n",
       "        text-align: right;\n",
       "    }\n",
       "</style>\n",
       "<table border=\"1\" class=\"dataframe\">\n",
       "  <thead>\n",
       "    <tr style=\"text-align: right;\">\n",
       "      <th></th>\n",
       "      <th>X</th>\n",
       "      <th>Y</th>\n",
       "      <th>label</th>\n",
       "    </tr>\n",
       "  </thead>\n",
       "  <tbody>\n",
       "    <tr>\n",
       "      <th>0</th>\n",
       "      <td>네, 안녕하세요?</td>\n",
       "      <td>네, 안녕하십니까?</td>\n",
       "      <td>복지</td>\n",
       "    </tr>\n",
       "    <tr>\n",
       "      <th>1</th>\n",
       "      <td>다름이 아니고 저희 아들이 디딤 씨앗 통장을. 해지하려고 하는데요.</td>\n",
       "      <td>죄송합니다만 제가 답변이 어렵기 때문에 담당자 연결해 드리도록 하겠습니다.</td>\n",
       "      <td>복지</td>\n",
       "    </tr>\n",
       "    <tr>\n",
       "      <th>2</th>\n",
       "      <td>네, 알겠습니다.</td>\n",
       "      <td>고객님 혹시라도 연결 중 전화가 끊긴다면. 예, 담당자 바로 연결해드리겠습니다.</td>\n",
       "      <td>복지</td>\n",
       "    </tr>\n",
       "    <tr>\n",
       "      <th>3</th>\n",
       "      <td>네, 알겠습니다.</td>\n",
       "      <td>네, 좋은 상담 이어 가세요. 고객님께서 디딤 씨앗 통장 해지 관련으로 문의하세요....</td>\n",
       "      <td>복지</td>\n",
       "    </tr>\n",
       "    <tr>\n",
       "      <th>4</th>\n",
       "      <td>아 저 몇 가지 여쭤볼 게 있어가지고요. 여쭤보려면 어디로 통화를 해야 되나요?</td>\n",
       "      <td>혹시 어떤 불편사항이신가요? 고객님.</td>\n",
       "      <td>복지</td>\n",
       "    </tr>\n",
       "    <tr>\n",
       "      <th>...</th>\n",
       "      <td>...</td>\n",
       "      <td>...</td>\n",
       "      <td>...</td>\n",
       "    </tr>\n",
       "    <tr>\n",
       "      <th>65845</th>\n",
       "      <td>아니 그거 저기 뭐꼬 희망 근로나 저 저 뭐 공공 근로 이런 거 하면은 이게 아는 ...</td>\n",
       "      <td>제가 담당자가 아니고 저희도 콜센턴데요. 담당자를 직접 연결해</td>\n",
       "      <td>복지</td>\n",
       "    </tr>\n",
       "    <tr>\n",
       "      <th>65846</th>\n",
       "      <td>콜 아까도 그러면 콜센터에서 전화를 받으셨습니까? 여자분 받을 때도 콜센터입니까?</td>\n",
       "      <td>아까도 콜센터에서 받으셨는지는 제가 지금 확인은 어렵고 전화번호를 말씀해 주셔야지 ...</td>\n",
       "      <td>복지</td>\n",
       "    </tr>\n",
       "    <tr>\n",
       "      <th>65847</th>\n",
       "      <td>그래 제가 1 마디만 더 드릴 테니까 그거는. 사람이 일을 오래 하니까 뒤에 들어간...</td>\n",
       "      <td>지금 먼저 접수해 주신 내용이 있다면 담당자에게 직접 전달될 수 있도록 연결해 봐 ...</td>\n",
       "      <td>복지</td>\n",
       "    </tr>\n",
       "    <tr>\n",
       "      <th>65848</th>\n",
       "      <td>아 그거는 고마 그러면 담당자를 또 통화하면은 고마 제가 지금 여기 치과에 왔거든요...</td>\n",
       "      <td>전달해 드리겠습니다.</td>\n",
       "      <td>복지</td>\n",
       "    </tr>\n",
       "    <tr>\n",
       "      <th>65849</th>\n",
       "      <td>아 제 연락처를요? 아 제 연락처는 그만 놔 두고. l 놔 두고 이 저기 공공 사업...</td>\n",
       "      <td>연락처를 남겨주시지 않을 경우에 원활히 접수 처리되지 못할 수 있으니 양해 부탁 드...</td>\n",
       "      <td>복지</td>\n",
       "    </tr>\n",
       "  </tbody>\n",
       "</table>\n",
       "<p>65850 rows × 3 columns</p>\n",
       "</div>"
      ]
     },
     "execution_count": 100,
     "metadata": {},
     "output_type": "execute_result"
    }
   ],
   "execution_count": 100
  }
 ],
 "metadata": {
  "kernelspec": {
   "display_name": "Python 3",
   "language": "python",
   "name": "python3"
  },
  "language_info": {
   "codemirror_mode": {
    "name": "ipython",
    "version": 2
   },
   "file_extension": ".py",
   "mimetype": "text/x-python",
   "name": "python",
   "nbconvert_exporter": "python",
   "pygments_lexer": "ipython2",
   "version": "2.7.6"
  }
 },
 "nbformat": 4,
 "nbformat_minor": 5
}
